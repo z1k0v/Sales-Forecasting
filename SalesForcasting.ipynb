{
  "nbformat": 4,
  "nbformat_minor": 0,
  "metadata": {
    "colab": {
      "provenance": [],
      "gpuType": "T4",
      "authorship_tag": "ABX9TyMw4OvrJTSlQRWWi4SVNGdB",
      "include_colab_link": true
    },
    "kernelspec": {
      "name": "python3",
      "display_name": "Python 3"
    },
    "language_info": {
      "name": "python"
    },
    "accelerator": "GPU",
    "widgets": {
      "application/vnd.jupyter.widget-state+json": {
        "2b5684dd707c429ea0a2839ed03e9b68": {
          "model_module": "@jupyter-widgets/controls",
          "model_name": "ButtonModel",
          "model_module_version": "2.0.0",
          "state": {
            "_dom_classes": [],
            "_model_module": "@jupyter-widgets/controls",
            "_model_module_version": "2.0.0",
            "_model_name": "ButtonModel",
            "_view_count": null,
            "_view_module": "@jupyter-widgets/controls",
            "_view_module_version": "2.0.0",
            "_view_name": "ButtonView",
            "button_style": "danger",
            "description": "Request a quote",
            "disabled": false,
            "icon": "",
            "layout": "IPY_MODEL_28915098c9174831bc32288f8271ecdd",
            "style": "IPY_MODEL_93226e48cfa44815a3eafb4b89742d0d",
            "tabbable": null,
            "tooltip": null
          }
        },
        "28915098c9174831bc32288f8271ecdd": {
          "model_module": "@jupyter-widgets/base",
          "model_name": "LayoutModel",
          "model_module_version": "2.0.0",
          "state": {
            "_model_module": "@jupyter-widgets/base",
            "_model_module_version": "2.0.0",
            "_model_name": "LayoutModel",
            "_view_count": null,
            "_view_module": "@jupyter-widgets/base",
            "_view_module_version": "2.0.0",
            "_view_name": "LayoutView",
            "align_content": null,
            "align_items": null,
            "align_self": null,
            "border_bottom": null,
            "border_left": null,
            "border_right": null,
            "border_top": null,
            "bottom": null,
            "display": null,
            "flex": null,
            "flex_flow": null,
            "grid_area": null,
            "grid_auto_columns": null,
            "grid_auto_flow": null,
            "grid_auto_rows": null,
            "grid_column": null,
            "grid_gap": null,
            "grid_row": null,
            "grid_template_areas": null,
            "grid_template_columns": null,
            "grid_template_rows": null,
            "height": null,
            "justify_content": null,
            "justify_items": null,
            "left": null,
            "margin": null,
            "max_height": null,
            "max_width": null,
            "min_height": null,
            "min_width": null,
            "object_fit": null,
            "object_position": null,
            "order": null,
            "overflow": null,
            "padding": null,
            "right": null,
            "top": null,
            "visibility": null,
            "width": null
          }
        },
        "93226e48cfa44815a3eafb4b89742d0d": {
          "model_module": "@jupyter-widgets/controls",
          "model_name": "ButtonStyleModel",
          "model_module_version": "2.0.0",
          "state": {
            "_model_module": "@jupyter-widgets/controls",
            "_model_module_version": "2.0.0",
            "_model_name": "ButtonStyleModel",
            "_view_count": null,
            "_view_module": "@jupyter-widgets/base",
            "_view_module_version": "2.0.0",
            "_view_name": "StyleView",
            "button_color": null,
            "font_family": null,
            "font_size": null,
            "font_style": null,
            "font_variant": null,
            "font_weight": null,
            "text_color": null,
            "text_decoration": null
          }
        }
      }
    }
  },
  "cells": [
    {
      "cell_type": "markdown",
      "metadata": {
        "id": "view-in-github",
        "colab_type": "text"
      },
      "source": [
        "<a href=\"https://colab.research.google.com/github/z1k0v/Sales-Forecasting/blob/main/SalesForcasting.ipynb\" target=\"_parent\"><img src=\"https://colab.research.google.com/assets/colab-badge.svg\" alt=\"Open In Colab\"/></a>"
      ]
    },
    {
      "cell_type": "code",
      "execution_count": 4,
      "metadata": {
        "id": "2cH1bSNf7WR4"
      },
      "outputs": [],
      "source": [
        "%pip install -Uq upgini catboost"
      ]
    },
    {
      "cell_type": "code",
      "source": [
        "from os.path import exists\n",
        "import pandas as pd\n",
        "\n",
        "df_path = \"train.csv.zip\" if exists(\"train.csv.zip\") else \"https://github.com/z1k0v/Sales-Forecasting/blob/main/train.csv.zip\"\n",
        "df = pd.read_csv(df_path)\n",
        "df = df.sample(n=19_000, random_state=0)\n",
        "df[\"store\"] = df[\"store\"].astype(str)\n",
        "df[\"item\"] = df[\"item\"].astype(str)\n",
        "\n",
        "df[\"date\"] = pd.to_datetime(df[\"date\"])\n",
        "\n",
        "df.sort_values(\"date\", inplace=True)\n",
        "df.reset_index(inplace=True, drop=True)\n",
        "df.head()\n"
      ],
      "metadata": {
        "colab": {
          "base_uri": "https://localhost:8080/",
          "height": 206
        },
        "id": "rWuvgqje-buH",
        "outputId": "3dc68f9d-1421-47b6-f5cd-1a29b054cfb3"
      },
      "execution_count": 5,
      "outputs": [
        {
          "output_type": "execute_result",
          "data": {
            "text/plain": [
              "        date store item  sales\n",
              "0 2013-01-01     7    5      5\n",
              "1 2013-01-01     4    9     19\n",
              "2 2013-01-01     1   33     37\n",
              "3 2013-01-01     3   41     14\n",
              "4 2013-01-01     5   24     26"
            ],
            "text/html": [
              "\n",
              "  <div id=\"df-ef805c7b-fe20-40e3-a00a-bb25ca2ada1d\" class=\"colab-df-container\">\n",
              "    <div>\n",
              "<style scoped>\n",
              "    .dataframe tbody tr th:only-of-type {\n",
              "        vertical-align: middle;\n",
              "    }\n",
              "\n",
              "    .dataframe tbody tr th {\n",
              "        vertical-align: top;\n",
              "    }\n",
              "\n",
              "    .dataframe thead th {\n",
              "        text-align: right;\n",
              "    }\n",
              "</style>\n",
              "<table border=\"1\" class=\"dataframe\">\n",
              "  <thead>\n",
              "    <tr style=\"text-align: right;\">\n",
              "      <th></th>\n",
              "      <th>date</th>\n",
              "      <th>store</th>\n",
              "      <th>item</th>\n",
              "      <th>sales</th>\n",
              "    </tr>\n",
              "  </thead>\n",
              "  <tbody>\n",
              "    <tr>\n",
              "      <th>0</th>\n",
              "      <td>2013-01-01</td>\n",
              "      <td>7</td>\n",
              "      <td>5</td>\n",
              "      <td>5</td>\n",
              "    </tr>\n",
              "    <tr>\n",
              "      <th>1</th>\n",
              "      <td>2013-01-01</td>\n",
              "      <td>4</td>\n",
              "      <td>9</td>\n",
              "      <td>19</td>\n",
              "    </tr>\n",
              "    <tr>\n",
              "      <th>2</th>\n",
              "      <td>2013-01-01</td>\n",
              "      <td>1</td>\n",
              "      <td>33</td>\n",
              "      <td>37</td>\n",
              "    </tr>\n",
              "    <tr>\n",
              "      <th>3</th>\n",
              "      <td>2013-01-01</td>\n",
              "      <td>3</td>\n",
              "      <td>41</td>\n",
              "      <td>14</td>\n",
              "    </tr>\n",
              "    <tr>\n",
              "      <th>4</th>\n",
              "      <td>2013-01-01</td>\n",
              "      <td>5</td>\n",
              "      <td>24</td>\n",
              "      <td>26</td>\n",
              "    </tr>\n",
              "  </tbody>\n",
              "</table>\n",
              "</div>\n",
              "    <div class=\"colab-df-buttons\">\n",
              "\n",
              "  <div class=\"colab-df-container\">\n",
              "    <button class=\"colab-df-convert\" onclick=\"convertToInteractive('df-ef805c7b-fe20-40e3-a00a-bb25ca2ada1d')\"\n",
              "            title=\"Convert this dataframe to an interactive table.\"\n",
              "            style=\"display:none;\">\n",
              "\n",
              "  <svg xmlns=\"http://www.w3.org/2000/svg\" height=\"24px\" viewBox=\"0 -960 960 960\">\n",
              "    <path d=\"M120-120v-720h720v720H120Zm60-500h600v-160H180v160Zm220 220h160v-160H400v160Zm0 220h160v-160H400v160ZM180-400h160v-160H180v160Zm440 0h160v-160H620v160ZM180-180h160v-160H180v160Zm440 0h160v-160H620v160Z\"/>\n",
              "  </svg>\n",
              "    </button>\n",
              "\n",
              "  <style>\n",
              "    .colab-df-container {\n",
              "      display:flex;\n",
              "      gap: 12px;\n",
              "    }\n",
              "\n",
              "    .colab-df-convert {\n",
              "      background-color: #E8F0FE;\n",
              "      border: none;\n",
              "      border-radius: 50%;\n",
              "      cursor: pointer;\n",
              "      display: none;\n",
              "      fill: #1967D2;\n",
              "      height: 32px;\n",
              "      padding: 0 0 0 0;\n",
              "      width: 32px;\n",
              "    }\n",
              "\n",
              "    .colab-df-convert:hover {\n",
              "      background-color: #E2EBFA;\n",
              "      box-shadow: 0px 1px 2px rgba(60, 64, 67, 0.3), 0px 1px 3px 1px rgba(60, 64, 67, 0.15);\n",
              "      fill: #174EA6;\n",
              "    }\n",
              "\n",
              "    .colab-df-buttons div {\n",
              "      margin-bottom: 4px;\n",
              "    }\n",
              "\n",
              "    [theme=dark] .colab-df-convert {\n",
              "      background-color: #3B4455;\n",
              "      fill: #D2E3FC;\n",
              "    }\n",
              "\n",
              "    [theme=dark] .colab-df-convert:hover {\n",
              "      background-color: #434B5C;\n",
              "      box-shadow: 0px 1px 3px 1px rgba(0, 0, 0, 0.15);\n",
              "      filter: drop-shadow(0px 1px 2px rgba(0, 0, 0, 0.3));\n",
              "      fill: #FFFFFF;\n",
              "    }\n",
              "  </style>\n",
              "\n",
              "    <script>\n",
              "      const buttonEl =\n",
              "        document.querySelector('#df-ef805c7b-fe20-40e3-a00a-bb25ca2ada1d button.colab-df-convert');\n",
              "      buttonEl.style.display =\n",
              "        google.colab.kernel.accessAllowed ? 'block' : 'none';\n",
              "\n",
              "      async function convertToInteractive(key) {\n",
              "        const element = document.querySelector('#df-ef805c7b-fe20-40e3-a00a-bb25ca2ada1d');\n",
              "        const dataTable =\n",
              "          await google.colab.kernel.invokeFunction('convertToInteractive',\n",
              "                                                    [key], {});\n",
              "        if (!dataTable) return;\n",
              "\n",
              "        const docLinkHtml = 'Like what you see? Visit the ' +\n",
              "          '<a target=\"_blank\" href=https://colab.research.google.com/notebooks/data_table.ipynb>data table notebook</a>'\n",
              "          + ' to learn more about interactive tables.';\n",
              "        element.innerHTML = '';\n",
              "        dataTable['output_type'] = 'display_data';\n",
              "        await google.colab.output.renderOutput(dataTable, element);\n",
              "        const docLink = document.createElement('div');\n",
              "        docLink.innerHTML = docLinkHtml;\n",
              "        element.appendChild(docLink);\n",
              "      }\n",
              "    </script>\n",
              "  </div>\n",
              "\n",
              "\n",
              "<div id=\"df-092dd9dc-36d5-4e29-9d6b-760538418548\">\n",
              "  <button class=\"colab-df-quickchart\" onclick=\"quickchart('df-092dd9dc-36d5-4e29-9d6b-760538418548')\"\n",
              "            title=\"Suggest charts\"\n",
              "            style=\"display:none;\">\n",
              "\n",
              "<svg xmlns=\"http://www.w3.org/2000/svg\" height=\"24px\"viewBox=\"0 0 24 24\"\n",
              "     width=\"24px\">\n",
              "    <g>\n",
              "        <path d=\"M19 3H5c-1.1 0-2 .9-2 2v14c0 1.1.9 2 2 2h14c1.1 0 2-.9 2-2V5c0-1.1-.9-2-2-2zM9 17H7v-7h2v7zm4 0h-2V7h2v10zm4 0h-2v-4h2v4z\"/>\n",
              "    </g>\n",
              "</svg>\n",
              "  </button>\n",
              "\n",
              "<style>\n",
              "  .colab-df-quickchart {\n",
              "      --bg-color: #E8F0FE;\n",
              "      --fill-color: #1967D2;\n",
              "      --hover-bg-color: #E2EBFA;\n",
              "      --hover-fill-color: #174EA6;\n",
              "      --disabled-fill-color: #AAA;\n",
              "      --disabled-bg-color: #DDD;\n",
              "  }\n",
              "\n",
              "  [theme=dark] .colab-df-quickchart {\n",
              "      --bg-color: #3B4455;\n",
              "      --fill-color: #D2E3FC;\n",
              "      --hover-bg-color: #434B5C;\n",
              "      --hover-fill-color: #FFFFFF;\n",
              "      --disabled-bg-color: #3B4455;\n",
              "      --disabled-fill-color: #666;\n",
              "  }\n",
              "\n",
              "  .colab-df-quickchart {\n",
              "    background-color: var(--bg-color);\n",
              "    border: none;\n",
              "    border-radius: 50%;\n",
              "    cursor: pointer;\n",
              "    display: none;\n",
              "    fill: var(--fill-color);\n",
              "    height: 32px;\n",
              "    padding: 0;\n",
              "    width: 32px;\n",
              "  }\n",
              "\n",
              "  .colab-df-quickchart:hover {\n",
              "    background-color: var(--hover-bg-color);\n",
              "    box-shadow: 0 1px 2px rgba(60, 64, 67, 0.3), 0 1px 3px 1px rgba(60, 64, 67, 0.15);\n",
              "    fill: var(--button-hover-fill-color);\n",
              "  }\n",
              "\n",
              "  .colab-df-quickchart-complete:disabled,\n",
              "  .colab-df-quickchart-complete:disabled:hover {\n",
              "    background-color: var(--disabled-bg-color);\n",
              "    fill: var(--disabled-fill-color);\n",
              "    box-shadow: none;\n",
              "  }\n",
              "\n",
              "  .colab-df-spinner {\n",
              "    border: 2px solid var(--fill-color);\n",
              "    border-color: transparent;\n",
              "    border-bottom-color: var(--fill-color);\n",
              "    animation:\n",
              "      spin 1s steps(1) infinite;\n",
              "  }\n",
              "\n",
              "  @keyframes spin {\n",
              "    0% {\n",
              "      border-color: transparent;\n",
              "      border-bottom-color: var(--fill-color);\n",
              "      border-left-color: var(--fill-color);\n",
              "    }\n",
              "    20% {\n",
              "      border-color: transparent;\n",
              "      border-left-color: var(--fill-color);\n",
              "      border-top-color: var(--fill-color);\n",
              "    }\n",
              "    30% {\n",
              "      border-color: transparent;\n",
              "      border-left-color: var(--fill-color);\n",
              "      border-top-color: var(--fill-color);\n",
              "      border-right-color: var(--fill-color);\n",
              "    }\n",
              "    40% {\n",
              "      border-color: transparent;\n",
              "      border-right-color: var(--fill-color);\n",
              "      border-top-color: var(--fill-color);\n",
              "    }\n",
              "    60% {\n",
              "      border-color: transparent;\n",
              "      border-right-color: var(--fill-color);\n",
              "    }\n",
              "    80% {\n",
              "      border-color: transparent;\n",
              "      border-right-color: var(--fill-color);\n",
              "      border-bottom-color: var(--fill-color);\n",
              "    }\n",
              "    90% {\n",
              "      border-color: transparent;\n",
              "      border-bottom-color: var(--fill-color);\n",
              "    }\n",
              "  }\n",
              "</style>\n",
              "\n",
              "  <script>\n",
              "    async function quickchart(key) {\n",
              "      const quickchartButtonEl =\n",
              "        document.querySelector('#' + key + ' button');\n",
              "      quickchartButtonEl.disabled = true;  // To prevent multiple clicks.\n",
              "      quickchartButtonEl.classList.add('colab-df-spinner');\n",
              "      try {\n",
              "        const charts = await google.colab.kernel.invokeFunction(\n",
              "            'suggestCharts', [key], {});\n",
              "      } catch (error) {\n",
              "        console.error('Error during call to suggestCharts:', error);\n",
              "      }\n",
              "      quickchartButtonEl.classList.remove('colab-df-spinner');\n",
              "      quickchartButtonEl.classList.add('colab-df-quickchart-complete');\n",
              "    }\n",
              "    (() => {\n",
              "      let quickchartButtonEl =\n",
              "        document.querySelector('#df-092dd9dc-36d5-4e29-9d6b-760538418548 button');\n",
              "      quickchartButtonEl.style.display =\n",
              "        google.colab.kernel.accessAllowed ? 'block' : 'none';\n",
              "    })();\n",
              "  </script>\n",
              "</div>\n",
              "\n",
              "    </div>\n",
              "  </div>\n"
            ],
            "application/vnd.google.colaboratory.intrinsic+json": {
              "type": "dataframe",
              "variable_name": "df",
              "summary": "{\n  \"name\": \"df\",\n  \"rows\": 19000,\n  \"fields\": [\n    {\n      \"column\": \"date\",\n      \"properties\": {\n        \"dtype\": \"date\",\n        \"min\": \"2013-01-01 00:00:00\",\n        \"max\": \"2017-12-31 00:00:00\",\n        \"num_unique_values\": 1826,\n        \"samples\": [\n          \"2015-09-26 00:00:00\",\n          \"2017-02-27 00:00:00\",\n          \"2013-10-26 00:00:00\"\n        ],\n        \"semantic_type\": \"\",\n        \"description\": \"\"\n      }\n    },\n    {\n      \"column\": \"store\",\n      \"properties\": {\n        \"dtype\": \"category\",\n        \"num_unique_values\": 10,\n        \"samples\": [\n          \"9\",\n          \"4\",\n          \"2\"\n        ],\n        \"semantic_type\": \"\",\n        \"description\": \"\"\n      }\n    },\n    {\n      \"column\": \"item\",\n      \"properties\": {\n        \"dtype\": \"category\",\n        \"num_unique_values\": 50,\n        \"samples\": [\n          \"40\",\n          \"43\",\n          \"20\"\n        ],\n        \"semantic_type\": \"\",\n        \"description\": \"\"\n      }\n    },\n    {\n      \"column\": \"sales\",\n      \"properties\": {\n        \"dtype\": \"number\",\n        \"std\": 28,\n        \"min\": 1,\n        \"max\": 205,\n        \"num_unique_values\": 173,\n        \"samples\": [\n          196,\n          63,\n          94\n        ],\n        \"semantic_type\": \"\",\n        \"description\": \"\"\n      }\n    }\n  ]\n}"
            }
          },
          "metadata": {},
          "execution_count": 5
        }
      ]
    },
    {
      "cell_type": "code",
      "source": [
        "train = df[df[\"date\"] < \"2017-01-01\"]\n",
        "test =df[df[\"date\"] >= \"2017-01-01\"]"
      ],
      "metadata": {
        "id": "MABC7nEXBtKI"
      },
      "execution_count": 6,
      "outputs": []
    },
    {
      "cell_type": "code",
      "source": [
        "train_features = train.drop(columns=[\"sales\"])\n",
        "train_target = train[\"sales\"]\n",
        "test_features = test.drop(columns=[\"sales\"])\n",
        "test_target = test[\"sales\"]"
      ],
      "metadata": {
        "id": "JYnAGuTXCebQ"
      },
      "execution_count": 7,
      "outputs": []
    },
    {
      "cell_type": "markdown",
      "source": [
        "**Enrich Features**"
      ],
      "metadata": {
        "id": "bZfhMXE3DAII"
      }
    },
    {
      "cell_type": "code",
      "source": [
        "from upgini import FeaturesEnricher, SearchKey\n",
        "from upgini.metadata import CVType\n",
        "\n",
        "# search_keys = {\n",
        "#     \"date\": SearchKey.DATE,\n",
        "#     \"id\": SearchKey.ID\n",
        "# }\n",
        "\n",
        "# enricher = FeaturesEnricher(\n",
        "#     search_keys=search_keys,  # Note the correct plural form \"search_keys\"\n",
        "#     cv=CVType.k_fold(n_splits=5)\n",
        "# )\n",
        "\n",
        "enricher = FeaturesEnricher(\n",
        "    search_keys= {\n",
        "        \"date\": SearchKey.DATE,\n",
        "    },\n",
        "    # date_format = \"%Y-%d-%m\",\n",
        "    cv = CVType.time_series\n",
        ")\n",
        "\n",
        "enricher.fit(train_features,\n",
        "             train_target,\n",
        "             eval_set=[(test_features, test_target)])"
      ],
      "metadata": {
        "colab": {
          "base_uri": "https://localhost:8080/",
          "height": 1000
        },
        "id": "KxMVxbL4DEq4",
        "outputId": "856e1b02-ea53-4289-b46f-abc70db4598a"
      },
      "execution_count": 8,
      "outputs": [
        {
          "output_type": "display_data",
          "data": {
            "text/plain": [
              "[============================================================] 100% Finished"
            ],
            "text/html": [
              "<progress style='width:60ex' max='100' value='100'></progress>  100% Finished</br>"
            ]
          },
          "metadata": {}
        },
        {
          "output_type": "display_data",
          "data": {
            "text/plain": [
              "<IPython.core.display.Javascript object>"
            ],
            "application/javascript": [
              "\n",
              "                    async function getVisitorId() {\n",
              "                        return import('https://upgini.github.io/upgini/js/a.js')\n",
              "                            .then(FingerprintJS => FingerprintJS.load())\n",
              "                            .then(fp => fp.get())\n",
              "                            .then(result => result.visitorId);\n",
              "                    }\n",
              "                    "
            ]
          },
          "metadata": {}
        },
        {
          "output_type": "display_data",
          "data": {
            "text/plain": [
              "<IPython.core.display.Javascript object>"
            ],
            "application/javascript": [
              "\n",
              "                    async function getVisitorId() {\n",
              "                        return import('https://upgini.github.io/upgini/js/a.js')\n",
              "                            .then(FingerprintJS => FingerprintJS.load())\n",
              "                            .then(fp => fp.get())\n",
              "                            .then(result => result.visitorId);\n",
              "                    }\n",
              "                    "
            ]
          },
          "metadata": {}
        },
        {
          "output_type": "display_data",
          "data": {
            "text/plain": [
              "<IPython.core.display.Javascript object>"
            ],
            "application/javascript": [
              "\n",
              "                    async function getVisitorId() {\n",
              "                        return import('https://upgini.github.io/upgini/js/a.js')\n",
              "                            .then(FingerprintJS => FingerprintJS.load())\n",
              "                            .then(fp => fp.get())\n",
              "                            .then(result => result.visitorId);\n",
              "                    }\n",
              "                    "
            ]
          },
          "metadata": {}
        },
        {
          "output_type": "display_data",
          "data": {
            "text/plain": [
              "<IPython.core.display.Javascript object>"
            ],
            "application/javascript": [
              "\n",
              "                    async function getVisitorId() {\n",
              "                        return import('https://upgini.github.io/upgini/js/a.js')\n",
              "                            .then(FingerprintJS => FingerprintJS.load())\n",
              "                            .then(fp => fp.get())\n",
              "                            .then(result => result.visitorId);\n",
              "                    }\n",
              "                    "
            ]
          },
          "metadata": {}
        },
        {
          "output_type": "display_data",
          "data": {
            "text/plain": [
              "<IPython.core.display.Javascript object>"
            ],
            "application/javascript": [
              "\n",
              "                    async function getVisitorId() {\n",
              "                        return import('https://upgini.github.io/upgini/js/a.js')\n",
              "                            .then(FingerprintJS => FingerprintJS.load())\n",
              "                            .then(fp => fp.get())\n",
              "                            .then(result => result.visitorId);\n",
              "                    }\n",
              "                    "
            ]
          },
          "metadata": {}
        },
        {
          "output_type": "display_data",
          "data": {
            "text/plain": [
              "<IPython.core.display.Javascript object>"
            ],
            "application/javascript": [
              "\n",
              "                    async function getVisitorId() {\n",
              "                        return import('https://upgini.github.io/upgini/js/a.js')\n",
              "                            .then(FingerprintJS => FingerprintJS.load())\n",
              "                            .then(fp => fp.get())\n",
              "                            .then(result => result.visitorId);\n",
              "                    }\n",
              "                    "
            ]
          },
          "metadata": {}
        },
        {
          "output_type": "display_data",
          "data": {
            "text/plain": [
              "<IPython.core.display.Javascript object>"
            ],
            "application/javascript": [
              "\n",
              "                    async function getVisitorId() {\n",
              "                        return import('https://upgini.github.io/upgini/js/a.js')\n",
              "                            .then(FingerprintJS => FingerprintJS.load())\n",
              "                            .then(fp => fp.get())\n",
              "                            .then(result => result.visitorId);\n",
              "                    }\n",
              "                    "
            ]
          },
          "metadata": {}
        },
        {
          "output_type": "stream",
          "name": "stdout",
          "text": [
            "\n",
            "WARNING: Search started with DATE search key only\n",
            "Try to add other keys like the COUNTRY, POSTAL_CODE, PHONE NUMBER, EMAIL/HEM, IPv4 to your training dataset\n",
            "for search through all the available data sources.\n",
            "See docs https://github.com/upgini/upgini#-total-239-countries-and-up-to-41-years-of-history\n"
          ]
        },
        {
          "output_type": "display_data",
          "data": {
            "text/plain": [
              "<IPython.core.display.Javascript object>"
            ],
            "application/javascript": [
              "\n",
              "                    async function getVisitorId() {\n",
              "                        return import('https://upgini.github.io/upgini/js/a.js')\n",
              "                            .then(FingerprintJS => FingerprintJS.load())\n",
              "                            .then(fp => fp.get())\n",
              "                            .then(result => result.visitorId);\n",
              "                    }\n",
              "                    "
            ]
          },
          "metadata": {}
        },
        {
          "output_type": "display_data",
          "data": {
            "text/plain": [
              "<IPython.core.display.Javascript object>"
            ],
            "application/javascript": [
              "\n",
              "                    async function getVisitorId() {\n",
              "                        return import('https://upgini.github.io/upgini/js/a.js')\n",
              "                            .then(FingerprintJS => FingerprintJS.load())\n",
              "                            .then(fp => fp.get())\n",
              "                            .then(result => result.visitorId);\n",
              "                    }\n",
              "                    "
            ]
          },
          "metadata": {}
        },
        {
          "output_type": "stream",
          "name": "stdout",
          "text": [
            "\n",
            "Detected task type: ModelTaskType.REGRESSION\n",
            "\n"
          ]
        },
        {
          "output_type": "display_data",
          "data": {
            "text/plain": [
              "<IPython.core.display.Javascript object>"
            ],
            "application/javascript": [
              "\n",
              "                    async function getVisitorId() {\n",
              "                        return import('https://upgini.github.io/upgini/js/a.js')\n",
              "                            .then(FingerprintJS => FingerprintJS.load())\n",
              "                            .then(fp => fp.get())\n",
              "                            .then(result => result.visitorId);\n",
              "                    }\n",
              "                    "
            ]
          },
          "metadata": {}
        },
        {
          "output_type": "display_data",
          "data": {
            "text/plain": [
              "<IPython.core.display.Javascript object>"
            ],
            "application/javascript": [
              "\n",
              "                    async function getVisitorId() {\n",
              "                        return import('https://upgini.github.io/upgini/js/a.js')\n",
              "                            .then(FingerprintJS => FingerprintJS.load())\n",
              "                            .then(fp => fp.get())\n",
              "                            .then(result => result.visitorId);\n",
              "                    }\n",
              "                    "
            ]
          },
          "metadata": {}
        },
        {
          "output_type": "display_data",
          "data": {
            "text/plain": [
              "<IPython.core.display.Javascript object>"
            ],
            "application/javascript": [
              "\n",
              "                    async function getVisitorId() {\n",
              "                        return import('https://upgini.github.io/upgini/js/a.js')\n",
              "                            .then(FingerprintJS => FingerprintJS.load())\n",
              "                            .then(fp => fp.get())\n",
              "                            .then(result => result.visitorId);\n",
              "                    }\n",
              "                    "
            ]
          },
          "metadata": {}
        },
        {
          "output_type": "display_data",
          "data": {
            "text/plain": [
              "<IPython.core.display.Javascript object>"
            ],
            "application/javascript": [
              "\n",
              "                    async function getVisitorId() {\n",
              "                        return import('https://upgini.github.io/upgini/js/a.js')\n",
              "                            .then(FingerprintJS => FingerprintJS.load())\n",
              "                            .then(fp => fp.get())\n",
              "                            .then(result => result.visitorId);\n",
              "                    }\n",
              "                    "
            ]
          },
          "metadata": {}
        },
        {
          "output_type": "display_data",
          "data": {
            "text/plain": [
              "<IPython.core.display.Javascript object>"
            ],
            "application/javascript": [
              "\n",
              "                    async function getVisitorId() {\n",
              "                        return import('https://upgini.github.io/upgini/js/a.js')\n",
              "                            .then(FingerprintJS => FingerprintJS.load())\n",
              "                            .then(fp => fp.get())\n",
              "                            .then(result => result.visitorId);\n",
              "                    }\n",
              "                    "
            ]
          },
          "metadata": {}
        },
        {
          "output_type": "stream",
          "name": "stdout",
          "text": [
            "\n"
          ]
        },
        {
          "output_type": "display_data",
          "data": {
            "text/plain": [
              "<IPython.core.display.HTML object>"
            ],
            "text/html": [
              "<table><tr><th style='font-weight:bold'>Column name</th><th style='font-weight:bold'>Status</th><th style='font-weight:bold'>Errors</th></tr><tr><td>date</td><td style='background-color:#DAF7A6;color:black'>All valid</td><td>-</td></tr><tr><td>target</td><td style='background-color:#DAF7A6;color:black'>All valid</td><td>-</td></tr></table>"
            ]
          },
          "metadata": {}
        },
        {
          "output_type": "display_data",
          "data": {
            "text/plain": [
              "<IPython.core.display.Javascript object>"
            ],
            "application/javascript": [
              "\n",
              "                    async function getVisitorId() {\n",
              "                        return import('https://upgini.github.io/upgini/js/a.js')\n",
              "                            .then(FingerprintJS => FingerprintJS.load())\n",
              "                            .then(fp => fp.get())\n",
              "                            .then(result => result.visitorId);\n",
              "                    }\n",
              "                    "
            ]
          },
          "metadata": {}
        },
        {
          "output_type": "display_data",
          "data": {
            "text/plain": [
              "<IPython.core.display.Javascript object>"
            ],
            "application/javascript": [
              "\n",
              "                    async function getVisitorId() {\n",
              "                        return import('https://upgini.github.io/upgini/js/a.js')\n",
              "                            .then(FingerprintJS => FingerprintJS.load())\n",
              "                            .then(fp => fp.get())\n",
              "                            .then(result => result.visitorId);\n",
              "                    }\n",
              "                    "
            ]
          },
          "metadata": {}
        },
        {
          "output_type": "display_data",
          "data": {
            "text/plain": [
              "<IPython.core.display.Javascript object>"
            ],
            "application/javascript": [
              "\n",
              "                        async function getIP() {\n",
              "                            return fetch(\"https://api64.ipify.org\")\n",
              "                                .then(response => response.text())\n",
              "                                .then(data => data);\n",
              "                        }\n",
              "                        "
            ]
          },
          "metadata": {}
        },
        {
          "output_type": "display_data",
          "data": {
            "text/plain": [
              "<IPython.core.display.Javascript object>"
            ],
            "application/javascript": [
              "\n",
              "                        async function getIP() {\n",
              "                            return fetch(\"https://api64.ipify.org\")\n",
              "                                .then(response => response.text())\n",
              "                                .then(data => data);\n",
              "                        }\n",
              "                        "
            ]
          },
          "metadata": {}
        },
        {
          "output_type": "display_data",
          "data": {
            "text/plain": [
              "<IPython.core.display.Javascript object>"
            ],
            "application/javascript": [
              "\n",
              "                        async function getIP() {\n",
              "                            return fetch(\"https://api64.ipify.org\")\n",
              "                                .then(response => response.text())\n",
              "                                .then(data => data);\n",
              "                        }\n",
              "                        "
            ]
          },
          "metadata": {}
        },
        {
          "output_type": "display_data",
          "data": {
            "text/plain": [
              "<IPython.core.display.Javascript object>"
            ],
            "application/javascript": [
              "\n",
              "                        async function getIP() {\n",
              "                            return fetch(\"https://api64.ipify.org\")\n",
              "                                .then(response => response.text())\n",
              "                                .then(data => data);\n",
              "                        }\n",
              "                        "
            ]
          },
          "metadata": {}
        },
        {
          "output_type": "display_data",
          "data": {
            "text/plain": [
              "<IPython.core.display.Javascript object>"
            ],
            "application/javascript": [
              "\n",
              "                        async function getIP() {\n",
              "                            return fetch(\"https://api64.ipify.org\")\n",
              "                                .then(response => response.text())\n",
              "                                .then(data => data);\n",
              "                        }\n",
              "                        "
            ]
          },
          "metadata": {}
        },
        {
          "output_type": "display_data",
          "data": {
            "text/plain": [
              "<IPython.core.display.Javascript object>"
            ],
            "application/javascript": [
              "\n",
              "                        async function getIP() {\n",
              "                            return fetch(\"https://api64.ipify.org\")\n",
              "                                .then(response => response.text())\n",
              "                                .then(data => data);\n",
              "                        }\n",
              "                        "
            ]
          },
          "metadata": {}
        },
        {
          "output_type": "display_data",
          "data": {
            "text/plain": [
              "<IPython.core.display.Javascript object>"
            ],
            "application/javascript": [
              "\n",
              "                        async function getIP() {\n",
              "                            return fetch(\"https://api64.ipify.org\")\n",
              "                                .then(response => response.text())\n",
              "                                .then(data => data);\n",
              "                        }\n",
              "                        "
            ]
          },
          "metadata": {}
        },
        {
          "output_type": "display_data",
          "data": {
            "text/plain": [
              "<IPython.core.display.Javascript object>"
            ],
            "application/javascript": [
              "\n",
              "                        async function getIP() {\n",
              "                            return fetch(\"https://api64.ipify.org\")\n",
              "                                .then(response => response.text())\n",
              "                                .then(data => data);\n",
              "                        }\n",
              "                        "
            ]
          },
          "metadata": {}
        },
        {
          "output_type": "display_data",
          "data": {
            "text/plain": [
              "<IPython.core.display.Javascript object>"
            ],
            "application/javascript": [
              "\n",
              "                        async function getIP() {\n",
              "                            return fetch(\"https://api64.ipify.org\")\n",
              "                                .then(response => response.text())\n",
              "                                .then(data => data);\n",
              "                        }\n",
              "                        "
            ]
          },
          "metadata": {}
        },
        {
          "output_type": "display_data",
          "data": {
            "text/plain": [
              "<IPython.core.display.Javascript object>"
            ],
            "application/javascript": [
              "\n",
              "                        async function getIP() {\n",
              "                            return fetch(\"https://api64.ipify.org\")\n",
              "                                .then(response => response.text())\n",
              "                                .then(data => data);\n",
              "                        }\n",
              "                        "
            ]
          },
          "metadata": {}
        },
        {
          "output_type": "display_data",
          "data": {
            "text/plain": [
              "<IPython.core.display.Javascript object>"
            ],
            "application/javascript": [
              "\n",
              "                        async function getIP() {\n",
              "                            return fetch(\"https://api64.ipify.org\")\n",
              "                                .then(response => response.text())\n",
              "                                .then(data => data);\n",
              "                        }\n",
              "                        "
            ]
          },
          "metadata": {}
        },
        {
          "output_type": "display_data",
          "data": {
            "text/plain": [
              "<IPython.core.display.Javascript object>"
            ],
            "application/javascript": [
              "\n",
              "                        async function getIP() {\n",
              "                            return fetch(\"https://api64.ipify.org\")\n",
              "                                .then(response => response.text())\n",
              "                                .then(data => data);\n",
              "                        }\n",
              "                        "
            ]
          },
          "metadata": {}
        },
        {
          "output_type": "display_data",
          "data": {
            "text/plain": [
              "<IPython.core.display.Javascript object>"
            ],
            "application/javascript": [
              "\n",
              "                        async function getIP() {\n",
              "                            return fetch(\"https://api64.ipify.org\")\n",
              "                                .then(response => response.text())\n",
              "                                .then(data => data);\n",
              "                        }\n",
              "                        "
            ]
          },
          "metadata": {}
        },
        {
          "output_type": "display_data",
          "data": {
            "text/plain": [
              "<IPython.core.display.Javascript object>"
            ],
            "application/javascript": [
              "\n",
              "                        async function getIP() {\n",
              "                            return fetch(\"https://api64.ipify.org\")\n",
              "                                .then(response => response.text())\n",
              "                                .then(data => data);\n",
              "                        }\n",
              "                        "
            ]
          },
          "metadata": {}
        },
        {
          "output_type": "display_data",
          "data": {
            "text/plain": [
              "<IPython.core.display.Javascript object>"
            ],
            "application/javascript": [
              "\n",
              "                        async function getIP() {\n",
              "                            return fetch(\"https://api64.ipify.org\")\n",
              "                                .then(response => response.text())\n",
              "                                .then(data => data);\n",
              "                        }\n",
              "                        "
            ]
          },
          "metadata": {}
        },
        {
          "output_type": "display_data",
          "data": {
            "text/plain": [
              "<IPython.core.display.Javascript object>"
            ],
            "application/javascript": [
              "\n",
              "                        async function getIP() {\n",
              "                            return fetch(\"https://api64.ipify.org\")\n",
              "                                .then(response => response.text())\n",
              "                                .then(data => data);\n",
              "                        }\n",
              "                        "
            ]
          },
          "metadata": {}
        },
        {
          "output_type": "stream",
          "name": "stdout",
          "text": [
            "\n",
            "Running search request, search_id=3f737e49-33ef-4d4e-be3f-1c369369e27a\n",
            "We'll send email notification once it's completed, just use your personal api_key from profile.upgini.com\n",
            "\n",
            "\u001b[92m\u001b[1m\n",
            "72 relevant feature(s) found with the search keys: ['date']\u001b[0m\n"
          ]
        },
        {
          "output_type": "display_data",
          "data": {
            "text/plain": [
              "<IPython.core.display.HTML object>"
            ],
            "text/html": [
              "<style>\n",
              "            .upgini-df thead th {\n",
              "                font-weight:bold;\n",
              "                text-align: center;\n",
              "                padding: 0.5em;\n",
              "                border-bottom: 2px solid black;\n",
              "            }\n",
              "\n",
              "            .upgini-df tbody td {\n",
              "                padding: 0.5em;\n",
              "            }\n",
              "\n",
              "            .upgini-df tbody tr:nth-child(odd) {\n",
              "                background-color: #ffffff;\n",
              "            }\n",
              "\n",
              "            .upgini-df tbody tr:nth-child(even) {\n",
              "                background-color: #f2f2f2;\n",
              "            }\n",
              "\n",
              "            .upgini-text {\n",
              "                text-align: left;\n",
              "            }\n",
              "\n",
              "            .upgini-number {\n",
              "                text-align: center;\n",
              "            }\n",
              "        </style>\n",
              "        <h2>Relevant features</h2>\n",
              "        <div style=\"display:flex; flex-direction:column; align-items:flex-end; width: fit-content;\">\n",
              "            \n",
              "            <div style=\"text-align: right\">\n",
              "                <button onclick=navigator.clipboard.writeText(decodeURI('Feature%20name%09SHAP%20value%09Coverage%20%25%09Value%20preview%09Provider%09Source%09Updates%0Af_weather_date_weather_umap_31_fa6d9a99%090.0238%09100.0%094.8811,%205.0937,%204.778%09Upgini%09Weather%20%26%20climate%20normals%20data%09Daily%0Af_weather_date_weather_umap_48_b39cd0c4%090.0221%09100.0%095.5774,%205.6312,%205.3959%09Upgini%09Weather%20%26%20climate%20normals%20data%09Daily%0Af_autofe_div_3295865b%090.0189%09100.0%091.142,%200.924,%200.8891%09Upgini%09AutoFE%3A%20features%20from%20%3Ca%20href%3D%27https%3A%2F%2Fupgini.com%2F%23data_sources%27%20target%3D%27_blank%27%20rel%3D%27noopener%20noreferrer%27%3EMarkets%20data%3C%2Fa%3E%09Daily%0Af_weather_date_weather_umap_34_c3ef5b4f%090.0188%09100.0%095.2742,%204.636,%204.7871%09Upgini%09Weather%20%26%20climate%20normals%20data%09Daily%0Af_autofe_div_50507976%090.0102%09100.0%09-0.0562,%20-0.0293,%20-0.0037%09Upgini%09AutoFE%3A%20features%20from%20%3Ca%20href%3D%27https%3A%2F%2Fupgini.com%2F%23data_sources%27%20target%3D%27_blank%27%20rel%3D%27noopener%20noreferrer%27%3ECalendar%20data%3C%2Fa%3E,%3Ca%20href%3D%27https%3A%2F%2Fupgini.com%2F%23data_sources%27%20target%3D%27_blank%27%20rel%3D%27noopener%20noreferrer%27%3EMarkets%20data%3C%2Fa%3E%09Daily%0Af_weather_date_weather_pca_0_d7e0a1fc%090.0068%09100.0%091.4128,%204.3166,%20-20.7635%09Upgini%09Weather%20%26%20climate%20normals%20data%09Daily%0Af_autofe_mul_478be4f3%090.0066%09100.0%09-1.221,%200.213,%20-1.0832%09Upgini%09AutoFE%3A%20features%20from%20%3Ca%20href%3D%27https%3A%2F%2Fupgini.com%2F%23data_sources%27%20target%3D%27_blank%27%20rel%3D%27noopener%20noreferrer%27%3ECalendar%20data%3C%2Fa%3E,%3Ca%20href%3D%27https%3A%2F%2Fupgini.com%2F%23data_sources%27%20target%3D%27_blank%27%20rel%3D%27noopener%20noreferrer%27%3EMarkets%20data%3C%2Fa%3E%09Daily%0Af_autofe_mul_08e89348%090.0066%09100.0%09-103.3131,%2028.7401,%20-49.3898%09Upgini%09AutoFE%3A%20features%20from%20%3Ca%20href%3D%27https%3A%2F%2Fupgini.com%2F%23data_sources%27%20target%3D%27_blank%27%20rel%3D%27noopener%20noreferrer%27%3ECalendar%20data%3C%2Fa%3E,%3Ca%20href%3D%27https%3A%2F%2Fupgini.com%2F%23data_sources%27%20target%3D%27_blank%27%20rel%3D%27noopener%20noreferrer%27%3EMarkets%20data%3C%2Fa%3E%09Daily%0Af_autofe_div_cf5dd7be%090.0063%09100.0%090.964,%20-1.0146,%20-0.9607%09Upgini%09AutoFE%3A%20features%20from%20%3Ca%20href%3D%27https%3A%2F%2Fupgini.com%2F%23data_sources%27%20target%3D%27_blank%27%20rel%3D%27noopener%20noreferrer%27%3ECalendar%20data%3C%2Fa%3E,%3Ca%20href%3D%27https%3A%2F%2Fupgini.com%2F%23data_sources%27%20target%3D%27_blank%27%20rel%3D%27noopener%20noreferrer%27%3EMarkets%20data%3C%2Fa%3E%09Daily%0Af_autofe_mul_34d11bc4%090.0062%09100.0%091.9603,%20-6.9296,%20-19.4736%09Upgini%09AutoFE%3A%20features%20from%20%3Ca%20href%3D%27https%3A%2F%2Fupgini.com%2F%23data_sources%27%20target%3D%27_blank%27%20rel%3D%27noopener%20noreferrer%27%3ECalendar%20data%3C%2Fa%3E,%3Ca%20href%3D%27https%3A%2F%2Fupgini.com%2F%23data_sources%27%20target%3D%27_blank%27%20rel%3D%27noopener%20noreferrer%27%3EMarkets%20data%3C%2Fa%3E%09Daily%0Af_autofe_div_3e22df83%090.0061%09100.0%09-0.0158,%20-0.0083,%200.0104%09Upgini%09AutoFE%3A%20features%20from%20%3Ca%20href%3D%27https%3A%2F%2Fupgini.com%2F%23data_sources%27%20target%3D%27_blank%27%20rel%3D%27noopener%20noreferrer%27%3ECalendar%20data%3C%2Fa%3E,%3Ca%20href%3D%27https%3A%2F%2Fupgini.com%2F%23data_sources%27%20target%3D%27_blank%27%20rel%3D%27noopener%20noreferrer%27%3EMarkets%20data%3C%2Fa%3E%09Daily%0Af_autofe_mul_6234ba3a%090.005%09100.0%091.0681,%200.536,%200.7959%09Upgini%09AutoFE%3A%20features%20from%20%3Ca%20href%3D%27https%3A%2F%2Fupgini.com%2F%23data_sources%27%20target%3D%27_blank%27%20rel%3D%27noopener%20noreferrer%27%3EMarkets%20data%3C%2Fa%3E%09Daily%0Af_autofe_mul_5bd50798%090.0049%09100.0%09-0.95,%20-0.2789,%200.573%09Upgini%09AutoFE%3A%20features%20from%20%3Ca%20href%3D%27https%3A%2F%2Fupgini.com%2F%23data_sources%27%20target%3D%27_blank%27%20rel%3D%27noopener%20noreferrer%27%3ECalendar%20data%3C%2Fa%3E,%3Ca%20href%3D%27https%3A%2F%2Fupgini.com%2F%23data_sources%27%20target%3D%27_blank%27%20rel%3D%27noopener%20noreferrer%27%3EMarkets%20data%3C%2Fa%3E%09Daily%0Af_autofe_div_1edd5009%090.0048%09100.0%09-0.007,%200.0337,%200.082%09Upgini%09AutoFE%3A%20features%20from%20%3Ca%20href%3D%27https%3A%2F%2Fupgini.com%2F%23data_sources%27%20target%3D%27_blank%27%20rel%3D%27noopener%20noreferrer%27%3ECalendar%20data%3C%2Fa%3E,%3Ca%20href%3D%27https%3A%2F%2Fupgini.com%2F%23data_sources%27%20target%3D%27_blank%27%20rel%3D%27noopener%20noreferrer%27%3EMarkets%20data%3C%2Fa%3E%09Daily%0Af_autofe_div_283a6178%090.0045%09100.0%090.0067,%200.0106,%20-0.0027%09Upgini%09AutoFE%3A%20features%20from%20%3Ca%20href%3D%27https%3A%2F%2Fupgini.com%2F%23data_sources%27%20target%3D%27_blank%27%20rel%3D%27noopener%20noreferrer%27%3ECalendar%20data%3C%2Fa%3E,%3Ca%20href%3D%27https%3A%2F%2Fupgini.com%2F%23data_sources%27%20target%3D%27_blank%27%20rel%3D%27noopener%20noreferrer%27%3EMarkets%20data%3C%2Fa%3E%09Daily%0Af_autofe_div_89c56a5f%090.0043%09100.0%09-1.1495,%201.3058,%20-0.7045%09Upgini%09AutoFE%3A%20features%20from%20%3Ca%20href%3D%27https%3A%2F%2Fupgini.com%2F%23data_sources%27%20target%3D%27_blank%27%20rel%3D%27noopener%20noreferrer%27%3ECalendar%20data%3C%2Fa%3E,%3Ca%20href%3D%27https%3A%2F%2Fupgini.com%2F%23data_sources%27%20target%3D%27_blank%27%20rel%3D%27noopener%20noreferrer%27%3EMarkets%20data%3C%2Fa%3E%09Daily%0Af_autofe_mul_25296268%090.004%09100.0%090.3278,%200.3831,%200.5559%09Upgini%09AutoFE%3A%20features%20from%20%3Ca%20href%3D%27https%3A%2F%2Fupgini.com%2F%23data_sources%27%20target%3D%27_blank%27%20rel%3D%27noopener%20noreferrer%27%3ECalendar%20data%3C%2Fa%3E,%3Ca%20href%3D%27https%3A%2F%2Fupgini.com%2F%23data_sources%27%20target%3D%27_blank%27%20rel%3D%27noopener%20noreferrer%27%3EMarkets%20data%3C%2Fa%3E%09Daily%0Af_autofe_div_abde95f5%090.0031%09100.0%09-0.7603,%20-0.2616,%20-0.6488%09Upgini%09AutoFE%3A%20features%20from%20%3Ca%20href%3D%27https%3A%2F%2Fupgini.com%2F%23data_sources%27%20target%3D%27_blank%27%20rel%3D%27noopener%20noreferrer%27%3ECalendar%20data%3C%2Fa%3E,%3Ca%20href%3D%27https%3A%2F%2Fupgini.com%2F%23data_sources%27%20target%3D%27_blank%27%20rel%3D%27noopener%20noreferrer%27%3EMarkets%20data%3C%2Fa%3E%09Daily%0Af_autofe_div_c9ddcb38%090.0025%09100.0%09-0.2543,%20-0.9113,%20-0.2173%09Upgini%09AutoFE%3A%20features%20from%20%3Ca%20href%3D%27https%3A%2F%2Fupgini.com%2F%23data_sources%27%20target%3D%27_blank%27%20rel%3D%27noopener%20noreferrer%27%3ECalendar%20data%3C%2Fa%3E,%3Ca%20href%3D%27https%3A%2F%2Fupgini.com%2F%23data_sources%27%20target%3D%27_blank%27%20rel%3D%27noopener%20noreferrer%27%3EMarkets%20data%3C%2Fa%3E%09Daily%0Af_autofe_div_455a9ecb%090.0025%09100.0%090.0541,%200.0563,%200.1083%09Upgini%09AutoFE%3A%20features%20from%20%3Ca%20href%3D%27https%3A%2F%2Fupgini.com%2F%23data_sources%27%20target%3D%27_blank%27%20rel%3D%27noopener%20noreferrer%27%3EMarkets%20data%3C%2Fa%3E%09Daily%0Af_autofe_mul_7b115967%090.0024%09100.0%091.1038,%20-0.2154,%20-0.898%09Upgini%09AutoFE%3A%20features%20from%20%3Ca%20href%3D%27https%3A%2F%2Fupgini.com%2F%23data_sources%27%20target%3D%27_blank%27%20rel%3D%27noopener%20noreferrer%27%3ECalendar%20data%3C%2Fa%3E,%3Ca%20href%3D%27https%3A%2F%2Fupgini.com%2F%23data_sources%27%20target%3D%27_blank%27%20rel%3D%27noopener%20noreferrer%27%3EMarkets%20data%3C%2Fa%3E%09Daily%0Af_autofe_div_d57fd206%090.002%09100.0%09-1.0504,%20-1.0081,%20-0.8123%09Upgini%09AutoFE%3A%20features%20from%20%3Ca%20href%3D%27https%3A%2F%2Fupgini.com%2F%23data_sources%27%20target%3D%27_blank%27%20rel%3D%27noopener%20noreferrer%27%3ECalendar%20data%3C%2Fa%3E,%3Ca%20href%3D%27https%3A%2F%2Fupgini.com%2F%23data_sources%27%20target%3D%27_blank%27%20rel%3D%27noopener%20noreferrer%27%3EMarkets%20data%3C%2Fa%3E%09Daily%0Af_autofe_div_ba625fe9%090.0019%09100.0%091.0116,%20-1.1819,%20-2.9236%09Upgini%09AutoFE%3A%20features%20from%20%3Ca%20href%3D%27https%3A%2F%2Fupgini.com%2F%23data_sources%27%20target%3D%27_blank%27%20rel%3D%27noopener%20noreferrer%27%3ECalendar%20data%3C%2Fa%3E%09Daily%0Af_autofe_mul_0cc09d2d%090.0019%09100.0%09-45.548,%20-26.8993,%20-34.166%09Upgini%09AutoFE%3A%20features%20from%20%3Ca%20href%3D%27https%3A%2F%2Fupgini.com%2F%23data_sources%27%20target%3D%27_blank%27%20rel%3D%27noopener%20noreferrer%27%3ECalendar%20data%3C%2Fa%3E,%3Ca%20href%3D%27https%3A%2F%2Fupgini.com%2F%23data_sources%27%20target%3D%27_blank%27%20rel%3D%27noopener%20noreferrer%27%3EMarkets%20data%3C%2Fa%3E%09Daily%0Af_autofe_div_fa0777db%090.0017%09100.0%090.0018,%20-0.0024,%20-0.0007%09Upgini%09AutoFE%3A%20features%20from%20%3Ca%20href%3D%27https%3A%2F%2Fupgini.com%2F%23data_sources%27%20target%3D%27_blank%27%20rel%3D%27noopener%20noreferrer%27%3ECalendar%20data%3C%2Fa%3E,%3Ca%20href%3D%27https%3A%2F%2Fupgini.com%2F%23data_sources%27%20target%3D%27_blank%27%20rel%3D%27noopener%20noreferrer%27%3EMarkets%20data%3C%2Fa%3E%09Daily%0Af_events_date_year_cos1_9014a856%090.0015%09100.0%090.9413,%200.0215,%20-0.969%09Upgini%09Calendar%20data%09Daily%0Af_autofe_div_40bee497%090.0014%09100.0%090.002,%20-0.0007,%200.0016%09Upgini%09AutoFE%3A%20features%20from%20%3Ca%20href%3D%27https%3A%2F%2Fupgini.com%2F%23data_sources%27%20target%3D%27_blank%27%20rel%3D%27noopener%20noreferrer%27%3ECalendar%20data%3C%2Fa%3E,%3Ca%20href%3D%27https%3A%2F%2Fupgini.com%2F%23data_sources%27%20target%3D%27_blank%27%20rel%3D%27noopener%20noreferrer%27%3EMarkets%20data%3C%2Fa%3E%09Daily%0Af_autofe_div_270d64a2%090.0014%09100.0%09-0.2282,%200.6618,%200.6534%09Upgini%09AutoFE%3A%20features%20from%20%3Ca%20href%3D%27https%3A%2F%2Fupgini.com%2F%23data_sources%27%20target%3D%27_blank%27%20rel%3D%27noopener%20noreferrer%27%3ECalendar%20data%3C%2Fa%3E,%3Ca%20href%3D%27https%3A%2F%2Fupgini.com%2F%23data_sources%27%20target%3D%27_blank%27%20rel%3D%27noopener%20noreferrer%27%3EMarkets%20data%3C%2Fa%3E%09Daily%0Af_autofe_mul_b49258bb%090.0014%09100.0%09-267.1987,%20294.672,%20-308.5647%09Upgini%09AutoFE%3A%20features%20from%20%3Ca%20href%3D%27https%3A%2F%2Fupgini.com%2F%23data_sources%27%20target%3D%27_blank%27%20rel%3D%27noopener%20noreferrer%27%3ECalendar%20data%3C%2Fa%3E,%3Ca%20href%3D%27https%3A%2F%2Fupgini.com%2F%23data_sources%27%20target%3D%27_blank%27%20rel%3D%27noopener%20noreferrer%27%3EMarkets%20data%3C%2Fa%3E%09Daily%0Af_autofe_div_c855cf40%090.0013%09100.0%09-0.0091,%20-0.0025,%200.0076%09Upgini%09AutoFE%3A%20features%20from%20%3Ca%20href%3D%27https%3A%2F%2Fupgini.com%2F%23data_sources%27%20target%3D%27_blank%27%20rel%3D%27noopener%20noreferrer%27%3ECalendar%20data%3C%2Fa%3E,%3Ca%20href%3D%27https%3A%2F%2Fupgini.com%2F%23data_sources%27%20target%3D%27_blank%27%20rel%3D%27noopener%20noreferrer%27%3EMarkets%20data%3C%2Fa%3E%09Daily%0Af_autofe_mul_4c9c7d0a%090.0013%09100.0%090.6665,%201.0552,%200.8081%09Upgini%09AutoFE%3A%20features%20from%20%3Ca%20href%3D%27https%3A%2F%2Fupgini.com%2F%23data_sources%27%20target%3D%27_blank%27%20rel%3D%27noopener%20noreferrer%27%3EMarkets%20data%3C%2Fa%3E%09Daily%0Af_weather_date_weather_umap_33_89bb7578%090.001%09100.0%095.131,%204.6013,%205.8126%09Upgini%09Weather%20%26%20climate%20normals%20data%09Daily%0Af_autofe_div_e79e322c%090.001%09100.0%090.6225,%200.6327,%20-0.2251%09Upgini%09AutoFE%3A%20features%20from%20%3Ca%20href%3D%27https%3A%2F%2Fupgini.com%2F%23data_sources%27%20target%3D%27_blank%27%20rel%3D%27noopener%20noreferrer%27%3ECalendar%20data%3C%2Fa%3E,%3Ca%20href%3D%27https%3A%2F%2Fupgini.com%2F%23data_sources%27%20target%3D%27_blank%27%20rel%3D%27noopener%20noreferrer%27%3EMarkets%20data%3C%2Fa%3E%09Daily%0Af_autofe_mul_0afc7563%090.001%09100.0%09-0.0056,%200.4287,%200.6804%09Upgini%09AutoFE%3A%20features%20from%20%3Ca%20href%3D%27https%3A%2F%2Fupgini.com%2F%23data_sources%27%20target%3D%27_blank%27%20rel%3D%27noopener%20noreferrer%27%3ECalendar%20data%3C%2Fa%3E%09Daily%0Af_autofe_mul_09cabb32%090.0007%09100.0%090.9977,%20-0.8561,%20-0.9086%09Upgini%09AutoFE%3A%20features%20from%20%3Ca%20href%3D%27https%3A%2F%2Fupgini.com%2F%23data_sources%27%20target%3D%27_blank%27%20rel%3D%27noopener%20noreferrer%27%3ECalendar%20data%3C%2Fa%3E,%3Ca%20href%3D%27https%3A%2F%2Fupgini.com%2F%23data_sources%27%20target%3D%27_blank%27%20rel%3D%27noopener%20noreferrer%27%3EMarkets%20data%3C%2Fa%3E%09Daily%0Af_autofe_mul_242bbe3e%090.0007%09100.0%09-0.8897,%20-0.8507,%20-1.057%09Upgini%09AutoFE%3A%20features%20from%20%3Ca%20href%3D%27https%3A%2F%2Fupgini.com%2F%23data_sources%27%20target%3D%27_blank%27%20rel%3D%27noopener%20noreferrer%27%3ECalendar%20data%3C%2Fa%3E,%3Ca%20href%3D%27https%3A%2F%2Fupgini.com%2F%23data_sources%27%20target%3D%27_blank%27%20rel%3D%27noopener%20noreferrer%27%3EMarkets%20data%3C%2Fa%3E%09Daily%0Af_autofe_mul_dda91e30%090.0007%09100.0%090.8048,%200.7646,%20-0.7628%09Upgini%09AutoFE%3A%20features%20from%20%3Ca%20href%3D%27https%3A%2F%2Fupgini.com%2F%23data_sources%27%20target%3D%27_blank%27%20rel%3D%27noopener%20noreferrer%27%3ECalendar%20data%3C%2Fa%3E,%3Ca%20href%3D%27https%3A%2F%2Fupgini.com%2F%23data_sources%27%20target%3D%27_blank%27%20rel%3D%27noopener%20noreferrer%27%3EMarkets%20data%3C%2Fa%3E%09Daily%0Af_autofe_mul_5cf72e2c%090.0006%09100.0%09-1.1042,%20-1.0775,%200.6934%09Upgini%09AutoFE%3A%20features%20from%20%3Ca%20href%3D%27https%3A%2F%2Fupgini.com%2F%23data_sources%27%20target%3D%27_blank%27%20rel%3D%27noopener%20noreferrer%27%3ECalendar%20data%3C%2Fa%3E,%3Ca%20href%3D%27https%3A%2F%2Fupgini.com%2F%23data_sources%27%20target%3D%27_blank%27%20rel%3D%27noopener%20noreferrer%27%3EMarkets%20data%3C%2Fa%3E%09Daily%0Af_weather_date_weather_umap_1_68679173%090.0006%09100.0%094.8392,%207.2443,%20-3.2211%09Upgini%09Weather%20%26%20climate%20normals%20data%09Daily%0Af_weather_date_weather_pca_2_ecef8c63%090.0006%09100.0%09-4.9021,%20-6.0644,%200.1122%09Upgini%09Weather%20%26%20climate%20normals%20data%09Daily%0Af_autofe_mul_b2bfad41%090.0006%09100.0%090.5032,%201.1139,%200.8019%09Upgini%09AutoFE%3A%20features%20from%20%3Ca%20href%3D%27https%3A%2F%2Fupgini.com%2F%23data_sources%27%20target%3D%27_blank%27%20rel%3D%27noopener%20noreferrer%27%3ECalendar%20data%3C%2Fa%3E,%3Ca%20href%3D%27https%3A%2F%2Fupgini.com%2F%23data_sources%27%20target%3D%27_blank%27%20rel%3D%27noopener%20noreferrer%27%3EMarkets%20data%3C%2Fa%3E%09Daily%0Af_autofe_div_c4537a19%090.0006%09100.0%090.0031,%200.0028,%200.0028%09Upgini%09AutoFE%3A%20features%20from%20%3Ca%20href%3D%27https%3A%2F%2Fupgini.com%2F%23data_sources%27%20target%3D%27_blank%27%20rel%3D%27noopener%20noreferrer%27%3EMarkets%20data%3C%2Fa%3E%09Daily%0Af_autofe_div_1197f7eb%090.0006%09100.0%09-0.2207,%20-0.2248,%201.0103%09Upgini%09AutoFE%3A%20features%20from%20%3Ca%20href%3D%27https%3A%2F%2Fupgini.com%2F%23data_sources%27%20target%3D%27_blank%27%20rel%3D%27noopener%20noreferrer%27%3ECalendar%20data%3C%2Fa%3E,%3Ca%20href%3D%27https%3A%2F%2Fupgini.com%2F%23data_sources%27%20target%3D%27_blank%27%20rel%3D%27noopener%20noreferrer%27%3EMarkets%20data%3C%2Fa%3E%09Daily%0Af_autofe_mul_165c74ad%090.0005%09100.0%09-0.656,%200.8422,%200.711%09Upgini%09AutoFE%3A%20features%20from%20%3Ca%20href%3D%27https%3A%2F%2Fupgini.com%2F%23data_sources%27%20target%3D%27_blank%27%20rel%3D%27noopener%20noreferrer%27%3ECalendar%20data%3C%2Fa%3E,%3Ca%20href%3D%27https%3A%2F%2Fupgini.com%2F%23data_sources%27%20target%3D%27_blank%27%20rel%3D%27noopener%20noreferrer%27%3EMarkets%20data%3C%2Fa%3E%09Daily%0Af_economic_date_cbpol_pca_9_bde660b4%090.0005%09100.0%09-0.7218,%20-2.4726,%201.4992%09Upgini%09World%20economic%20indicators%09Daily%0Af_autofe_mul_402f5e6a%090.0004%09100.0%090.4399,%200.8281,%20-0.4415%09Upgini%09AutoFE%3A%20features%20from%20%3Ca%20href%3D%27https%3A%2F%2Fupgini.com%2F%23data_sources%27%20target%3D%27_blank%27%20rel%3D%27noopener%20noreferrer%27%3ECalendar%20data%3C%2Fa%3E,%3Ca%20href%3D%27https%3A%2F%2Fupgini.com%2F%23data_sources%27%20target%3D%27_blank%27%20rel%3D%27noopener%20noreferrer%27%3EMarkets%20data%3C%2Fa%3E%09Daily%0Af_autofe_mul_af2318dc%090.0004%09100.0%09-0.9123,%200.6214,%20-0.2334%09Upgini%09AutoFE%3A%20features%20from%20%3Ca%20href%3D%27https%3A%2F%2Fupgini.com%2F%23data_sources%27%20target%3D%27_blank%27%20rel%3D%27noopener%20noreferrer%27%3ECalendar%20data%3C%2Fa%3E,%3Ca%20href%3D%27https%3A%2F%2Fupgini.com%2F%23data_sources%27%20target%3D%27_blank%27%20rel%3D%27noopener%20noreferrer%27%3EMarkets%20data%3C%2Fa%3E%09Daily%0Af_autofe_div_d0993cdc%090.0004%09100.0%09318.2301,%20368.861,%20360.0126%09Upgini%09AutoFE%3A%20features%20from%20%3Ca%20href%3D%27https%3A%2F%2Fupgini.com%2F%23data_sources%27%20target%3D%27_blank%27%20rel%3D%27noopener%20noreferrer%27%3EMarkets%20data%3C%2Fa%3E%09Daily%0Af_autofe_mul_eff3c92e%090.0004%09100.0%090.6503,%200.8643,%200.6279%09Upgini%09AutoFE%3A%20features%20from%20%3Ca%20href%3D%27https%3A%2F%2Fupgini.com%2F%23data_sources%27%20target%3D%27_blank%27%20rel%3D%27noopener%20noreferrer%27%3EMarkets%20data%3C%2Fa%3E%09Daily%0Af_weather_date_weather_umap_5_88023931%090.0004%09100.0%094.9433,%206.4892,%204.4133%09Upgini%09Weather%20%26%20climate%20normals%20data%09Daily%0Af_financial_date_nasdaq_7d_to_1y_b00bfaa7%090.0004%09100.0%091.0665,%201.1613,%201.1066%09Upgini%09Markets%20data%09Daily%0Af_autofe_div_0411c316%090.0004%09100.0%09-0.441,%20-0.9606,%20-0.703%09Upgini%09AutoFE%3A%20features%20from%20%3Ca%20href%3D%27https%3A%2F%2Fupgini.com%2F%23data_sources%27%20target%3D%27_blank%27%20rel%3D%27noopener%20noreferrer%27%3ECalendar%20data%3C%2Fa%3E,%3Ca%20href%3D%27https%3A%2F%2Fupgini.com%2F%23data_sources%27%20target%3D%27_blank%27%20rel%3D%27noopener%20noreferrer%27%3EMarkets%20data%3C%2Fa%3E%09Daily%0Af_autofe_mul_efa07492%090.0004%09100.0%09-3.2993,%20-1.0474,%201.4571%09Upgini%09AutoFE%3A%20features%20from%20%3Ca%20href%3D%27https%3A%2F%2Fupgini.com%2F%23data_sources%27%20target%3D%27_blank%27%20rel%3D%27noopener%20noreferrer%27%3ECalendar%20data%3C%2Fa%3E,%3Ca%20href%3D%27https%3A%2F%2Fupgini.com%2F%23data_sources%27%20target%3D%27_blank%27%20rel%3D%27noopener%20noreferrer%27%3EMarkets%20data%3C%2Fa%3E%09Daily%0Af_autofe_mul_041b52f4%090.0003%09100.0%090.1866,%200.1252,%20-0.0605%09Upgini%09AutoFE%3A%20features%20from%20%3Ca%20href%3D%27https%3A%2F%2Fupgini.com%2F%23data_sources%27%20target%3D%27_blank%27%20rel%3D%27noopener%20noreferrer%27%3ECalendar%20data%3C%2Fa%3E%09Daily%0Af_autofe_mul_44503c6f%090.0003%09100.0%091.4034,%202.9744,%203.9744%09Upgini%09AutoFE%3A%20features%20from%20%3Ca%20href%3D%27https%3A%2F%2Fupgini.com%2F%23data_sources%27%20target%3D%27_blank%27%20rel%3D%27noopener%20noreferrer%27%3EMarkets%20data%3C%2Fa%3E%09Daily%0Af_autofe_mul_f018fe89%090.0003%09100.0%09-0.9124,%20-0.2217,%200.5474%09Upgini%09AutoFE%3A%20features%20from%20%3Ca%20href%3D%27https%3A%2F%2Fupgini.com%2F%23data_sources%27%20target%3D%27_blank%27%20rel%3D%27noopener%20noreferrer%27%3ECalendar%20data%3C%2Fa%3E%09Daily%0Af_autofe_mul_4ee11e5f%090.0003%09100.0%09106.0112,%2097.4894,%20105.6343%09Upgini%09AutoFE%3A%20features%20from%20%3Ca%20href%3D%27https%3A%2F%2Fupgini.com%2F%23data_sources%27%20target%3D%27_blank%27%20rel%3D%27noopener%20noreferrer%27%3EMarkets%20data%3C%2Fa%3E%09Daily%0Af_autofe_mul_c883f8a6%090.0002%09100.0%09330.6239,%20376.6555,%20334.9244%09Upgini%09AutoFE%3A%20features%20from%20%3Ca%20href%3D%27https%3A%2F%2Fupgini.com%2F%23data_sources%27%20target%3D%27_blank%27%20rel%3D%27noopener%20noreferrer%27%3EMarkets%20data%3C%2Fa%3E%09Daily%0Af_autofe_div_fb99ff57%090.0002%09100.0%09337.4877,%20330.4493,%20391.1068%09Upgini%09AutoFE%3A%20features%20from%20%3Ca%20href%3D%27https%3A%2F%2Fupgini.com%2F%23data_sources%27%20target%3D%27_blank%27%20rel%3D%27noopener%20noreferrer%27%3EMarkets%20data%3C%2Fa%3E%09Daily%0Af_autofe_mul_58cac651%090.0001%09100.0%090.6517,%200.1711,%200.4175%09Upgini%09AutoFE%3A%20features%20from%20%3Ca%20href%3D%27https%3A%2F%2Fupgini.com%2F%23data_sources%27%20target%3D%27_blank%27%20rel%3D%27noopener%20noreferrer%27%3ECalendar%20data%3C%2Fa%3E%09Daily%0Af_autofe_div_ef42018c%090.0001%09100.0%091.0276,%200.9997,%201.0005%09Upgini%09AutoFE%3A%20features%20from%20%3Ca%20href%3D%27https%3A%2F%2Fupgini.com%2F%23data_sources%27%20target%3D%27_blank%27%20rel%3D%27noopener%20noreferrer%27%3EMarkets%20data%3C%2Fa%3E%09Daily%0Af_autofe_div_84649ac5%090.0001%09100.0%09-0.2229,%20-0.2221,%20-0.228%09Upgini%09AutoFE%3A%20features%20from%20%3Ca%20href%3D%27https%3A%2F%2Fupgini.com%2F%23data_sources%27%20target%3D%27_blank%27%20rel%3D%27noopener%20noreferrer%27%3ECalendar%20data%3C%2Fa%3E,%3Ca%20href%3D%27https%3A%2F%2Fupgini.com%2F%23data_sources%27%20target%3D%27_blank%27%20rel%3D%27noopener%20noreferrer%27%3EMarkets%20data%3C%2Fa%3E%09Daily%0Af_autofe_mul_9091be3b%090.0001%09100.0%0928.549,%2018.2449,%2015.736%09Upgini%09AutoFE%3A%20features%20from%20%3Ca%20href%3D%27https%3A%2F%2Fupgini.com%2F%23data_sources%27%20target%3D%27_blank%27%20rel%3D%27noopener%20noreferrer%27%3EMarkets%20data%3C%2Fa%3E%09Daily%0Af_autofe_div_17716d2e%090.0001%09100.0%090.4732,%201.8966,%20-2.1386%09Upgini%09AutoFE%3A%20features%20from%20%3Ca%20href%3D%27https%3A%2F%2Fupgini.com%2F%23data_sources%27%20target%3D%27_blank%27%20rel%3D%27noopener%20noreferrer%27%3ECalendar%20data%3C%2Fa%3E%09Daily%0Af_autofe_div_22b77c5b%090.0001%09100.0%09-0.8506,%20-1.186,%201.0173%09Upgini%09AutoFE%3A%20features%20from%20%3Ca%20href%3D%27https%3A%2F%2Fupgini.com%2F%23data_sources%27%20target%3D%27_blank%27%20rel%3D%27noopener%20noreferrer%27%3ECalendar%20data%3C%2Fa%3E,%3Ca%20href%3D%27https%3A%2F%2Fupgini.com%2F%23data_sources%27%20target%3D%27_blank%27%20rel%3D%27noopener%20noreferrer%27%3EMarkets%20data%3C%2Fa%3E%09Daily%0Af_autofe_div_7cd7dbff%090.0001%09100.0%09-1.0557,%200.2232,%20-1.7876%09Upgini%09AutoFE%3A%20features%20from%20%3Ca%20href%3D%27https%3A%2F%2Fupgini.com%2F%23data_sources%27%20target%3D%27_blank%27%20rel%3D%27noopener%20noreferrer%27%3ECalendar%20data%3C%2Fa%3E%09Daily%0Af_autofe_mul_5c76b026%090.0001%09100.0%0920.5163,%2020.8251,%2028.4963%09Upgini%09AutoFE%3A%20features%20from%20%3Ca%20href%3D%27https%3A%2F%2Fupgini.com%2F%23data_sources%27%20target%3D%27_blank%27%20rel%3D%27noopener%20noreferrer%27%3EMarkets%20data%3C%2Fa%3E%09Daily%0Af_autofe_mul_6a97c336%090.0001%09100.0%090.5832,%200.7371,%20-0.2155%09Upgini%09AutoFE%3A%20features%20from%20%3Ca%20href%3D%27https%3A%2F%2Fupgini.com%2F%23data_sources%27%20target%3D%27_blank%27%20rel%3D%27noopener%20noreferrer%27%3ECalendar%20data%3C%2Fa%3E,%3Ca%20href%3D%27https%3A%2F%2Fupgini.com%2F%23data_sources%27%20target%3D%27_blank%27%20rel%3D%27noopener%20noreferrer%27%3EMarkets%20data%3C%2Fa%3E%09Daily%0Af_autofe_mul_8437d645%090.0001%09100.0%09-22.0251,%2093.43,%20-18.8386%09Upgini%09AutoFE%3A%20features%20from%20%3Ca%20href%3D%27https%3A%2F%2Fupgini.com%2F%23data_sources%27%20target%3D%27_blank%27%20rel%3D%27noopener%20noreferrer%27%3ECalendar%20data%3C%2Fa%3E,%3Ca%20href%3D%27https%3A%2F%2Fupgini.com%2F%23data_sources%27%20target%3D%27_blank%27%20rel%3D%27noopener%20noreferrer%27%3EMarkets%20data%3C%2Fa%3E%09Daily%0Af_autofe_mul_a36d46a7%090.0001%09100.0%09-0.7548,%20-0.4101,%20-0.3516%09Upgini%09AutoFE%3A%20features%20from%20%3Ca%20href%3D%27https%3A%2F%2Fupgini.com%2F%23data_sources%27%20target%3D%27_blank%27%20rel%3D%27noopener%20noreferrer%27%3ECalendar%20data%3C%2Fa%3E,%3Ca%20href%3D%27https%3A%2F%2Fupgini.com%2F%23data_sources%27%20target%3D%27_blank%27%20rel%3D%27noopener%20noreferrer%27%3EMarkets%20data%3C%2Fa%3E%09Daily%0Af_economic_date_cbpol_umap_7_a80d807e%090.0001%09100.0%091.9567,%205.338,%208.481%09Upgini%09World%20economic%20indicators%09Daily%0Af_events_date_year_sin1_3c44bc64%090.0001%09100.0%09-0.9445,%200.9648,%200.6729%09Upgini%09Calendar%20data%09Daily%0A'))>📂 Copy</button>\n",
              "                <a href='mailto:<Share with...>?subject=Relevant external data sources from Upgini.com&body=Feature%20name%09SHAP%20value%09Coverage%20%25%09Value%20preview%09Provider%09Source%09Updates%0Af_weather_date_weather_umap_31_fa6d9a99%090.0238%09100.0%094.8811,%205.0937,%204.778%09Upgini%09Weather%20%26%20climate%20normals%20data%09Daily%0Af_weather_date_weather_umap_48_b39cd0c4%090.0221%09100.0%095.5774,%205.6312,%205.3959%09Upgini%09Weather%20%26%20climate%20normals%20data%09Daily%0Af_autofe_div_3295865b%090.0189%09100.0%091.142,%200.924,%200.8891%09Upgini%09AutoFE%3A%20features%20from%20%3Ca%20href%3D%27https%3A%2F%2Fupgini.com%2F%23data_sources%27%20target%3D%27_blank%27%20rel%3D%27noopener%20noreferrer%27%3EMarkets%20data%3C%2Fa%3E%09Daily%0Af_weather_date_weather_umap_34_c3ef5b4f%090.0188%09100.0%095.2742,%204.636,%204.7871%09Upgini%09Weather%20%26%20climate%20normals%20data%09Daily%0Af_autofe_div_50507976%090.0102%09100.0%09-0.0562,%20-0.0293,%20-0.0037%09Upgini%09AutoFE%3A%20features%20from%20%3Ca%20href%3D%27https%3A%2F%2Fupgini.com%2F%23data_sources%27%20target%3D%27_blank%27%20rel%3D%27noopener%20noreferrer%27%3ECalendar%20data%3C%2Fa%3E,%3Ca%20href%3D%27https%3A%2F%2Fupgini.com%2F%23data_sources%27%20target%3D%27_blank%27%20rel%3D%27noopener%20noreferrer%27%3EMarkets%20data%3C%2Fa%3E%09Daily%0Af_weather_date_weather_pca_0_d7e0a1fc%090.0068%09100.0%091.4128,%204.3166,%20-20.7635%09Upgini%09Weather%20%26%20climate%20normals%20data%09Daily%0Af_autofe_mul_478be4f3%090.0066%09100.0%09-1.221,%200.213,%20-1.0832%09Upgini%09AutoFE%3A%20features%20from%20%3Ca%20href%3D%27https%3A%2F%2Fupgini.com%2F%23data_sources%27%20target%3D%27_blank%27%20rel%3D%27noopener%20noreferrer%27%3ECalendar%20data%3C%2Fa%3E,%3Ca%20href%3D%27https%3A%2F%2Fupgini.com%2F%23data_sources%27%20target%3D%27_blank%27%20rel%3D%27noopener%20noreferrer%27%3EMarkets%20data%3C%2Fa%3E%09Daily%0Af_autofe_mul_08e89348%090.0066%09100.0%09-103.3131,%2028.7401,%20-49.3898%09Upgini%09AutoFE%3A%20features%20from%20%3Ca%20href%3D%27https%3A%2F%2Fupgini.com%2F%23data_sources%27%20target%3D%27_blank%27%20rel%3D%27noopener%20noreferrer%27%3ECalendar%20data%3C%2Fa%3E,%3Ca%20href%3D%27https%3A%2F%2Fupgini.com%2F%23data_sources%27%20target%3D%27_blank%27%20rel%3D%27noopener%20noreferrer%27%3EMarkets%20data%3C%2Fa%3E%09Daily%0Af_autofe_div_cf5dd7be%090.0063%09100.0%090.964,%20-1.0146,%20-0.9607%09Upgini%09AutoFE%3A%20features%20from%20%3Ca%20href%3D%27https%3A%2F%2Fupgini.com%2F%23data_sources%27%20target%3D%27_blank%27%20rel%3D%27noopener%20noreferrer%27%3ECalendar%20data%3C%2Fa%3E,%3Ca%20href%3D%27https%3A%2F%2Fupgini.com%2F%23data_sources%27%20target%3D%27_blank%27%20rel%3D%27noopener%20noreferrer%27%3EMarkets%20data%3C%2Fa%3E%09Daily%0Af_autofe_mul_34d11bc4%090.0062%09100.0%091.9603,%20-6.9296,%20-19.4736%09Upgini%09AutoFE%3A%20features%20from%20%3Ca%20href%3D%27https%3A%2F%2Fupgini.com%2F%23data_sources%27%20target%3D%27_blank%27%20rel%3D%27noopener%20noreferrer%27%3ECalendar%20data%3C%2Fa%3E,%3Ca%20href%3D%27https%3A%2F%2Fupgini.com%2F%23data_sources%27%20target%3D%27_blank%27%20rel%3D%27noopener%20noreferrer%27%3EMarkets%20data%3C%2Fa%3E%09Daily%0Af_autofe_div_3e22df83%090.0061%09100.0%09-0.0158,%20-0.0083,%200.0104%09Upgini%09AutoFE%3A%20features%20from%20%3Ca%20href%3D%27https%3A%2F%2Fupgini.com%2F%23data_sources%27%20target%3D%27_blank%27%20rel%3D%27noopener%20noreferrer%27%3ECalendar%20data%3C%2Fa%3E,%3Ca%20href%3D%27https%3A%2F%2Fupgini.com%2F%23data_sources%27%20target%3D%27_blank%27%20rel%3D%27noopener%20noreferrer%27%3EMarkets%20data%3C%2Fa%3E%09Daily%0Af_autofe_mul_6234ba3a%090.005%09100.0%091.0681,%200.536,%200.7959%09Upgini%09AutoFE%3A%20features%20from%20%3Ca%20href%3D%27https%3A%2F%2Fupgini.com%2F%23data_sources%27%20target%3D%27_blank%27%20rel%3D%27noopener%20noreferrer%27%3EMarkets%20data%3C%2Fa%3E%09Daily%0Af_autofe_mul_5bd50798%090.0049%09100.0%09-0.95,%20-0.2789,%200.573%09Upgini%09AutoFE%3A%20features%20from%20%3Ca%20href%3D%27https%3A%2F%2Fupgini.com%2F%23data_sources%27%20target%3D%27_blank%27%20rel%3D%27noopener%20noreferrer%27%3ECalendar%20data%3C%2Fa%3E,%3Ca%20href%3D%27https%3A%2F%2Fupgini.com%2F%23data_sources%27%20target%3D%27_blank%27%20rel%3D%27noopener%20noreferrer%27%3EMarkets%20data%3C%2Fa%3E%09Daily%0Af_autofe_div_1edd5009%090.0048%09100.0%09-0.007,%200.0337,%200.082%09Upgini%09AutoFE%3A%20features%20from%20%3Ca%20href%3D%27https%3A%2F%2Fupgini.com%2F%23data_sources%27%20target%3D%27_blank%27%20rel%3D%27noopener%20noreferrer%27%3ECalendar%20data%3C%2Fa%3E,%3Ca%20href%3D%27https%3A%2F%2Fupgini.com%2F%23data_sources%27%20target%3D%27_blank%27%20rel%3D%27noopener%20noreferrer%27%3EMarkets%20data%3C%2Fa%3E%09Daily%0Af_autofe_div_283a6178%090.0045%09100.0%090.0067,%200.0106,%20-0.0027%09Upgini%09AutoFE%3A%20features%20from%20%3Ca%20href%3D%27https%3A%2F%2Fupgini.com%2F%23data_sources%27%20target%3D%27_blank%27%20rel%3D%27noopener%20noreferrer%27%3ECalendar%20data%3C%2Fa%3E,%3Ca%20href%3D%27https%3A%2F%2Fupgini.com%2F%23data_sources%27%20target%3D%27_blank%27%20rel%3D%27noopener%20noreferrer%27%3EMarkets%20data%3C%2Fa%3E%09Daily%0Af_autofe_div_89c56a5f%090.0043%09100.0%09-1.1495,%201.3058,%20-0.7045%09Upgini%09AutoFE%3A%20features%20from%20%3Ca%20href%3D%27https%3A%2F%2Fupgini.com%2F%23data_sources%27%20target%3D%27_blank%27%20rel%3D%27noopener%20noreferrer%27%3ECalendar%20data%3C%2Fa%3E,%3Ca%20href%3D%27https%3A%2F%2Fupgini.com%2F%23data_sources%27%20target%3D%27_blank%27%20rel%3D%27noopener%20noreferrer%27%3EMarkets%20data%3C%2Fa%3E%09Daily%0Af_autofe_mul_25296268%090.004%09100.0%090.3278,%200.3831,%200.5559%09Upgini%09AutoFE%3A%20features%20from%20%3Ca%20href%3D%27https%3A%2F%2Fupgini.com%2F%23data_sources%27%20target%3D%27_blank%27%20rel%3D%27noopener%20noreferrer%27%3ECalendar%20data%3C%2Fa%3E,%3Ca%20href%3D%27https%3A%2F%2Fupgini.com%2F%23data_sources%27%20target%3D%27_blank%27%20rel%3D%27noopener%20noreferrer%27%3EMarkets%20data%3C%2Fa%3E%09Daily%0Af_autofe_div_abde95f5%090.0031%09100.0%09-0.7603,%20-0.2616,%20-0.6488%09Upgini%09AutoFE%3A%20features%20from%20%3Ca%20href%3D%27https%3A%2F%2Fupgini.com%2F%23data_sources%27%20target%3D%27_blank%27%20rel%3D%27noopener%20noreferrer%27%3ECalendar%20data%3C%2Fa%3E,%3Ca%20href%3D%27https%3A%2F%2Fupgini.com%2F%23data_sources%27%20target%3D%27_blank%27%20rel%3D%27noopener%20noreferrer%27%3EMarkets%20data%3C%2Fa%3E%09Daily%0Af_autofe_div_c9ddcb38%090.0025%09100.0%09-0.2543,%20-0.9113,%20-0.2173%09Upgini%09AutoFE%3A%20features%20from%20%3Ca%20href%3D%27https%3A%2F%2Fupgini.com%2F%23data_sources%27%20target%3D%27_blank%27%20rel%3D%27noopener%20noreferrer%27%3ECalendar%20data%3C%2Fa%3E,%3Ca%20href%3D%27https%3A%2F%2Fupgini.com%2F%23data_sources%27%20target%3D%27_blank%27%20rel%3D%27noopener%20noreferrer%27%3EMarkets%20data%3C%2Fa%3E%09Daily%0Af_autofe_div_455a9ecb%090.0025%09100.0%090.0541,%200.0563,%200.1083%09Upgini%09AutoFE%3A%20features%20from%20%3Ca%20href%3D%27https%3A%2F%2Fupgini.com%2F%23data_sources%27%20target%3D%27_blank%27%20rel%3D%27noopener%20noreferrer%27%3EMarkets%20data%3C%2Fa%3E%09Daily%0Af_autofe_mul_7b115967%090.0024%09100.0%091.1038,%20-0.2154,%20-0.898%09Upgini%09AutoFE%3A%20features%20from%20%3Ca%20href%3D%27https%3A%2F%2Fupgini.com%2F%23data_sources%27%20target%3D%27_blank%27%20rel%3D%27noopener%20noreferrer%27%3ECalendar%20data%3C%2Fa%3E,%3Ca%20href%3D%27https%3A%2F%2Fupgini.com%2F%23data_sources%27%20target%3D%27_blank%27%20rel%3D%27noopener%20noreferrer%27%3EMarkets%20data%3C%2Fa%3E%09Daily%0Af_autofe_div_d57fd206%090.002%09100.0%09-1.0504,%20-1.0081,%20-0.8123%09Upgini%09AutoFE%3A%20features%20from%20%3Ca%20href%3D%27https%3A%2F%2Fupgini.com%2F%23data_sources%27%20target%3D%27_blank%27%20rel%3D%27noopener%20noreferrer%27%3ECalendar%20data%3C%2Fa%3E,%3Ca%20href%3D%27https%3A%2F%2Fupgini.com%2F%23data_sources%27%20target%3D%27_blank%27%20rel%3D%27noopener%20noreferrer%27%3EMarkets%20data%3C%2Fa%3E%09Daily%0Af_autofe_div_ba625fe9%090.0019%09100.0%091.0116,%20-1.1819,%20-2.9236%09Upgini%09AutoFE%3A%20features%20from%20%3Ca%20href%3D%27https%3A%2F%2Fupgini.com%2F%23data_sources%27%20target%3D%27_blank%27%20rel%3D%27noopener%20noreferrer%27%3ECalendar%20data%3C%2Fa%3E%09Daily%0Af_autofe_mul_0cc09d2d%090.0019%09100.0%09-45.548,%20-26.8993,%20-34.166%09Upgini%09AutoFE%3A%20features%20from%20%3Ca%20href%3D%27https%3A%2F%2Fupgini.com%2F%23data_sources%27%20target%3D%27_blank%27%20rel%3D%27noopener%20noreferrer%27%3ECalendar%20data%3C%2Fa%3E,%3Ca%20href%3D%27https%3A%2F%2Fupgini.com%2F%23data_sources%27%20target%3D%27_blank%27%20rel%3D%27noopener%20noreferrer%27%3EMarkets%20data%3C%2Fa%3E%09Daily%0Af_autofe_div_fa0777db%090.0017%09100.0%090.0018,%20-0.0024,%20-0.0007%09Upgini%09AutoFE%3A%20features%20from%20%3Ca%20href%3D%27https%3A%2F%2Fupgini.com%2F%23data_sources%27%20target%3D%27_blank%27%20rel%3D%27noopener%20noreferrer%27%3ECalendar%20data%3C%2Fa%3E,%3Ca%20href%3D%27https%3A%2F%2Fupgini.com%2F%23data_sources%27%20target%3D%27_blank%27%20rel%3D%27noopener%20noreferrer%27%3EMarkets%20data%3C%2Fa%3E%09Daily%0Af_events_date_year_cos1_9014a856%090.0015%09100.0%090.9413,%200.0215,%20-0.969%09Upgini%09Calendar%20data%09Daily%0Af_autofe_div_40bee497%090.0014%09100.0%090.002,%20-0.0007,%200.0016%09Upgini%09AutoFE%3A%20features%20from%20%3Ca%20href%3D%27https%3A%2F%2Fupgini.com%2F%23data_sources%27%20target%3D%27_blank%27%20rel%3D%27noopener%20noreferrer%27%3ECalendar%20data%3C%2Fa%3E,%3Ca%20href%3D%27https%3A%2F%2Fupgini.com%2F%23data_sources%27%20target%3D%27_blank%27%20rel%3D%27noopener%20noreferrer%27%3EMarkets%20data%3C%2Fa%3E%09Daily%0Af_autofe_div_270d64a2%090.0014%09100.0%09-0.2282,%200.6618,%200.6534%09Upgini%09AutoFE%3A%20features%20from%20%3Ca%20href%3D%27https%3A%2F%2Fupgini.com%2F%23data_sources%27%20target%3D%27_blank%27%20rel%3D%27noopener%20noreferrer%27%3ECalendar%20data%3C%2Fa%3E,%3Ca%20href%3D%27https%3A%2F%2Fupgini.com%2F%23data_sources%27%20target%3D%27_blank%27%20rel%3D%27noopener%20noreferrer%27%3EMarkets%20data%3C%2Fa%3E%09Daily%0Af_autofe_mul_b49258bb%090.0014%09100.0%09-267.1987,%20294.672,%20-308.5647%09Upgini%09AutoFE%3A%20features%20from%20%3Ca%20href%3D%27https%3A%2F%2Fupgini.com%2F%23data_sources%27%20target%3D%27_blank%27%20rel%3D%27noopener%20noreferrer%27%3ECalendar%20data%3C%2Fa%3E,%3Ca%20href%3D%27https%3A%2F%2Fupgini.com%2F%23data_sources%27%20target%3D%27_blank%27%20rel%3D%27noopener%20noreferrer%27%3EMarkets%20data%3C%2Fa%3E%09Daily%0Af_autofe_div_c855cf40%090.0013%09100.0%09-0.0091,%20-0.0025,%200.0076%09Upgini%09AutoFE%3A%20features%20from%20%3Ca%20href%3D%27https%3A%2F%2Fupgini.com%2F%23data_sources%27%20target%3D%27_blank%27%20rel%3D%27noopener%20noreferrer%27%3ECalendar%20data%3C%2Fa%3E,%3Ca%20href%3D%27https%3A%2F%2Fupgini.com%2F%23data_sources%27%20target%3D%27_blank%27%20rel%3D%27noopener%20noreferrer%27%3EMarkets%20data%3C%2Fa%3E%09Daily%0Af_autofe_mul_4c9c7d0a%090.0013%09100.0%090.6665,%201.0552,%200.8081%09Upgini%09AutoFE%3A%20features%20from%20%3Ca%20href%3D%27https%3A%2F%2Fupgini.com%2F%23data_sources%27%20target%3D%27_blank%27%20rel%3D%27noopener%20noreferrer%27%3EMarkets%20data%3C%2Fa%3E%09Daily%0Af_weather_date_weather_umap_33_89bb7578%090.001%09100.0%095.131,%204.6013,%205.8126%09Upgini%09Weather%20%26%20climate%20normals%20data%09Daily%0Af_autofe_div_e79e322c%090.001%09100.0%090.6225,%200.6327,%20-0.2251%09Upgini%09AutoFE%3A%20features%20from%20%3Ca%20href%3D%27https%3A%2F%2Fupgini.com%2F%23data_sources%27%20target%3D%27_blank%27%20rel%3D%27noopener%20noreferrer%27%3ECalendar%20data%3C%2Fa%3E,%3Ca%20href%3D%27https%3A%2F%2Fupgini.com%2F%23data_sources%27%20target%3D%27_blank%27%20rel%3D%27noopener%20noreferrer%27%3EMarkets%20data%3C%2Fa%3E%09Daily%0Af_autofe_mul_0afc7563%090.001%09100.0%09-0.0056,%200.4287,%200.6804%09Upgini%09AutoFE%3A%20features%20from%20%3Ca%20href%3D%27https%3A%2F%2Fupgini.com%2F%23data_sources%27%20target%3D%27_blank%27%20rel%3D%27noopener%20noreferrer%27%3ECalendar%20data%3C%2Fa%3E%09Daily%0Af_autofe_mul_09cabb32%090.0007%09100.0%090.9977,%20-0.8561,%20-0.9086%09Upgini%09AutoFE%3A%20features%20from%20%3Ca%20href%3D%27https%3A%2F%2Fupgini.com%2F%23data_sources%27%20target%3D%27_blank%27%20rel%3D%27noopener%20noreferrer%27%3ECalendar%20data%3C%2Fa%3E,%3Ca%20href%3D%27https%3A%2F%2Fupgini.com%2F%23data_sources%27%20target%3D%27_blank%27%20rel%3D%27noopener%20noreferrer%27%3EMarkets%20data%3C%2Fa%3E%09Daily%0Af_autofe_mul_242bbe3e%090.0007%09100.0%09-0.8897,%20-0.8507,%20-1.057%09Upgini%09AutoFE%3A%20features%20from%20%3Ca%20href%3D%27https%3A%2F%2Fupgini.com%2F%23data_sources%27%20target%3D%27_blank%27%20rel%3D%27noopener%20noreferrer%27%3ECalendar%20data%3C%2Fa%3E,%3Ca%20href%3D%27https%3A%2F%2Fupgini.com%2F%23data_sources%27%20target%3D%27_blank%27%20rel%3D%27noopener%20noreferrer%27%3EMarkets%20data%3C%2Fa%3E%09Daily%0Af_autofe_mul_dda91e30%090.0007%09100.0%090.8048,%200.7646,%20-0.7628%09Upgini%09AutoFE%3A%20features%20from%20%3Ca%20href%3D%27https%3A%2F%2Fupgini.com%2F%23data_sources%27%20target%3D%27_blank%27%20rel%3D%27noopener%20noreferrer%27%3ECalendar%20data%3C%2Fa%3E,%3Ca%20href%3D%27https%3A%2F%2Fupgini.com%2F%23data_sources%27%20target%3D%27_blank%27%20rel%3D%27noopener%20noreferrer%27%3EMarkets%20data%3C%2Fa%3E%09Daily%0Af_autofe_mul_5cf72e2c%090.0006%09100.0%09-1.1042,%20-1.0775,%200.6934%09Upgini%09AutoFE%3A%20features%20from%20%3Ca%20href%3D%27https%3A%2F%2Fupgini.com%2F%23data_sources%27%20target%3D%27_blank%27%20rel%3D%27noopener%20noreferrer%27%3ECalendar%20data%3C%2Fa%3E,%3Ca%20href%3D%27https%3A%2F%2Fupgini.com%2F%23data_sources%27%20target%3D%27_blank%27%20rel%3D%27noopener%20noreferrer%27%3EMarkets%20data%3C%2Fa%3E%09Daily%0Af_weather_date_weather_umap_1_68679173%090.0006%09100.0%094.8392,%207.2443,%20-3.2211%09Upgini%09Weather%20%26%20climate%20normals%20data%09Daily%0Af_weather_date_weather_pca_2_ecef8c63%090.0006%09100.0%09-4.9021,%20-6.0644,%200.1122%09Upgini%09Weather%20%26%20climate%20normals%20data%09Daily%0Af_autofe_mul_b2bfad41%090.0006%09100.0%090.5032,%201.1139,%200.8019%09Upgini%09AutoFE%3A%20features%20from%20%3Ca%20href%3D%27https%3A%2F%2Fupgini.com%2F%23data_sources%27%20target%3D%27_blank%27%20rel%3D%27noopener%20noreferrer%27%3ECalendar%20data%3C%2Fa%3E,%3Ca%20href%3D%27https%3A%2F%2Fupgini.com%2F%23data_sources%27%20target%3D%27_blank%27%20rel%3D%27noopener%20noreferrer%27%3EMarkets%20data%3C%2Fa%3E%09Daily%0Af_autofe_div_c4537a19%090.0006%09100.0%090.0031,%200.0028,%200.0028%09Upgini%09AutoFE%3A%20features%20from%20%3Ca%20href%3D%27https%3A%2F%2Fupgini.com%2F%23data_sources%27%20target%3D%27_blank%27%20rel%3D%27noopener%20noreferrer%27%3EMarkets%20data%3C%2Fa%3E%09Daily%0Af_autofe_div_1197f7eb%090.0006%09100.0%09-0.2207,%20-0.2248,%201.0103%09Upgini%09AutoFE%3A%20features%20from%20%3Ca%20href%3D%27https%3A%2F%2Fupgini.com%2F%23data_sources%27%20target%3D%27_blank%27%20rel%3D%27noopener%20noreferrer%27%3ECalendar%20data%3C%2Fa%3E,%3Ca%20href%3D%27https%3A%2F%2Fupgini.com%2F%23data_sources%27%20target%3D%27_blank%27%20rel%3D%27noopener%20noreferrer%27%3EMarkets%20data%3C%2Fa%3E%09Daily%0Af_autofe_mul_165c74ad%090.0005%09100.0%09-0.656,%200.8422,%200.711%09Upgini%09AutoFE%3A%20features%20from%20%3Ca%20href%3D%27https%3A%2F%2Fupgini.com%2F%23data_sources%27%20target%3D%27_blank%27%20rel%3D%27noopener%20noreferrer%27%3ECalendar%20data%3C%2Fa%3E,%3Ca%20href%3D%27https%3A%2F%2Fupgini.com%2F%23data_sources%27%20target%3D%27_blank%27%20rel%3D%27noopener%20noreferrer%27%3EMarkets%20data%3C%2Fa%3E%09Daily%0Af_economic_date_cbpol_pca_9_bde660b4%090.0005%09100.0%09-0.7218,%20-2.4726,%201.4992%09Upgini%09World%20economic%20indicators%09Daily%0Af_autofe_mul_402f5e6a%090.0004%09100.0%090.4399,%200.8281,%20-0.4415%09Upgini%09AutoFE%3A%20features%20from%20%3Ca%20href%3D%27https%3A%2F%2Fupgini.com%2F%23data_sources%27%20target%3D%27_blank%27%20rel%3D%27noopener%20noreferrer%27%3ECalendar%20data%3C%2Fa%3E,%3Ca%20href%3D%27https%3A%2F%2Fupgini.com%2F%23data_sources%27%20target%3D%27_blank%27%20rel%3D%27noopener%20noreferrer%27%3EMarkets%20data%3C%2Fa%3E%09Daily%0Af_autofe_mul_af2318dc%090.0004%09100.0%09-0.9123,%200.6214,%20-0.2334%09Upgini%09AutoFE%3A%20features%20from%20%3Ca%20href%3D%27https%3A%2F%2Fupgini.com%2F%23data_sources%27%20target%3D%27_blank%27%20rel%3D%27noopener%20noreferrer%27%3ECalendar%20data%3C%2Fa%3E,%3Ca%20href%3D%27https%3A%2F%2Fupgini.com%2F%23data_sources%27%20target%3D%27_blank%27%20rel%3D%27noopener%20noreferrer%27%3EMarkets%20data%3C%2Fa%3E%09Daily%0Af_autofe_div_d0993cdc%090.0004%09100.0%09318.2301,%20368.861,%20360.0126%09Upgini%09AutoFE%3A%20features%20from%20%3Ca%20href%3D%27https%3A%2F%2Fupgini.com%2F%23data_sources%27%20target%3D%27_blank%27%20rel%3D%27noopener%20noreferrer%27%3EMarkets%20data%3C%2Fa%3E%09Daily%0Af_autofe_mul_eff3c92e%090.0004%09100.0%090.6503,%200.8643,%200.6279%09Upgini%09AutoFE%3A%20features%20from%20%3Ca%20href%3D%27https%3A%2F%2Fupgini.com%2F%23data_sources%27%20target%3D%27_blank%27%20rel%3D%27noopener%20noreferrer%27%3EMarkets%20data%3C%2Fa%3E%09Daily%0Af_weather_date_weather_umap_5_88023931%090.0004%09100.0%094.9433,%206.4892,%204.4133%09Upgini%09Weather%20%26%20climate%20normals%20data%09Daily%0Af_financial_date_nasdaq_7d_to_1y_b00bfaa7%090.0004%09100.0%091.0665,%201.1613,%201.1066%09Upgini%09Markets%20data%09Daily%0Af_autofe_div_0411c316%090.0004%09100.0%09-0.441,%20-0.9606,%20-0.703%09Upgini%09AutoFE%3A%20features%20from%20%3Ca%20href%3D%27https%3A%2F%2Fupgini.com%2F%23data_sources%27%20target%3D%27_blank%27%20rel%3D%27noopener%20noreferrer%27%3ECalendar%20data%3C%2Fa%3E,%3Ca%20href%3D%27https%3A%2F%2Fupgini.com%2F%23data_sources%27%20target%3D%27_blank%27%20rel%3D%27noopener%20noreferrer%27%3EMarkets%20data%3C%2Fa%3E%09Daily%0Af_autofe_mul_efa07492%090.0004%09100.0%09-3.2993,%20-1.0474,%201.4571%09Upgini%09AutoFE%3A%20features%20from%20%3Ca%20href%3D%27https%3A%2F%2Fupgini.com%2F%23data_sources%27%20target%3D%27_blank%27%20rel%3D%27noopener%20noreferrer%27%3ECalendar%20data%3C%2Fa%3E,%3Ca%20href%3D%27https%3A%2F%2Fupgini.com%2F%23data_sources%27%20target%3D%27_blank%27%20rel%3D%27noopener%20noreferrer%27%3EMarkets%20data%3C%2Fa%3E%09Daily%0Af_autofe_mul_041b52f4%090.0003%09100.0%090.1866,%200.1252,%20-0.0605%09Upgini%09AutoFE%3A%20features%20from%20%3Ca%20href%3D%27https%3A%2F%2Fupgini.com%2F%23data_sources%27%20target%3D%27_blank%27%20rel%3D%27noopener%20noreferrer%27%3ECalendar%20data%3C%2Fa%3E%09Daily%0Af_autofe_mul_44503c6f%090.0003%09100.0%091.4034,%202.9744,%203.9744%09Upgini%09AutoFE%3A%20features%20from%20%3Ca%20href%3D%27https%3A%2F%2Fupgini.com%2F%23data_sources%27%20target%3D%27_blank%27%20rel%3D%27noopener%20noreferrer%27%3EMarkets%20data%3C%2Fa%3E%09Daily%0Af_autofe_mul_f018fe89%090.0003%09100.0%09-0.9124,%20-0.2217,%200.5474%09Upgini%09AutoFE%3A%20features%20from%20%3Ca%20href%3D%27https%3A%2F%2Fupgini.com%2F%23data_sources%27%20target%3D%27_blank%27%20rel%3D%27noopener%20noreferrer%27%3ECalendar%20data%3C%2Fa%3E%09Daily%0Af_autofe_mul_4ee11e5f%090.0003%09100.0%09106.0112,%2097.4894,%20105.6343%09Upgini%09AutoFE%3A%20features%20from%20%3Ca%20href%3D%27https%3A%2F%2Fupgini.com%2F%23data_sources%27%20target%3D%27_blank%27%20rel%3D%27noopener%20noreferrer%27%3EMarkets%20data%3C%2Fa%3E%09Daily%0Af_autofe_mul_c883f8a6%090.0002%09100.0%09330.6239,%20376.6555,%20334.9244%09Upgini%09AutoFE%3A%20features%20from%20%3Ca%20href%3D%27https%3A%2F%2Fupgini.com%2F%23data_sources%27%20target%3D%27_blank%27%20rel%3D%27noopener%20noreferrer%27%3EMarkets%20data%3C%2Fa%3E%09Daily%0Af_autofe_div_fb99ff57%090.0002%09100.0%09337.4877,%20330.4493,%20391.1068%09Upgini%09AutoFE%3A%20features%20from%20%3Ca%20href%3D%27https%3A%2F%2Fupgini.com%2F%23data_sources%27%20target%3D%27_blank%27%20rel%3D%27noopener%20noreferrer%27%3EMarkets%20data%3C%2Fa%3E%09Daily%0Af_autofe_mul_58cac651%090.0001%09100.0%090.6517,%200.1711,%200.4175%09Upgini%09AutoFE%3A%20features%20from%20%3Ca%20href%3D%27https%3A%2F%2Fupgini.com%2F%23data_sources%27%20target%3D%27_blank%27%20rel%3D%27noopener%20noreferrer%27%3ECalendar%20data%3C%2Fa%3E%09Daily%0Af_autofe_div_ef42018c%090.0001%09100.0%091.0276,%200.9997,%201.0005%09Upgini%09AutoFE%3A%20features%20from%20%3Ca%20href%3D%27https%3A%2F%2Fupgini.com%2F%23data_sources%27%20target%3D%27_blank%27%20rel%3D%27noopener%20noreferrer%27%3EMarkets%20data%3C%2Fa%3E%09Daily%0Af_autofe_div_84649ac5%090.0001%09100.0%09-0.2229,%20-0.2221,%20-0.228%09Upgini%09AutoFE%3A%20features%20from%20%3Ca%20href%3D%27https%3A%2F%2Fupgini.com%2F%23data_sources%27%20target%3D%27_blank%27%20rel%3D%27noopener%20noreferrer%27%3ECalendar%20data%3C%2Fa%3E,%3Ca%20href%3D%27https%3A%2F%2Fupgini.com%2F%23data_sources%27%20target%3D%27_blank%27%20rel%3D%27noopener%20noreferrer%27%3EMarkets%20data%3C%2Fa%3E%09Daily%0Af_autofe_mul_9091be3b%090.0001%09100.0%0928.549,%2018.2449,%2015.736%09Upgini%09AutoFE%3A%20features%20from%20%3Ca%20href%3D%27https%3A%2F%2Fupgini.com%2F%23data_sources%27%20target%3D%27_blank%27%20rel%3D%27noopener%20noreferrer%27%3EMarkets%20data%3C%2Fa%3E%09Daily%0Af_autofe_div_17716d2e%090.0001%09100.0%090.4732,%201.8966,%20-2.1386%09Upgini%09AutoFE%3A%20features%20from%20%3Ca%20href%3D%27https%3A%2F%2Fupgini.com%2F%23data_sources%27%20target%3D%27_blank%27%20rel%3D%27noopener%20noreferrer%27%3ECalendar%20data%3C%2Fa%3E%09Daily%0Af_autofe_div_22b77c5b%090.0001%09100.0%09-0.8506,%20-1.186,%201.0173%09Upgini%09AutoFE%3A%20features%20from%20%3Ca%20href%3D%27https%3A%2F%2Fupgini.com%2F%23data_sources%27%20target%3D%27_blank%27%20rel%3D%27noopener%20noreferrer%27%3ECalendar%20data%3C%2Fa%3E,%3Ca%20href%3D%27https%3A%2F%2Fupgini.com%2F%23data_sources%27%20target%3D%27_blank%27%20rel%3D%27noopener%20noreferrer%27%3EMarkets%20data%3C%2Fa%3E%09Daily%0Af_autofe_div_7cd7dbff%090.0001%09100.0%09-1.0557,%200.2232,%20-1.7876%09Upgini%09AutoFE%3A%20features%20from%20%3Ca%20href%3D%27https%3A%2F%2Fupgini.com%2F%23data_sources%27%20target%3D%27_blank%27%20rel%3D%27noopener%20noreferrer%27%3ECalendar%20data%3C%2Fa%3E%09Daily%0Af_autofe_mul_5c76b026%090.0001%09100.0%0920.5163,%2020.8251,%2028.4963%09Upgini%09AutoFE%3A%20features%20from%20%3Ca%20href%3D%27https%3A%2F%2Fupgini.com%2F%23data_sources%27%20target%3D%27_blank%27%20rel%3D%27noopener%20noreferrer%27%3EMarkets%20data%3C%2Fa%3E%09Daily%0Af_autofe_mul_6a97c336%090.0001%09100.0%090.5832,%200.7371,%20-0.2155%09Upgini%09AutoFE%3A%20features%20from%20%3Ca%20href%3D%27https%3A%2F%2Fupgini.com%2F%23data_sources%27%20target%3D%27_blank%27%20rel%3D%27noopener%20noreferrer%27%3ECalendar%20data%3C%2Fa%3E,%3Ca%20href%3D%27https%3A%2F%2Fupgini.com%2F%23data_sources%27%20target%3D%27_blank%27%20rel%3D%27noopener%20noreferrer%27%3EMarkets%20data%3C%2Fa%3E%09Daily%0Af_autofe_mul_8437d645%090.0001%09100.0%09-22.0251,%2093.43,%20-18.8386%09Upgini%09AutoFE%3A%20features%20from%20%3Ca%20href%3D%27https%3A%2F%2Fupgini.com%2F%23data_sources%27%20target%3D%27_blank%27%20rel%3D%27noopener%20noreferrer%27%3ECalendar%20data%3C%2Fa%3E,%3Ca%20href%3D%27https%3A%2F%2Fupgini.com%2F%23data_sources%27%20target%3D%27_blank%27%20rel%3D%27noopener%20noreferrer%27%3EMarkets%20data%3C%2Fa%3E%09Daily%0Af_autofe_mul_a36d46a7%090.0001%09100.0%09-0.7548,%20-0.4101,%20-0.3516%09Upgini%09AutoFE%3A%20features%20from%20%3Ca%20href%3D%27https%3A%2F%2Fupgini.com%2F%23data_sources%27%20target%3D%27_blank%27%20rel%3D%27noopener%20noreferrer%27%3ECalendar%20data%3C%2Fa%3E,%3Ca%20href%3D%27https%3A%2F%2Fupgini.com%2F%23data_sources%27%20target%3D%27_blank%27%20rel%3D%27noopener%20noreferrer%27%3EMarkets%20data%3C%2Fa%3E%09Daily%0Af_economic_date_cbpol_umap_7_a80d807e%090.0001%09100.0%091.9567,%205.338,%208.481%09Upgini%09World%20economic%20indicators%09Daily%0Af_events_date_year_sin1_3c44bc64%090.0001%09100.0%09-0.9445,%200.9648,%200.6729%09Upgini%09Calendar%20data%09Daily%0A'>\n",
              "                    <button>📨 Share</button>\n",
              "                </a>\n",
              "            </div>\n",
              "            <table class='upgini-df'><thead><th>Feature name</th><th>SHAP value</th><th>Coverage %</th><th>Value preview</th><th>Provider</th><th>Source</th><th>Updates</th></thead><tbody><tr><td class='upgini-text'><a href='https://docs.upgini.com/public/weather/weather_umap#f_weather_date_weather_umap_31_fa6d9a99' target='_blank' rel='noopener noreferrer'>f_weather_date_weather_umap_31_fa6d9a99</a></td><td class='upgini-number'>0.0238</td><td class='upgini-number'>100.0000</td><td class='upgini-text'>4.8811, 5.0937, 4.778</td><td class='upgini-text'><a href='https://upgini.com' target='_blank' rel='noopener noreferrer'>Upgini</a></td><td class='upgini-text'><a href='https://upgini.com/#data_sources' target='_blank' rel='noopener noreferrer'>Weather & climate normals data</a></td><td class='upgini-text'>Daily</td></tr><tr><td class='upgini-text'><a href='https://docs.upgini.com/public/weather/weather_umap#f_weather_date_weather_umap_48_b39cd0c4' target='_blank' rel='noopener noreferrer'>f_weather_date_weather_umap_48_b39cd0c4</a></td><td class='upgini-number'>0.0221</td><td class='upgini-number'>100.0000</td><td class='upgini-text'>5.5774, 5.6312, 5.3959</td><td class='upgini-text'><a href='https://upgini.com' target='_blank' rel='noopener noreferrer'>Upgini</a></td><td class='upgini-text'><a href='https://upgini.com/#data_sources' target='_blank' rel='noopener noreferrer'>Weather & climate normals data</a></td><td class='upgini-text'>Daily</td></tr><tr><td class='upgini-text'>f_autofe_div_3295865b</td><td class='upgini-number'>0.0189</td><td class='upgini-number'>100.0000</td><td class='upgini-text'>1.142, 0.924, 0.8891</td><td class='upgini-text'><a href='https://upgini.com' target='_blank' rel='noopener noreferrer'>Upgini</a></td><td class='upgini-text'>AutoFE: features from <a href='https://upgini.com/#data_sources' target='_blank' rel='noopener noreferrer'>Markets data</a></td><td class='upgini-text'>Daily</td></tr><tr><td class='upgini-text'><a href='https://docs.upgini.com/public/weather/weather_umap#f_weather_date_weather_umap_34_c3ef5b4f' target='_blank' rel='noopener noreferrer'>f_weather_date_weather_umap_34_c3ef5b4f</a></td><td class='upgini-number'>0.0188</td><td class='upgini-number'>100.0000</td><td class='upgini-text'>5.2742, 4.636, 4.7871</td><td class='upgini-text'><a href='https://upgini.com' target='_blank' rel='noopener noreferrer'>Upgini</a></td><td class='upgini-text'><a href='https://upgini.com/#data_sources' target='_blank' rel='noopener noreferrer'>Weather & climate normals data</a></td><td class='upgini-text'>Daily</td></tr><tr><td class='upgini-text'>f_autofe_div_50507976</td><td class='upgini-number'>0.0102</td><td class='upgini-number'>100.0000</td><td class='upgini-text'>-0.0562, -0.0293, -0.0037</td><td class='upgini-text'><a href='https://upgini.com' target='_blank' rel='noopener noreferrer'>Upgini</a></td><td class='upgini-text'>AutoFE: features from <a href='https://upgini.com/#data_sources' target='_blank' rel='noopener noreferrer'>Calendar data</a>,<a href='https://upgini.com/#data_sources' target='_blank' rel='noopener noreferrer'>Markets data</a></td><td class='upgini-text'>Daily</td></tr><tr><td class='upgini-text'><a href='https://docs.upgini.com/public/weather/weather_pca#f_weather_date_weather_pca_0_d7e0a1fc' target='_blank' rel='noopener noreferrer'>f_weather_date_weather_pca_0_d7e0a1fc</a></td><td class='upgini-number'>0.0068</td><td class='upgini-number'>100.0000</td><td class='upgini-text'>1.4128, 4.3166, -20.7635</td><td class='upgini-text'><a href='https://upgini.com' target='_blank' rel='noopener noreferrer'>Upgini</a></td><td class='upgini-text'><a href='https://upgini.com/#data_sources' target='_blank' rel='noopener noreferrer'>Weather & climate normals data</a></td><td class='upgini-text'>Daily</td></tr><tr><td class='upgini-text'>f_autofe_mul_478be4f3</td><td class='upgini-number'>0.0066</td><td class='upgini-number'>100.0000</td><td class='upgini-text'>-1.221, 0.213, -1.0832</td><td class='upgini-text'><a href='https://upgini.com' target='_blank' rel='noopener noreferrer'>Upgini</a></td><td class='upgini-text'>AutoFE: features from <a href='https://upgini.com/#data_sources' target='_blank' rel='noopener noreferrer'>Calendar data</a>,<a href='https://upgini.com/#data_sources' target='_blank' rel='noopener noreferrer'>Markets data</a></td><td class='upgini-text'>Daily</td></tr><tr><td class='upgini-text'>f_autofe_mul_08e89348</td><td class='upgini-number'>0.0066</td><td class='upgini-number'>100.0000</td><td class='upgini-text'>-103.3131, 28.7401, -49.3898</td><td class='upgini-text'><a href='https://upgini.com' target='_blank' rel='noopener noreferrer'>Upgini</a></td><td class='upgini-text'>AutoFE: features from <a href='https://upgini.com/#data_sources' target='_blank' rel='noopener noreferrer'>Calendar data</a>,<a href='https://upgini.com/#data_sources' target='_blank' rel='noopener noreferrer'>Markets data</a></td><td class='upgini-text'>Daily</td></tr><tr><td class='upgini-text'>f_autofe_div_cf5dd7be</td><td class='upgini-number'>0.0063</td><td class='upgini-number'>100.0000</td><td class='upgini-text'>0.964, -1.0146, -0.9607</td><td class='upgini-text'><a href='https://upgini.com' target='_blank' rel='noopener noreferrer'>Upgini</a></td><td class='upgini-text'>AutoFE: features from <a href='https://upgini.com/#data_sources' target='_blank' rel='noopener noreferrer'>Calendar data</a>,<a href='https://upgini.com/#data_sources' target='_blank' rel='noopener noreferrer'>Markets data</a></td><td class='upgini-text'>Daily</td></tr><tr><td class='upgini-text'>f_autofe_mul_34d11bc4</td><td class='upgini-number'>0.0062</td><td class='upgini-number'>100.0000</td><td class='upgini-text'>1.9603, -6.9296, -19.4736</td><td class='upgini-text'><a href='https://upgini.com' target='_blank' rel='noopener noreferrer'>Upgini</a></td><td class='upgini-text'>AutoFE: features from <a href='https://upgini.com/#data_sources' target='_blank' rel='noopener noreferrer'>Calendar data</a>,<a href='https://upgini.com/#data_sources' target='_blank' rel='noopener noreferrer'>Markets data</a></td><td class='upgini-text'>Daily</td></tr><tr><td class='upgini-text'>f_autofe_div_3e22df83</td><td class='upgini-number'>0.0061</td><td class='upgini-number'>100.0000</td><td class='upgini-text'>-0.0158, -0.0083, 0.0104</td><td class='upgini-text'><a href='https://upgini.com' target='_blank' rel='noopener noreferrer'>Upgini</a></td><td class='upgini-text'>AutoFE: features from <a href='https://upgini.com/#data_sources' target='_blank' rel='noopener noreferrer'>Calendar data</a>,<a href='https://upgini.com/#data_sources' target='_blank' rel='noopener noreferrer'>Markets data</a></td><td class='upgini-text'>Daily</td></tr><tr><td class='upgini-text'>f_autofe_mul_6234ba3a</td><td class='upgini-number'>0.0050</td><td class='upgini-number'>100.0000</td><td class='upgini-text'>1.0681, 0.536, 0.7959</td><td class='upgini-text'><a href='https://upgini.com' target='_blank' rel='noopener noreferrer'>Upgini</a></td><td class='upgini-text'>AutoFE: features from <a href='https://upgini.com/#data_sources' target='_blank' rel='noopener noreferrer'>Markets data</a></td><td class='upgini-text'>Daily</td></tr><tr><td class='upgini-text'>f_autofe_mul_5bd50798</td><td class='upgini-number'>0.0049</td><td class='upgini-number'>100.0000</td><td class='upgini-text'>-0.95, -0.2789, 0.573</td><td class='upgini-text'><a href='https://upgini.com' target='_blank' rel='noopener noreferrer'>Upgini</a></td><td class='upgini-text'>AutoFE: features from <a href='https://upgini.com/#data_sources' target='_blank' rel='noopener noreferrer'>Calendar data</a>,<a href='https://upgini.com/#data_sources' target='_blank' rel='noopener noreferrer'>Markets data</a></td><td class='upgini-text'>Daily</td></tr><tr><td class='upgini-text'>f_autofe_div_1edd5009</td><td class='upgini-number'>0.0048</td><td class='upgini-number'>100.0000</td><td class='upgini-text'>-0.007, 0.0337, 0.082</td><td class='upgini-text'><a href='https://upgini.com' target='_blank' rel='noopener noreferrer'>Upgini</a></td><td class='upgini-text'>AutoFE: features from <a href='https://upgini.com/#data_sources' target='_blank' rel='noopener noreferrer'>Calendar data</a>,<a href='https://upgini.com/#data_sources' target='_blank' rel='noopener noreferrer'>Markets data</a></td><td class='upgini-text'>Daily</td></tr><tr><td class='upgini-text'>f_autofe_div_283a6178</td><td class='upgini-number'>0.0045</td><td class='upgini-number'>100.0000</td><td class='upgini-text'>0.0067, 0.0106, -0.0027</td><td class='upgini-text'><a href='https://upgini.com' target='_blank' rel='noopener noreferrer'>Upgini</a></td><td class='upgini-text'>AutoFE: features from <a href='https://upgini.com/#data_sources' target='_blank' rel='noopener noreferrer'>Calendar data</a>,<a href='https://upgini.com/#data_sources' target='_blank' rel='noopener noreferrer'>Markets data</a></td><td class='upgini-text'>Daily</td></tr><tr><td class='upgini-text'>f_autofe_div_89c56a5f</td><td class='upgini-number'>0.0043</td><td class='upgini-number'>100.0000</td><td class='upgini-text'>-1.1495, 1.3058, -0.7045</td><td class='upgini-text'><a href='https://upgini.com' target='_blank' rel='noopener noreferrer'>Upgini</a></td><td class='upgini-text'>AutoFE: features from <a href='https://upgini.com/#data_sources' target='_blank' rel='noopener noreferrer'>Calendar data</a>,<a href='https://upgini.com/#data_sources' target='_blank' rel='noopener noreferrer'>Markets data</a></td><td class='upgini-text'>Daily</td></tr><tr><td class='upgini-text'>f_autofe_mul_25296268</td><td class='upgini-number'>0.0040</td><td class='upgini-number'>100.0000</td><td class='upgini-text'>0.3278, 0.3831, 0.5559</td><td class='upgini-text'><a href='https://upgini.com' target='_blank' rel='noopener noreferrer'>Upgini</a></td><td class='upgini-text'>AutoFE: features from <a href='https://upgini.com/#data_sources' target='_blank' rel='noopener noreferrer'>Calendar data</a>,<a href='https://upgini.com/#data_sources' target='_blank' rel='noopener noreferrer'>Markets data</a></td><td class='upgini-text'>Daily</td></tr><tr><td class='upgini-text'>f_autofe_div_abde95f5</td><td class='upgini-number'>0.0031</td><td class='upgini-number'>100.0000</td><td class='upgini-text'>-0.7603, -0.2616, -0.6488</td><td class='upgini-text'><a href='https://upgini.com' target='_blank' rel='noopener noreferrer'>Upgini</a></td><td class='upgini-text'>AutoFE: features from <a href='https://upgini.com/#data_sources' target='_blank' rel='noopener noreferrer'>Calendar data</a>,<a href='https://upgini.com/#data_sources' target='_blank' rel='noopener noreferrer'>Markets data</a></td><td class='upgini-text'>Daily</td></tr><tr><td class='upgini-text'>f_autofe_div_c9ddcb38</td><td class='upgini-number'>0.0025</td><td class='upgini-number'>100.0000</td><td class='upgini-text'>-0.2543, -0.9113, -0.2173</td><td class='upgini-text'><a href='https://upgini.com' target='_blank' rel='noopener noreferrer'>Upgini</a></td><td class='upgini-text'>AutoFE: features from <a href='https://upgini.com/#data_sources' target='_blank' rel='noopener noreferrer'>Calendar data</a>,<a href='https://upgini.com/#data_sources' target='_blank' rel='noopener noreferrer'>Markets data</a></td><td class='upgini-text'>Daily</td></tr><tr><td class='upgini-text'>f_autofe_div_455a9ecb</td><td class='upgini-number'>0.0025</td><td class='upgini-number'>100.0000</td><td class='upgini-text'>0.0541, 0.0563, 0.1083</td><td class='upgini-text'><a href='https://upgini.com' target='_blank' rel='noopener noreferrer'>Upgini</a></td><td class='upgini-text'>AutoFE: features from <a href='https://upgini.com/#data_sources' target='_blank' rel='noopener noreferrer'>Markets data</a></td><td class='upgini-text'>Daily</td></tr><tr><td class='upgini-text'>f_autofe_mul_7b115967</td><td class='upgini-number'>0.0024</td><td class='upgini-number'>100.0000</td><td class='upgini-text'>1.1038, -0.2154, -0.898</td><td class='upgini-text'><a href='https://upgini.com' target='_blank' rel='noopener noreferrer'>Upgini</a></td><td class='upgini-text'>AutoFE: features from <a href='https://upgini.com/#data_sources' target='_blank' rel='noopener noreferrer'>Calendar data</a>,<a href='https://upgini.com/#data_sources' target='_blank' rel='noopener noreferrer'>Markets data</a></td><td class='upgini-text'>Daily</td></tr><tr><td class='upgini-text'>f_autofe_div_d57fd206</td><td class='upgini-number'>0.0020</td><td class='upgini-number'>100.0000</td><td class='upgini-text'>-1.0504, -1.0081, -0.8123</td><td class='upgini-text'><a href='https://upgini.com' target='_blank' rel='noopener noreferrer'>Upgini</a></td><td class='upgini-text'>AutoFE: features from <a href='https://upgini.com/#data_sources' target='_blank' rel='noopener noreferrer'>Calendar data</a>,<a href='https://upgini.com/#data_sources' target='_blank' rel='noopener noreferrer'>Markets data</a></td><td class='upgini-text'>Daily</td></tr><tr><td class='upgini-text'>f_autofe_div_ba625fe9</td><td class='upgini-number'>0.0019</td><td class='upgini-number'>100.0000</td><td class='upgini-text'>1.0116, -1.1819, -2.9236</td><td class='upgini-text'><a href='https://upgini.com' target='_blank' rel='noopener noreferrer'>Upgini</a></td><td class='upgini-text'>AutoFE: features from <a href='https://upgini.com/#data_sources' target='_blank' rel='noopener noreferrer'>Calendar data</a></td><td class='upgini-text'>Daily</td></tr><tr><td class='upgini-text'>f_autofe_mul_0cc09d2d</td><td class='upgini-number'>0.0019</td><td class='upgini-number'>100.0000</td><td class='upgini-text'>-45.548, -26.8993, -34.166</td><td class='upgini-text'><a href='https://upgini.com' target='_blank' rel='noopener noreferrer'>Upgini</a></td><td class='upgini-text'>AutoFE: features from <a href='https://upgini.com/#data_sources' target='_blank' rel='noopener noreferrer'>Calendar data</a>,<a href='https://upgini.com/#data_sources' target='_blank' rel='noopener noreferrer'>Markets data</a></td><td class='upgini-text'>Daily</td></tr><tr><td class='upgini-text'>f_autofe_div_fa0777db</td><td class='upgini-number'>0.0017</td><td class='upgini-number'>100.0000</td><td class='upgini-text'>0.0018, -0.0024, -0.0007</td><td class='upgini-text'><a href='https://upgini.com' target='_blank' rel='noopener noreferrer'>Upgini</a></td><td class='upgini-text'>AutoFE: features from <a href='https://upgini.com/#data_sources' target='_blank' rel='noopener noreferrer'>Calendar data</a>,<a href='https://upgini.com/#data_sources' target='_blank' rel='noopener noreferrer'>Markets data</a></td><td class='upgini-text'>Daily</td></tr><tr><td class='upgini-text'><a href='https://docs.upgini.com/public/calendar/calendar#f_events_date_year_cos1_9014a856' target='_blank' rel='noopener noreferrer'>f_events_date_year_cos1_9014a856</a></td><td class='upgini-number'>0.0015</td><td class='upgini-number'>100.0000</td><td class='upgini-text'>0.9413, 0.0215, -0.969</td><td class='upgini-text'><a href='https://upgini.com' target='_blank' rel='noopener noreferrer'>Upgini</a></td><td class='upgini-text'><a href='https://upgini.com/#data_sources' target='_blank' rel='noopener noreferrer'>Calendar data</a></td><td class='upgini-text'>Daily</td></tr><tr><td class='upgini-text'>f_autofe_div_40bee497</td><td class='upgini-number'>0.0014</td><td class='upgini-number'>100.0000</td><td class='upgini-text'>0.002, -0.0007, 0.0016</td><td class='upgini-text'><a href='https://upgini.com' target='_blank' rel='noopener noreferrer'>Upgini</a></td><td class='upgini-text'>AutoFE: features from <a href='https://upgini.com/#data_sources' target='_blank' rel='noopener noreferrer'>Calendar data</a>,<a href='https://upgini.com/#data_sources' target='_blank' rel='noopener noreferrer'>Markets data</a></td><td class='upgini-text'>Daily</td></tr><tr><td class='upgini-text'>f_autofe_div_270d64a2</td><td class='upgini-number'>0.0014</td><td class='upgini-number'>100.0000</td><td class='upgini-text'>-0.2282, 0.6618, 0.6534</td><td class='upgini-text'><a href='https://upgini.com' target='_blank' rel='noopener noreferrer'>Upgini</a></td><td class='upgini-text'>AutoFE: features from <a href='https://upgini.com/#data_sources' target='_blank' rel='noopener noreferrer'>Calendar data</a>,<a href='https://upgini.com/#data_sources' target='_blank' rel='noopener noreferrer'>Markets data</a></td><td class='upgini-text'>Daily</td></tr><tr><td class='upgini-text'>f_autofe_mul_b49258bb</td><td class='upgini-number'>0.0014</td><td class='upgini-number'>100.0000</td><td class='upgini-text'>-267.1987, 294.672, -308.5647</td><td class='upgini-text'><a href='https://upgini.com' target='_blank' rel='noopener noreferrer'>Upgini</a></td><td class='upgini-text'>AutoFE: features from <a href='https://upgini.com/#data_sources' target='_blank' rel='noopener noreferrer'>Calendar data</a>,<a href='https://upgini.com/#data_sources' target='_blank' rel='noopener noreferrer'>Markets data</a></td><td class='upgini-text'>Daily</td></tr><tr><td class='upgini-text'>f_autofe_div_c855cf40</td><td class='upgini-number'>0.0013</td><td class='upgini-number'>100.0000</td><td class='upgini-text'>-0.0091, -0.0025, 0.0076</td><td class='upgini-text'><a href='https://upgini.com' target='_blank' rel='noopener noreferrer'>Upgini</a></td><td class='upgini-text'>AutoFE: features from <a href='https://upgini.com/#data_sources' target='_blank' rel='noopener noreferrer'>Calendar data</a>,<a href='https://upgini.com/#data_sources' target='_blank' rel='noopener noreferrer'>Markets data</a></td><td class='upgini-text'>Daily</td></tr><tr><td class='upgini-text'>f_autofe_mul_4c9c7d0a</td><td class='upgini-number'>0.0013</td><td class='upgini-number'>100.0000</td><td class='upgini-text'>0.6665, 1.0552, 0.8081</td><td class='upgini-text'><a href='https://upgini.com' target='_blank' rel='noopener noreferrer'>Upgini</a></td><td class='upgini-text'>AutoFE: features from <a href='https://upgini.com/#data_sources' target='_blank' rel='noopener noreferrer'>Markets data</a></td><td class='upgini-text'>Daily</td></tr><tr><td class='upgini-text'><a href='https://docs.upgini.com/public/weather/weather_umap#f_weather_date_weather_umap_33_89bb7578' target='_blank' rel='noopener noreferrer'>f_weather_date_weather_umap_33_89bb7578</a></td><td class='upgini-number'>0.0010</td><td class='upgini-number'>100.0000</td><td class='upgini-text'>5.131, 4.6013, 5.8126</td><td class='upgini-text'><a href='https://upgini.com' target='_blank' rel='noopener noreferrer'>Upgini</a></td><td class='upgini-text'><a href='https://upgini.com/#data_sources' target='_blank' rel='noopener noreferrer'>Weather & climate normals data</a></td><td class='upgini-text'>Daily</td></tr><tr><td class='upgini-text'>f_autofe_div_e79e322c</td><td class='upgini-number'>0.0010</td><td class='upgini-number'>100.0000</td><td class='upgini-text'>0.6225, 0.6327, -0.2251</td><td class='upgini-text'><a href='https://upgini.com' target='_blank' rel='noopener noreferrer'>Upgini</a></td><td class='upgini-text'>AutoFE: features from <a href='https://upgini.com/#data_sources' target='_blank' rel='noopener noreferrer'>Calendar data</a>,<a href='https://upgini.com/#data_sources' target='_blank' rel='noopener noreferrer'>Markets data</a></td><td class='upgini-text'>Daily</td></tr><tr><td class='upgini-text'>f_autofe_mul_0afc7563</td><td class='upgini-number'>0.0010</td><td class='upgini-number'>100.0000</td><td class='upgini-text'>-0.0056, 0.4287, 0.6804</td><td class='upgini-text'><a href='https://upgini.com' target='_blank' rel='noopener noreferrer'>Upgini</a></td><td class='upgini-text'>AutoFE: features from <a href='https://upgini.com/#data_sources' target='_blank' rel='noopener noreferrer'>Calendar data</a></td><td class='upgini-text'>Daily</td></tr><tr><td class='upgini-text'>f_autofe_mul_09cabb32</td><td class='upgini-number'>0.0007</td><td class='upgini-number'>100.0000</td><td class='upgini-text'>0.9977, -0.8561, -0.9086</td><td class='upgini-text'><a href='https://upgini.com' target='_blank' rel='noopener noreferrer'>Upgini</a></td><td class='upgini-text'>AutoFE: features from <a href='https://upgini.com/#data_sources' target='_blank' rel='noopener noreferrer'>Calendar data</a>,<a href='https://upgini.com/#data_sources' target='_blank' rel='noopener noreferrer'>Markets data</a></td><td class='upgini-text'>Daily</td></tr><tr><td class='upgini-text'>f_autofe_mul_242bbe3e</td><td class='upgini-number'>0.0007</td><td class='upgini-number'>100.0000</td><td class='upgini-text'>-0.8897, -0.8507, -1.057</td><td class='upgini-text'><a href='https://upgini.com' target='_blank' rel='noopener noreferrer'>Upgini</a></td><td class='upgini-text'>AutoFE: features from <a href='https://upgini.com/#data_sources' target='_blank' rel='noopener noreferrer'>Calendar data</a>,<a href='https://upgini.com/#data_sources' target='_blank' rel='noopener noreferrer'>Markets data</a></td><td class='upgini-text'>Daily</td></tr><tr><td class='upgini-text'>f_autofe_mul_dda91e30</td><td class='upgini-number'>0.0007</td><td class='upgini-number'>100.0000</td><td class='upgini-text'>0.8048, 0.7646, -0.7628</td><td class='upgini-text'><a href='https://upgini.com' target='_blank' rel='noopener noreferrer'>Upgini</a></td><td class='upgini-text'>AutoFE: features from <a href='https://upgini.com/#data_sources' target='_blank' rel='noopener noreferrer'>Calendar data</a>,<a href='https://upgini.com/#data_sources' target='_blank' rel='noopener noreferrer'>Markets data</a></td><td class='upgini-text'>Daily</td></tr><tr><td class='upgini-text'>f_autofe_mul_5cf72e2c</td><td class='upgini-number'>0.0006</td><td class='upgini-number'>100.0000</td><td class='upgini-text'>-1.1042, -1.0775, 0.6934</td><td class='upgini-text'><a href='https://upgini.com' target='_blank' rel='noopener noreferrer'>Upgini</a></td><td class='upgini-text'>AutoFE: features from <a href='https://upgini.com/#data_sources' target='_blank' rel='noopener noreferrer'>Calendar data</a>,<a href='https://upgini.com/#data_sources' target='_blank' rel='noopener noreferrer'>Markets data</a></td><td class='upgini-text'>Daily</td></tr><tr><td class='upgini-text'><a href='https://docs.upgini.com/public/weather/weather_umap#f_weather_date_weather_umap_1_68679173' target='_blank' rel='noopener noreferrer'>f_weather_date_weather_umap_1_68679173</a></td><td class='upgini-number'>0.0006</td><td class='upgini-number'>100.0000</td><td class='upgini-text'>4.8392, 7.2443, -3.2211</td><td class='upgini-text'><a href='https://upgini.com' target='_blank' rel='noopener noreferrer'>Upgini</a></td><td class='upgini-text'><a href='https://upgini.com/#data_sources' target='_blank' rel='noopener noreferrer'>Weather & climate normals data</a></td><td class='upgini-text'>Daily</td></tr><tr><td class='upgini-text'><a href='https://docs.upgini.com/public/weather/weather_pca#f_weather_date_weather_pca_2_ecef8c63' target='_blank' rel='noopener noreferrer'>f_weather_date_weather_pca_2_ecef8c63</a></td><td class='upgini-number'>0.0006</td><td class='upgini-number'>100.0000</td><td class='upgini-text'>-4.9021, -6.0644, 0.1122</td><td class='upgini-text'><a href='https://upgini.com' target='_blank' rel='noopener noreferrer'>Upgini</a></td><td class='upgini-text'><a href='https://upgini.com/#data_sources' target='_blank' rel='noopener noreferrer'>Weather & climate normals data</a></td><td class='upgini-text'>Daily</td></tr><tr><td class='upgini-text'>f_autofe_mul_b2bfad41</td><td class='upgini-number'>0.0006</td><td class='upgini-number'>100.0000</td><td class='upgini-text'>0.5032, 1.1139, 0.8019</td><td class='upgini-text'><a href='https://upgini.com' target='_blank' rel='noopener noreferrer'>Upgini</a></td><td class='upgini-text'>AutoFE: features from <a href='https://upgini.com/#data_sources' target='_blank' rel='noopener noreferrer'>Calendar data</a>,<a href='https://upgini.com/#data_sources' target='_blank' rel='noopener noreferrer'>Markets data</a></td><td class='upgini-text'>Daily</td></tr><tr><td class='upgini-text'>f_autofe_div_c4537a19</td><td class='upgini-number'>0.0006</td><td class='upgini-number'>100.0000</td><td class='upgini-text'>0.0031, 0.0028, 0.0028</td><td class='upgini-text'><a href='https://upgini.com' target='_blank' rel='noopener noreferrer'>Upgini</a></td><td class='upgini-text'>AutoFE: features from <a href='https://upgini.com/#data_sources' target='_blank' rel='noopener noreferrer'>Markets data</a></td><td class='upgini-text'>Daily</td></tr><tr><td class='upgini-text'>f_autofe_div_1197f7eb</td><td class='upgini-number'>0.0006</td><td class='upgini-number'>100.0000</td><td class='upgini-text'>-0.2207, -0.2248, 1.0103</td><td class='upgini-text'><a href='https://upgini.com' target='_blank' rel='noopener noreferrer'>Upgini</a></td><td class='upgini-text'>AutoFE: features from <a href='https://upgini.com/#data_sources' target='_blank' rel='noopener noreferrer'>Calendar data</a>,<a href='https://upgini.com/#data_sources' target='_blank' rel='noopener noreferrer'>Markets data</a></td><td class='upgini-text'>Daily</td></tr><tr><td class='upgini-text'>f_autofe_mul_165c74ad</td><td class='upgini-number'>0.0005</td><td class='upgini-number'>100.0000</td><td class='upgini-text'>-0.656, 0.8422, 0.711</td><td class='upgini-text'><a href='https://upgini.com' target='_blank' rel='noopener noreferrer'>Upgini</a></td><td class='upgini-text'>AutoFE: features from <a href='https://upgini.com/#data_sources' target='_blank' rel='noopener noreferrer'>Calendar data</a>,<a href='https://upgini.com/#data_sources' target='_blank' rel='noopener noreferrer'>Markets data</a></td><td class='upgini-text'>Daily</td></tr><tr><td class='upgini-text'><a href='https://docs.upgini.com/public/economics/cbpol_pca#f_economic_date_cbpol_pca_9_bde660b4' target='_blank' rel='noopener noreferrer'>f_economic_date_cbpol_pca_9_bde660b4</a></td><td class='upgini-number'>0.0005</td><td class='upgini-number'>100.0000</td><td class='upgini-text'>-0.7218, -2.4726, 1.4992</td><td class='upgini-text'><a href='https://upgini.com' target='_blank' rel='noopener noreferrer'>Upgini</a></td><td class='upgini-text'><a href='https://upgini.com/#data_sources' target='_blank' rel='noopener noreferrer'>World economic indicators</a></td><td class='upgini-text'>Daily</td></tr><tr><td class='upgini-text'>f_autofe_mul_402f5e6a</td><td class='upgini-number'>0.0004</td><td class='upgini-number'>100.0000</td><td class='upgini-text'>0.4399, 0.8281, -0.4415</td><td class='upgini-text'><a href='https://upgini.com' target='_blank' rel='noopener noreferrer'>Upgini</a></td><td class='upgini-text'>AutoFE: features from <a href='https://upgini.com/#data_sources' target='_blank' rel='noopener noreferrer'>Calendar data</a>,<a href='https://upgini.com/#data_sources' target='_blank' rel='noopener noreferrer'>Markets data</a></td><td class='upgini-text'>Daily</td></tr><tr><td class='upgini-text'>f_autofe_mul_af2318dc</td><td class='upgini-number'>0.0004</td><td class='upgini-number'>100.0000</td><td class='upgini-text'>-0.9123, 0.6214, -0.2334</td><td class='upgini-text'><a href='https://upgini.com' target='_blank' rel='noopener noreferrer'>Upgini</a></td><td class='upgini-text'>AutoFE: features from <a href='https://upgini.com/#data_sources' target='_blank' rel='noopener noreferrer'>Calendar data</a>,<a href='https://upgini.com/#data_sources' target='_blank' rel='noopener noreferrer'>Markets data</a></td><td class='upgini-text'>Daily</td></tr><tr><td class='upgini-text'>f_autofe_div_d0993cdc</td><td class='upgini-number'>0.0004</td><td class='upgini-number'>100.0000</td><td class='upgini-text'>318.2301, 368.861, 360.0126</td><td class='upgini-text'><a href='https://upgini.com' target='_blank' rel='noopener noreferrer'>Upgini</a></td><td class='upgini-text'>AutoFE: features from <a href='https://upgini.com/#data_sources' target='_blank' rel='noopener noreferrer'>Markets data</a></td><td class='upgini-text'>Daily</td></tr><tr><td class='upgini-text'>f_autofe_mul_eff3c92e</td><td class='upgini-number'>0.0004</td><td class='upgini-number'>100.0000</td><td class='upgini-text'>0.6503, 0.8643, 0.6279</td><td class='upgini-text'><a href='https://upgini.com' target='_blank' rel='noopener noreferrer'>Upgini</a></td><td class='upgini-text'>AutoFE: features from <a href='https://upgini.com/#data_sources' target='_blank' rel='noopener noreferrer'>Markets data</a></td><td class='upgini-text'>Daily</td></tr><tr><td class='upgini-text'><a href='https://docs.upgini.com/public/weather/weather_umap#f_weather_date_weather_umap_5_88023931' target='_blank' rel='noopener noreferrer'>f_weather_date_weather_umap_5_88023931</a></td><td class='upgini-number'>0.0004</td><td class='upgini-number'>100.0000</td><td class='upgini-text'>4.9433, 6.4892, 4.4133</td><td class='upgini-text'><a href='https://upgini.com' target='_blank' rel='noopener noreferrer'>Upgini</a></td><td class='upgini-text'><a href='https://upgini.com/#data_sources' target='_blank' rel='noopener noreferrer'>Weather & climate normals data</a></td><td class='upgini-text'>Daily</td></tr><tr><td class='upgini-text'><a href='https://docs.upgini.com/public/markets/finance#f_financial_date_nasdaq_7d_to_1y_b00bfaa7' target='_blank' rel='noopener noreferrer'>f_financial_date_nasdaq_7d_to_1y_b00bfaa7</a></td><td class='upgini-number'>0.0004</td><td class='upgini-number'>100.0000</td><td class='upgini-text'>1.0665, 1.1613, 1.1066</td><td class='upgini-text'><a href='https://upgini.com' target='_blank' rel='noopener noreferrer'>Upgini</a></td><td class='upgini-text'><a href='https://upgini.com/#data_sources' target='_blank' rel='noopener noreferrer'>Markets data</a></td><td class='upgini-text'>Daily</td></tr><tr><td class='upgini-text'>f_autofe_div_0411c316</td><td class='upgini-number'>0.0004</td><td class='upgini-number'>100.0000</td><td class='upgini-text'>-0.441, -0.9606, -0.703</td><td class='upgini-text'><a href='https://upgini.com' target='_blank' rel='noopener noreferrer'>Upgini</a></td><td class='upgini-text'>AutoFE: features from <a href='https://upgini.com/#data_sources' target='_blank' rel='noopener noreferrer'>Calendar data</a>,<a href='https://upgini.com/#data_sources' target='_blank' rel='noopener noreferrer'>Markets data</a></td><td class='upgini-text'>Daily</td></tr><tr><td class='upgini-text'>f_autofe_mul_efa07492</td><td class='upgini-number'>0.0004</td><td class='upgini-number'>100.0000</td><td class='upgini-text'>-3.2993, -1.0474, 1.4571</td><td class='upgini-text'><a href='https://upgini.com' target='_blank' rel='noopener noreferrer'>Upgini</a></td><td class='upgini-text'>AutoFE: features from <a href='https://upgini.com/#data_sources' target='_blank' rel='noopener noreferrer'>Calendar data</a>,<a href='https://upgini.com/#data_sources' target='_blank' rel='noopener noreferrer'>Markets data</a></td><td class='upgini-text'>Daily</td></tr><tr><td class='upgini-text'>f_autofe_mul_041b52f4</td><td class='upgini-number'>0.0003</td><td class='upgini-number'>100.0000</td><td class='upgini-text'>0.1866, 0.1252, -0.0605</td><td class='upgini-text'><a href='https://upgini.com' target='_blank' rel='noopener noreferrer'>Upgini</a></td><td class='upgini-text'>AutoFE: features from <a href='https://upgini.com/#data_sources' target='_blank' rel='noopener noreferrer'>Calendar data</a></td><td class='upgini-text'>Daily</td></tr><tr><td class='upgini-text'>f_autofe_mul_44503c6f</td><td class='upgini-number'>0.0003</td><td class='upgini-number'>100.0000</td><td class='upgini-text'>1.4034, 2.9744, 3.9744</td><td class='upgini-text'><a href='https://upgini.com' target='_blank' rel='noopener noreferrer'>Upgini</a></td><td class='upgini-text'>AutoFE: features from <a href='https://upgini.com/#data_sources' target='_blank' rel='noopener noreferrer'>Markets data</a></td><td class='upgini-text'>Daily</td></tr><tr><td class='upgini-text'>f_autofe_mul_f018fe89</td><td class='upgini-number'>0.0003</td><td class='upgini-number'>100.0000</td><td class='upgini-text'>-0.9124, -0.2217, 0.5474</td><td class='upgini-text'><a href='https://upgini.com' target='_blank' rel='noopener noreferrer'>Upgini</a></td><td class='upgini-text'>AutoFE: features from <a href='https://upgini.com/#data_sources' target='_blank' rel='noopener noreferrer'>Calendar data</a></td><td class='upgini-text'>Daily</td></tr><tr><td class='upgini-text'>f_autofe_mul_4ee11e5f</td><td class='upgini-number'>0.0003</td><td class='upgini-number'>100.0000</td><td class='upgini-text'>106.0112, 97.4894, 105.6343</td><td class='upgini-text'><a href='https://upgini.com' target='_blank' rel='noopener noreferrer'>Upgini</a></td><td class='upgini-text'>AutoFE: features from <a href='https://upgini.com/#data_sources' target='_blank' rel='noopener noreferrer'>Markets data</a></td><td class='upgini-text'>Daily</td></tr><tr><td class='upgini-text'>f_autofe_mul_c883f8a6</td><td class='upgini-number'>0.0002</td><td class='upgini-number'>100.0000</td><td class='upgini-text'>330.6239, 376.6555, 334.9244</td><td class='upgini-text'><a href='https://upgini.com' target='_blank' rel='noopener noreferrer'>Upgini</a></td><td class='upgini-text'>AutoFE: features from <a href='https://upgini.com/#data_sources' target='_blank' rel='noopener noreferrer'>Markets data</a></td><td class='upgini-text'>Daily</td></tr><tr><td class='upgini-text'>f_autofe_div_fb99ff57</td><td class='upgini-number'>0.0002</td><td class='upgini-number'>100.0000</td><td class='upgini-text'>337.4877, 330.4493, 391.1068</td><td class='upgini-text'><a href='https://upgini.com' target='_blank' rel='noopener noreferrer'>Upgini</a></td><td class='upgini-text'>AutoFE: features from <a href='https://upgini.com/#data_sources' target='_blank' rel='noopener noreferrer'>Markets data</a></td><td class='upgini-text'>Daily</td></tr><tr><td class='upgini-text'>f_autofe_mul_58cac651</td><td class='upgini-number'>0.0001</td><td class='upgini-number'>100.0000</td><td class='upgini-text'>0.6517, 0.1711, 0.4175</td><td class='upgini-text'><a href='https://upgini.com' target='_blank' rel='noopener noreferrer'>Upgini</a></td><td class='upgini-text'>AutoFE: features from <a href='https://upgini.com/#data_sources' target='_blank' rel='noopener noreferrer'>Calendar data</a></td><td class='upgini-text'>Daily</td></tr><tr><td class='upgini-text'>f_autofe_div_ef42018c</td><td class='upgini-number'>0.0001</td><td class='upgini-number'>100.0000</td><td class='upgini-text'>1.0276, 0.9997, 1.0005</td><td class='upgini-text'><a href='https://upgini.com' target='_blank' rel='noopener noreferrer'>Upgini</a></td><td class='upgini-text'>AutoFE: features from <a href='https://upgini.com/#data_sources' target='_blank' rel='noopener noreferrer'>Markets data</a></td><td class='upgini-text'>Daily</td></tr><tr><td class='upgini-text'>f_autofe_div_84649ac5</td><td class='upgini-number'>0.0001</td><td class='upgini-number'>100.0000</td><td class='upgini-text'>-0.2229, -0.2221, -0.228</td><td class='upgini-text'><a href='https://upgini.com' target='_blank' rel='noopener noreferrer'>Upgini</a></td><td class='upgini-text'>AutoFE: features from <a href='https://upgini.com/#data_sources' target='_blank' rel='noopener noreferrer'>Calendar data</a>,<a href='https://upgini.com/#data_sources' target='_blank' rel='noopener noreferrer'>Markets data</a></td><td class='upgini-text'>Daily</td></tr><tr><td class='upgini-text'>f_autofe_mul_9091be3b</td><td class='upgini-number'>0.0001</td><td class='upgini-number'>100.0000</td><td class='upgini-text'>28.549, 18.2449, 15.736</td><td class='upgini-text'><a href='https://upgini.com' target='_blank' rel='noopener noreferrer'>Upgini</a></td><td class='upgini-text'>AutoFE: features from <a href='https://upgini.com/#data_sources' target='_blank' rel='noopener noreferrer'>Markets data</a></td><td class='upgini-text'>Daily</td></tr><tr><td class='upgini-text'>f_autofe_div_17716d2e</td><td class='upgini-number'>0.0001</td><td class='upgini-number'>100.0000</td><td class='upgini-text'>0.4732, 1.8966, -2.1386</td><td class='upgini-text'><a href='https://upgini.com' target='_blank' rel='noopener noreferrer'>Upgini</a></td><td class='upgini-text'>AutoFE: features from <a href='https://upgini.com/#data_sources' target='_blank' rel='noopener noreferrer'>Calendar data</a></td><td class='upgini-text'>Daily</td></tr><tr><td class='upgini-text'>f_autofe_div_22b77c5b</td><td class='upgini-number'>0.0001</td><td class='upgini-number'>100.0000</td><td class='upgini-text'>-0.8506, -1.186, 1.0173</td><td class='upgini-text'><a href='https://upgini.com' target='_blank' rel='noopener noreferrer'>Upgini</a></td><td class='upgini-text'>AutoFE: features from <a href='https://upgini.com/#data_sources' target='_blank' rel='noopener noreferrer'>Calendar data</a>,<a href='https://upgini.com/#data_sources' target='_blank' rel='noopener noreferrer'>Markets data</a></td><td class='upgini-text'>Daily</td></tr><tr><td class='upgini-text'>f_autofe_div_7cd7dbff</td><td class='upgini-number'>0.0001</td><td class='upgini-number'>100.0000</td><td class='upgini-text'>-1.0557, 0.2232, -1.7876</td><td class='upgini-text'><a href='https://upgini.com' target='_blank' rel='noopener noreferrer'>Upgini</a></td><td class='upgini-text'>AutoFE: features from <a href='https://upgini.com/#data_sources' target='_blank' rel='noopener noreferrer'>Calendar data</a></td><td class='upgini-text'>Daily</td></tr><tr><td class='upgini-text'>f_autofe_mul_5c76b026</td><td class='upgini-number'>0.0001</td><td class='upgini-number'>100.0000</td><td class='upgini-text'>20.5163, 20.8251, 28.4963</td><td class='upgini-text'><a href='https://upgini.com' target='_blank' rel='noopener noreferrer'>Upgini</a></td><td class='upgini-text'>AutoFE: features from <a href='https://upgini.com/#data_sources' target='_blank' rel='noopener noreferrer'>Markets data</a></td><td class='upgini-text'>Daily</td></tr><tr><td class='upgini-text'>f_autofe_mul_6a97c336</td><td class='upgini-number'>0.0001</td><td class='upgini-number'>100.0000</td><td class='upgini-text'>0.5832, 0.7371, -0.2155</td><td class='upgini-text'><a href='https://upgini.com' target='_blank' rel='noopener noreferrer'>Upgini</a></td><td class='upgini-text'>AutoFE: features from <a href='https://upgini.com/#data_sources' target='_blank' rel='noopener noreferrer'>Calendar data</a>,<a href='https://upgini.com/#data_sources' target='_blank' rel='noopener noreferrer'>Markets data</a></td><td class='upgini-text'>Daily</td></tr><tr><td class='upgini-text'>f_autofe_mul_8437d645</td><td class='upgini-number'>0.0001</td><td class='upgini-number'>100.0000</td><td class='upgini-text'>-22.0251, 93.43, -18.8386</td><td class='upgini-text'><a href='https://upgini.com' target='_blank' rel='noopener noreferrer'>Upgini</a></td><td class='upgini-text'>AutoFE: features from <a href='https://upgini.com/#data_sources' target='_blank' rel='noopener noreferrer'>Calendar data</a>,<a href='https://upgini.com/#data_sources' target='_blank' rel='noopener noreferrer'>Markets data</a></td><td class='upgini-text'>Daily</td></tr><tr><td class='upgini-text'>f_autofe_mul_a36d46a7</td><td class='upgini-number'>0.0001</td><td class='upgini-number'>100.0000</td><td class='upgini-text'>-0.7548, -0.4101, -0.3516</td><td class='upgini-text'><a href='https://upgini.com' target='_blank' rel='noopener noreferrer'>Upgini</a></td><td class='upgini-text'>AutoFE: features from <a href='https://upgini.com/#data_sources' target='_blank' rel='noopener noreferrer'>Calendar data</a>,<a href='https://upgini.com/#data_sources' target='_blank' rel='noopener noreferrer'>Markets data</a></td><td class='upgini-text'>Daily</td></tr><tr><td class='upgini-text'><a href='https://docs.upgini.com/public/economics/cbpol_umap#f_economic_date_cbpol_umap_7_a80d807e' target='_blank' rel='noopener noreferrer'>f_economic_date_cbpol_umap_7_a80d807e</a></td><td class='upgini-number'>0.0001</td><td class='upgini-number'>100.0000</td><td class='upgini-text'>1.9567, 5.338, 8.481</td><td class='upgini-text'><a href='https://upgini.com' target='_blank' rel='noopener noreferrer'>Upgini</a></td><td class='upgini-text'><a href='https://upgini.com/#data_sources' target='_blank' rel='noopener noreferrer'>World economic indicators</a></td><td class='upgini-text'>Daily</td></tr><tr><td class='upgini-text'><a href='https://docs.upgini.com/public/calendar/calendar#f_events_date_year_sin1_3c44bc64' target='_blank' rel='noopener noreferrer'>f_events_date_year_sin1_3c44bc64</a></td><td class='upgini-number'>0.0001</td><td class='upgini-number'>100.0000</td><td class='upgini-text'>-0.9445, 0.9648, 0.6729</td><td class='upgini-text'><a href='https://upgini.com' target='_blank' rel='noopener noreferrer'>Upgini</a></td><td class='upgini-text'><a href='https://upgini.com/#data_sources' target='_blank' rel='noopener noreferrer'>Calendar data</a></td><td class='upgini-text'>Daily</td></tr></tbody></table>\n",
              "        </div>\n",
              "        "
            ]
          },
          "metadata": {}
        },
        {
          "output_type": "display_data",
          "data": {
            "text/plain": [
              "<IPython.core.display.HTML object>"
            ],
            "text/html": [
              "<style>\n",
              "            .upgini-df thead th {\n",
              "                font-weight:bold;\n",
              "                text-align: center;\n",
              "                padding: 0.5em;\n",
              "                border-bottom: 2px solid black;\n",
              "            }\n",
              "\n",
              "            .upgini-df tbody td {\n",
              "                padding: 0.5em;\n",
              "            }\n",
              "\n",
              "            .upgini-df tbody tr:nth-child(odd) {\n",
              "                background-color: #ffffff;\n",
              "            }\n",
              "\n",
              "            .upgini-df tbody tr:nth-child(even) {\n",
              "                background-color: #f2f2f2;\n",
              "            }\n",
              "\n",
              "            .upgini-text {\n",
              "                text-align: left;\n",
              "            }\n",
              "\n",
              "            .upgini-number {\n",
              "                text-align: center;\n",
              "            }\n",
              "        </style>\n",
              "        <h2>Relevant data sources</h2>\n",
              "        <div style=\"display:flex; flex-direction:column; align-items:flex-end; width: fit-content;\">\n",
              "            \n",
              "            <div style=\"text-align: right\">\n",
              "                <button onclick=navigator.clipboard.writeText(decodeURI('Provider%09Source%09All%20features%20SHAP%09Number%20of%20relevant%20features%0AUpgini%09AutoFE%3A%20features%20from%20%3Ca%20href%3D%27https%3A%2F%2Fupgini.com%2F%23data_sources%27%20target%3D%27_blank%27%20rel%3D%27noopener%20noreferrer%27%3ECalendar%20data%3C%2Fa%3E,%3Ca%20href%3D%27https%3A%2F%2Fupgini.com%2F%23data_sources%27%20target%3D%27_blank%27%20rel%3D%27noopener%20noreferrer%27%3EMarkets%20data%3C%2Fa%3E%090.0911%0938%0AUpgini%09Weather%20%26%20climate%20normals%20data%090.0741%098%0AUpgini%09AutoFE%3A%20features%20from%20%3Ca%20href%3D%27https%3A%2F%2Fupgini.com%2F%23data_sources%27%20target%3D%27_blank%27%20rel%3D%27noopener%20noreferrer%27%3EMarkets%20data%3C%2Fa%3E%090.0304%0914%0AUpgini%09AutoFE%3A%20features%20from%20%3Ca%20href%3D%27https%3A%2F%2Fupgini.com%2F%23data_sources%27%20target%3D%27_blank%27%20rel%3D%27noopener%20noreferrer%27%3ECalendar%20data%3C%2Fa%3E%090.0038%097%0AUpgini%09Calendar%20data%090.0016%092%0AUpgini%09World%20economic%20indicators%090.0006000000000000001%092%0AUpgini%09Markets%20data%090.0004%091%0A'))>📂 Copy</button>\n",
              "                <a href='mailto:<Share with...>?subject=Relevant external data sources from Upgini.com&body=Provider%09Source%09All%20features%20SHAP%09Number%20of%20relevant%20features%0AUpgini%09AutoFE%3A%20features%20from%20%3Ca%20href%3D%27https%3A%2F%2Fupgini.com%2F%23data_sources%27%20target%3D%27_blank%27%20rel%3D%27noopener%20noreferrer%27%3ECalendar%20data%3C%2Fa%3E,%3Ca%20href%3D%27https%3A%2F%2Fupgini.com%2F%23data_sources%27%20target%3D%27_blank%27%20rel%3D%27noopener%20noreferrer%27%3EMarkets%20data%3C%2Fa%3E%090.0911%0938%0AUpgini%09Weather%20%26%20climate%20normals%20data%090.0741%098%0AUpgini%09AutoFE%3A%20features%20from%20%3Ca%20href%3D%27https%3A%2F%2Fupgini.com%2F%23data_sources%27%20target%3D%27_blank%27%20rel%3D%27noopener%20noreferrer%27%3EMarkets%20data%3C%2Fa%3E%090.0304%0914%0AUpgini%09AutoFE%3A%20features%20from%20%3Ca%20href%3D%27https%3A%2F%2Fupgini.com%2F%23data_sources%27%20target%3D%27_blank%27%20rel%3D%27noopener%20noreferrer%27%3ECalendar%20data%3C%2Fa%3E%090.0038%097%0AUpgini%09Calendar%20data%090.0016%092%0AUpgini%09World%20economic%20indicators%090.0006000000000000001%092%0AUpgini%09Markets%20data%090.0004%091%0A'>\n",
              "                    <button>📨 Share</button>\n",
              "                </a>\n",
              "            </div>\n",
              "            <table class='upgini-df'><thead><th>Provider</th><th>Source</th><th>All features SHAP</th><th>Number of relevant features</th></thead><tbody><tr><td class='upgini-text'><a href='https://upgini.com' target='_blank' rel='noopener noreferrer'>Upgini</a></td><td class='upgini-text'>AutoFE: features from <a href='https://upgini.com/#data_sources' target='_blank' rel='noopener noreferrer'>Calendar data</a>,<a href='https://upgini.com/#data_sources' target='_blank' rel='noopener noreferrer'>Markets data</a></td><td class='upgini-number'>0.0911</td><td class='upgini-number'>38</td></tr><tr><td class='upgini-text'><a href='https://upgini.com' target='_blank' rel='noopener noreferrer'>Upgini</a></td><td class='upgini-text'><a href='https://upgini.com/#data_sources' target='_blank' rel='noopener noreferrer'>Weather & climate normals data</a></td><td class='upgini-number'>0.0741</td><td class='upgini-number'>8</td></tr><tr><td class='upgini-text'><a href='https://upgini.com' target='_blank' rel='noopener noreferrer'>Upgini</a></td><td class='upgini-text'>AutoFE: features from <a href='https://upgini.com/#data_sources' target='_blank' rel='noopener noreferrer'>Markets data</a></td><td class='upgini-number'>0.0304</td><td class='upgini-number'>14</td></tr><tr><td class='upgini-text'><a href='https://upgini.com' target='_blank' rel='noopener noreferrer'>Upgini</a></td><td class='upgini-text'>AutoFE: features from <a href='https://upgini.com/#data_sources' target='_blank' rel='noopener noreferrer'>Calendar data</a></td><td class='upgini-number'>0.0038</td><td class='upgini-number'>7</td></tr><tr><td class='upgini-text'><a href='https://upgini.com' target='_blank' rel='noopener noreferrer'>Upgini</a></td><td class='upgini-text'><a href='https://upgini.com/#data_sources' target='_blank' rel='noopener noreferrer'>Calendar data</a></td><td class='upgini-number'>0.0016</td><td class='upgini-number'>2</td></tr><tr><td class='upgini-text'><a href='https://upgini.com' target='_blank' rel='noopener noreferrer'>Upgini</a></td><td class='upgini-text'><a href='https://upgini.com/#data_sources' target='_blank' rel='noopener noreferrer'>World economic indicators</a></td><td class='upgini-number'>0.0006</td><td class='upgini-number'>2</td></tr><tr><td class='upgini-text'><a href='https://upgini.com' target='_blank' rel='noopener noreferrer'>Upgini</a></td><td class='upgini-text'><a href='https://upgini.com/#data_sources' target='_blank' rel='noopener noreferrer'>Markets data</a></td><td class='upgini-number'>0.0004</td><td class='upgini-number'>1</td></tr></tbody></table>\n",
              "        </div>\n",
              "        "
            ]
          },
          "metadata": {}
        },
        {
          "output_type": "display_data",
          "data": {
            "text/plain": [
              "<IPython.core.display.HTML object>"
            ],
            "text/html": [
              "<style>\n",
              "            .upgini-df thead th {\n",
              "                font-weight:bold;\n",
              "                text-align: center;\n",
              "                padding: 0.5em;\n",
              "                border-bottom: 2px solid black;\n",
              "            }\n",
              "\n",
              "            .upgini-df tbody td {\n",
              "                padding: 0.5em;\n",
              "            }\n",
              "\n",
              "            .upgini-df tbody tr:nth-child(odd) {\n",
              "                background-color: #ffffff;\n",
              "            }\n",
              "\n",
              "            .upgini-df tbody tr:nth-child(even) {\n",
              "                background-color: #f2f2f2;\n",
              "            }\n",
              "\n",
              "            .upgini-text {\n",
              "                text-align: left;\n",
              "            }\n",
              "\n",
              "            .upgini-number {\n",
              "                text-align: center;\n",
              "            }\n",
              "        </style>\n",
              "        <h2>*Description of AutoFE feature names</h2>\n",
              "        <div style=\"display:flex; flex-direction:column; align-items:flex-end; width: fit-content;\">\n",
              "            \n",
              "            <div style=\"text-align: right\">\n",
              "                <button onclick=navigator.clipboard.writeText(decodeURI('Sources%09Feature%20name%09Feature%201%09Feature%202%09Function%0A%3Ca%20href%3D%27https%3A%2F%2Fupgini.com%2F%23data_sources%27%20target%3D%27_blank%27%20rel%3D%27noopener%20noreferrer%27%3EMarkets%20data%3C%2Fa%3E%09f_autofe_div_3295865b%09f_financial_date_natural_gas_7d_to_1y_7a6f300d%09f_financial_date_natural_gas_7d_to_7d_1y_shift_a5c3c07f%09%2F%0A%3Ca%20href%3D%27https%3A%2F%2Fupgini.com%2F%23data_sources%27%20target%3D%27_blank%27%20rel%3D%27noopener%20noreferrer%27%3ECalendar%20data%3C%2Fa%3E,%3Ca%20href%3D%27https%3A%2F%2Fupgini.com%2F%23data_sources%27%20target%3D%27_blank%27%20rel%3D%27noopener%20noreferrer%27%3EMarkets%20data%3C%2Fa%3E%09f_autofe_div_50507976%09f_events_date_year_cos1_9014a856%09f_financial_date_silver_e4e33014%09%2F%0A%3Ca%20href%3D%27https%3A%2F%2Fupgini.com%2F%23data_sources%27%20target%3D%27_blank%27%20rel%3D%27noopener%20noreferrer%27%3ECalendar%20data%3C%2Fa%3E,%3Ca%20href%3D%27https%3A%2F%2Fupgini.com%2F%23data_sources%27%20target%3D%27_blank%27%20rel%3D%27noopener%20noreferrer%27%3EMarkets%20data%3C%2Fa%3E%09f_autofe_mul_478be4f3%09f_events_date_year_cos1_9014a856%09f_financial_date_natural_gas_7d_to_7d_1y_shift_a5c3c07f%09%2A%0A%3Ca%20href%3D%27https%3A%2F%2Fupgini.com%2F%23data_sources%27%20target%3D%27_blank%27%20rel%3D%27noopener%20noreferrer%27%3ECalendar%20data%3C%2Fa%3E,%3Ca%20href%3D%27https%3A%2F%2Fupgini.com%2F%23data_sources%27%20target%3D%27_blank%27%20rel%3D%27noopener%20noreferrer%27%3EMarkets%20data%3C%2Fa%3E%09f_autofe_mul_08e89348%09f_events_date_week_sin1_847b5db1%09f_financial_date_crude_oil_1f195998%09%2A%0A%3Ca%20href%3D%27https%3A%2F%2Fupgini.com%2F%23data_sources%27%20target%3D%27_blank%27%20rel%3D%27noopener%20noreferrer%27%3ECalendar%20data%3C%2Fa%3E,%3Ca%20href%3D%27https%3A%2F%2Fupgini.com%2F%23data_sources%27%20target%3D%27_blank%27%20rel%3D%27noopener%20noreferrer%27%3EMarkets%20data%3C%2Fa%3E%09f_autofe_div_cf5dd7be%09f_events_date_week_sin1_847b5db1%09f_financial_date_vix_7d_to_1y_634c77eb%09%2F%0A%3Ca%20href%3D%27https%3A%2F%2Fupgini.com%2F%23data_sources%27%20target%3D%27_blank%27%20rel%3D%27noopener%20noreferrer%27%3ECalendar%20data%3C%2Fa%3E,%3Ca%20href%3D%27https%3A%2F%2Fupgini.com%2F%23data_sources%27%20target%3D%27_blank%27%20rel%3D%27noopener%20noreferrer%27%3EMarkets%20data%3C%2Fa%3E%09f_autofe_mul_34d11bc4%09f_events_date_year_cos1_9014a856%09f_financial_date_silver_e4e33014%09%2A%0A%3Ca%20href%3D%27https%3A%2F%2Fupgini.com%2F%23data_sources%27%20target%3D%27_blank%27%20rel%3D%27noopener%20noreferrer%27%3ECalendar%20data%3C%2Fa%3E,%3Ca%20href%3D%27https%3A%2F%2Fupgini.com%2F%23data_sources%27%20target%3D%27_blank%27%20rel%3D%27noopener%20noreferrer%27%3EMarkets%20data%3C%2Fa%3E%09f_autofe_div_3e22df83%09f_events_date_week_sin1_847b5db1%09f_financial_date_crude_oil_1f195998%09%2F%0A%3Ca%20href%3D%27https%3A%2F%2Fupgini.com%2F%23data_sources%27%20target%3D%27_blank%27%20rel%3D%27noopener%20noreferrer%27%3EMarkets%20data%3C%2Fa%3E%09f_autofe_mul_6234ba3a%09f_financial_date_crude_oil_7d_to_1y_c3e0ad17%09f_financial_date_silver_7d_to_7d_1y_shift_55fa8001%09%2A%0A%3Ca%20href%3D%27https%3A%2F%2Fupgini.com%2F%23data_sources%27%20target%3D%27_blank%27%20rel%3D%27noopener%20noreferrer%27%3ECalendar%20data%3C%2Fa%3E,%3Ca%20href%3D%27https%3A%2F%2Fupgini.com%2F%23data_sources%27%20target%3D%27_blank%27%20rel%3D%27noopener%20noreferrer%27%3EMarkets%20data%3C%2Fa%3E%09f_autofe_mul_5bd50798%09f_events_date_week_cos1_f6a8c1fc%09f_financial_date_nasdaq_7d_to_7d_1y_shift_4a4dd6ce%09%2A%0A%3Ca%20href%3D%27https%3A%2F%2Fupgini.com%2F%23data_sources%27%20target%3D%27_blank%27%20rel%3D%27noopener%20noreferrer%27%3ECalendar%20data%3C%2Fa%3E,%3Ca%20href%3D%27https%3A%2F%2Fupgini.com%2F%23data_sources%27%20target%3D%27_blank%27%20rel%3D%27noopener%20noreferrer%27%3EMarkets%20data%3C%2Fa%3E%09f_autofe_div_1edd5009%09f_events_date_year_cos1_9014a856%09f_financial_date_vix_6c8e6194%09%2F%0A%3Ca%20href%3D%27https%3A%2F%2Fupgini.com%2F%23data_sources%27%20target%3D%27_blank%27%20rel%3D%27noopener%20noreferrer%27%3ECalendar%20data%3C%2Fa%3E,%3Ca%20href%3D%27https%3A%2F%2Fupgini.com%2F%23data_sources%27%20target%3D%27_blank%27%20rel%3D%27noopener%20noreferrer%27%3EMarkets%20data%3C%2Fa%3E%09f_autofe_div_283a6178%09f_events_date_week_cos2_b0a07cfc%09f_financial_date_usd_7419609a%09%2F%0A%3Ca%20href%3D%27https%3A%2F%2Fupgini.com%2F%23data_sources%27%20target%3D%27_blank%27%20rel%3D%27noopener%20noreferrer%27%3ECalendar%20data%3C%2Fa%3E,%3Ca%20href%3D%27https%3A%2F%2Fupgini.com%2F%23data_sources%27%20target%3D%27_blank%27%20rel%3D%27noopener%20noreferrer%27%3EMarkets%20data%3C%2Fa%3E%09f_autofe_div_89c56a5f%09f_events_date_year_cos1_9014a856%09f_financial_date_natural_gas_7d_to_7d_1y_shift_a5c3c07f%09%2F%0A%3Ca%20href%3D%27https%3A%2F%2Fupgini.com%2F%23data_sources%27%20target%3D%27_blank%27%20rel%3D%27noopener%20noreferrer%27%3ECalendar%20data%3C%2Fa%3E,%3Ca%20href%3D%27https%3A%2F%2Fupgini.com%2F%23data_sources%27%20target%3D%27_blank%27%20rel%3D%27noopener%20noreferrer%27%3EMarkets%20data%3C%2Fa%3E%09f_autofe_mul_25296268%09f_events_date_week_sin1_847b5db1%09f_financial_date_vix_7d_to_1y_634c77eb%09%2A%0A%3Ca%20href%3D%27https%3A%2F%2Fupgini.com%2F%23data_sources%27%20target%3D%27_blank%27%20rel%3D%27noopener%20noreferrer%27%3ECalendar%20data%3C%2Fa%3E,%3Ca%20href%3D%27https%3A%2F%2Fupgini.com%2F%23data_sources%27%20target%3D%27_blank%27%20rel%3D%27noopener%20noreferrer%27%3EMarkets%20data%3C%2Fa%3E%09f_autofe_div_abde95f5%09f_events_date_week_cos2_b0a07cfc%09f_financial_date_silver_7d_to_7d_1y_shift_55fa8001%09%2F%0A%3Ca%20href%3D%27https%3A%2F%2Fupgini.com%2F%23data_sources%27%20target%3D%27_blank%27%20rel%3D%27noopener%20noreferrer%27%3ECalendar%20data%3C%2Fa%3E,%3Ca%20href%3D%27https%3A%2F%2Fupgini.com%2F%23data_sources%27%20target%3D%27_blank%27%20rel%3D%27noopener%20noreferrer%27%3EMarkets%20data%3C%2Fa%3E%09f_autofe_div_c9ddcb38%09f_events_date_week_cos1_f6a8c1fc%09f_financial_date_silver_7d_to_7d_1y_shift_55fa8001%09%2F%0A%3Ca%20href%3D%27https%3A%2F%2Fupgini.com%2F%23data_sources%27%20target%3D%27_blank%27%20rel%3D%27noopener%20noreferrer%27%3EMarkets%20data%3C%2Fa%3E%09f_autofe_div_455a9ecb%09f_financial_date_natural_gas_7d_to_7d_1y_shift_a5c3c07f%09f_financial_date_silver_e4e33014%09%2F%0A%3Ca%20href%3D%27https%3A%2F%2Fupgini.com%2F%23data_sources%27%20target%3D%27_blank%27%20rel%3D%27noopener%20noreferrer%27%3ECalendar%20data%3C%2Fa%3E,%3Ca%20href%3D%27https%3A%2F%2Fupgini.com%2F%23data_sources%27%20target%3D%27_blank%27%20rel%3D%27noopener%20noreferrer%27%3EMarkets%20data%3C%2Fa%3E%09f_autofe_mul_7b115967%09f_events_date_week_cos1_f6a8c1fc%09f_financial_date_gold_7d_to_1y_ae310379%09%2A%0A%3Ca%20href%3D%27https%3A%2F%2Fupgini.com%2F%23data_sources%27%20target%3D%27_blank%27%20rel%3D%27noopener%20noreferrer%27%3ECalendar%20data%3C%2Fa%3E,%3Ca%20href%3D%27https%3A%2F%2Fupgini.com%2F%23data_sources%27%20target%3D%27_blank%27%20rel%3D%27noopener%20noreferrer%27%3EMarkets%20data%3C%2Fa%3E%09f_autofe_div_d57fd206%09f_events_date_week_sin1_847b5db1%09f_financial_date_usd_eur_7d_to_1y_200e4902%09%2F%0A%3Ca%20href%3D%27https%3A%2F%2Fupgini.com%2F%23data_sources%27%20target%3D%27_blank%27%20rel%3D%27noopener%20noreferrer%27%3ECalendar%20data%3C%2Fa%3E%09f_autofe_div_ba625fe9%09f_events_date_week_sin1_847b5db1%09f_events_date_year_cos1_9014a856%09%2F%0A%3Ca%20href%3D%27https%3A%2F%2Fupgini.com%2F%23data_sources%27%20target%3D%27_blank%27%20rel%3D%27noopener%20noreferrer%27%3ECalendar%20data%3C%2Fa%3E,%3Ca%20href%3D%27https%3A%2F%2Fupgini.com%2F%23data_sources%27%20target%3D%27_blank%27%20rel%3D%27noopener%20noreferrer%27%3EMarkets%20data%3C%2Fa%3E%09f_autofe_mul_0cc09d2d%09f_events_date_year_cos1_9014a856%09f_financial_date_crude_oil_1f195998%09%2A%0A%3Ca%20href%3D%27https%3A%2F%2Fupgini.com%2F%23data_sources%27%20target%3D%27_blank%27%20rel%3D%27noopener%20noreferrer%27%3ECalendar%20data%3C%2Fa%3E,%3Ca%20href%3D%27https%3A%2F%2Fupgini.com%2F%23data_sources%27%20target%3D%27_blank%27%20rel%3D%27noopener%20noreferrer%27%3EMarkets%20data%3C%2Fa%3E%09f_autofe_div_fa0777db%09f_events_date_week_cos2_b0a07cfc%09f_financial_date_stoxx_043cbcd4%09%2F%0A%3Ca%20href%3D%27https%3A%2F%2Fupgini.com%2F%23data_sources%27%20target%3D%27_blank%27%20rel%3D%27noopener%20noreferrer%27%3ECalendar%20data%3C%2Fa%3E,%3Ca%20href%3D%27https%3A%2F%2Fupgini.com%2F%23data_sources%27%20target%3D%27_blank%27%20rel%3D%27noopener%20noreferrer%27%3EMarkets%20data%3C%2Fa%3E%09f_autofe_div_40bee497%09f_events_date_week_cos1_f6a8c1fc%09f_financial_date_stoxx_043cbcd4%09%2F%0A%3Ca%20href%3D%27https%3A%2F%2Fupgini.com%2F%23data_sources%27%20target%3D%27_blank%27%20rel%3D%27noopener%20noreferrer%27%3ECalendar%20data%3C%2Fa%3E,%3Ca%20href%3D%27https%3A%2F%2Fupgini.com%2F%23data_sources%27%20target%3D%27_blank%27%20rel%3D%27noopener%20noreferrer%27%3EMarkets%20data%3C%2Fa%3E%09f_autofe_div_270d64a2%09f_events_date_week_cos1_f6a8c1fc%09f_financial_date_crude_oil_7d_to_1y_c3e0ad17%09%2F%0A%3Ca%20href%3D%27https%3A%2F%2Fupgini.com%2F%23data_sources%27%20target%3D%27_blank%27%20rel%3D%27noopener%20noreferrer%27%3ECalendar%20data%3C%2Fa%3E,%3Ca%20href%3D%27https%3A%2F%2Fupgini.com%2F%23data_sources%27%20target%3D%27_blank%27%20rel%3D%27noopener%20noreferrer%27%3EMarkets%20data%3C%2Fa%3E%09f_autofe_mul_b49258bb%09f_events_date_week_sin1_847b5db1%09f_financial_date_stoxx_043cbcd4%09%2A%0A%3Ca%20href%3D%27https%3A%2F%2Fupgini.com%2F%23data_sources%27%20target%3D%27_blank%27%20rel%3D%27noopener%20noreferrer%27%3ECalendar%20data%3C%2Fa%3E,%3Ca%20href%3D%27https%3A%2F%2Fupgini.com%2F%23data_sources%27%20target%3D%27_blank%27%20rel%3D%27noopener%20noreferrer%27%3EMarkets%20data%3C%2Fa%3E%09f_autofe_div_c855cf40%09f_events_date_week_cos1_f6a8c1fc%09f_financial_date_usd_7419609a%09%2F%0A%3Ca%20href%3D%27https%3A%2F%2Fupgini.com%2F%23data_sources%27%20target%3D%27_blank%27%20rel%3D%27noopener%20noreferrer%27%3EMarkets%20data%3C%2Fa%3E%09f_autofe_mul_4c9c7d0a%09f_financial_date_natural_gas_7d_to_1y_7a6f300d%09f_financial_date_silver_7d_to_7d_1y_shift_55fa8001%09%2A%0A%3Ca%20href%3D%27https%3A%2F%2Fupgini.com%2F%23data_sources%27%20target%3D%27_blank%27%20rel%3D%27noopener%20noreferrer%27%3ECalendar%20data%3C%2Fa%3E,%3Ca%20href%3D%27https%3A%2F%2Fupgini.com%2F%23data_sources%27%20target%3D%27_blank%27%20rel%3D%27noopener%20noreferrer%27%3EMarkets%20data%3C%2Fa%3E%09f_autofe_div_e79e322c%09f_events_date_week_cos2_b0a07cfc%09f_financial_date_natural_gas_1d_to_7d_1fd6362a%09%2F%0A%3Ca%20href%3D%27https%3A%2F%2Fupgini.com%2F%23data_sources%27%20target%3D%27_blank%27%20rel%3D%27noopener%20noreferrer%27%3ECalendar%20data%3C%2Fa%3E%09f_autofe_mul_0afc7563%09f_events_date_week_sin1_847b5db1%09f_events_date_year_cos1_9014a856%09%2A%0A%3Ca%20href%3D%27https%3A%2F%2Fupgini.com%2F%23data_sources%27%20target%3D%27_blank%27%20rel%3D%27noopener%20noreferrer%27%3ECalendar%20data%3C%2Fa%3E,%3Ca%20href%3D%27https%3A%2F%2Fupgini.com%2F%23data_sources%27%20target%3D%27_blank%27%20rel%3D%27noopener%20noreferrer%27%3EMarkets%20data%3C%2Fa%3E%09f_autofe_mul_09cabb32%09f_events_date_week_cos2_b0a07cfc%09f_financial_date_silver_1d_to_7d_f35d6e93%09%2A%0A%3Ca%20href%3D%27https%3A%2F%2Fupgini.com%2F%23data_sources%27%20target%3D%27_blank%27%20rel%3D%27noopener%20noreferrer%27%3ECalendar%20data%3C%2Fa%3E,%3Ca%20href%3D%27https%3A%2F%2Fupgini.com%2F%23data_sources%27%20target%3D%27_blank%27%20rel%3D%27noopener%20noreferrer%27%3EMarkets%20data%3C%2Fa%3E%09f_autofe_mul_242bbe3e%09f_events_date_week_cos2_b0a07cfc%09f_financial_date_nasdaq_7d_to_7d_1y_shift_4a4dd6ce%09%2A%0A%3Ca%20href%3D%27https%3A%2F%2Fupgini.com%2F%23data_sources%27%20target%3D%27_blank%27%20rel%3D%27noopener%20noreferrer%27%3ECalendar%20data%3C%2Fa%3E,%3Ca%20href%3D%27https%3A%2F%2Fupgini.com%2F%23data_sources%27%20target%3D%27_blank%27%20rel%3D%27noopener%20noreferrer%27%3EMarkets%20data%3C%2Fa%3E%09f_autofe_mul_dda91e30%09f_events_date_week_sin2_e28440a5%09f_financial_date_usd_eur_7d_to_1y_200e4902%09%2A%0A%3Ca%20href%3D%27https%3A%2F%2Fupgini.com%2F%23data_sources%27%20target%3D%27_blank%27%20rel%3D%27noopener%20noreferrer%27%3ECalendar%20data%3C%2Fa%3E,%3Ca%20href%3D%27https%3A%2F%2Fupgini.com%2F%23data_sources%27%20target%3D%27_blank%27%20rel%3D%27noopener%20noreferrer%27%3EMarkets%20data%3C%2Fa%3E%09f_autofe_mul_5cf72e2c%09f_events_date_week_cos2_b0a07cfc%09f_financial_date_usd_7d_to_7d_1y_shift_35cb53e9%09%2A%0A%3Ca%20href%3D%27https%3A%2F%2Fupgini.com%2F%23data_sources%27%20target%3D%27_blank%27%20rel%3D%27noopener%20noreferrer%27%3ECalendar%20data%3C%2Fa%3E,%3Ca%20href%3D%27https%3A%2F%2Fupgini.com%2F%23data_sources%27%20target%3D%27_blank%27%20rel%3D%27noopener%20noreferrer%27%3EMarkets%20data%3C%2Fa%3E%09f_autofe_mul_b2bfad41%09f_events_date_week_cos2_b0a07cfc%09f_financial_date_vix_7d_to_1y_634c77eb%09%2A%0A%3Ca%20href%3D%27https%3A%2F%2Fupgini.com%2F%23data_sources%27%20target%3D%27_blank%27%20rel%3D%27noopener%20noreferrer%27%3EMarkets%20data%3C%2Fa%3E%09f_autofe_div_c4537a19%09f_financial_date_snp500_7d_to_1y_378b9f99%09f_financial_date_stoxx_043cbcd4%09%2F%0A%3Ca%20href%3D%27https%3A%2F%2Fupgini.com%2F%23data_sources%27%20target%3D%27_blank%27%20rel%3D%27noopener%20noreferrer%27%3ECalendar%20data%3C%2Fa%3E,%3Ca%20href%3D%27https%3A%2F%2Fupgini.com%2F%23data_sources%27%20target%3D%27_blank%27%20rel%3D%27noopener%20noreferrer%27%3EMarkets%20data%3C%2Fa%3E%09f_autofe_div_1197f7eb%09f_events_date_week_cos1_f6a8c1fc%09f_financial_date_stoxx_1d_to_7d_c615714e%09%2F%0A%3Ca%20href%3D%27https%3A%2F%2Fupgini.com%2F%23data_sources%27%20target%3D%27_blank%27%20rel%3D%27noopener%20noreferrer%27%3ECalendar%20data%3C%2Fa%3E,%3Ca%20href%3D%27https%3A%2F%2Fupgini.com%2F%23data_sources%27%20target%3D%27_blank%27%20rel%3D%27noopener%20noreferrer%27%3EMarkets%20data%3C%2Fa%3E%09f_autofe_mul_165c74ad%09f_events_date_week_sin1_847b5db1%09f_financial_date_stoxx_7d_to_7d_1y_shift_abef6e91%09%2A%0A%3Ca%20href%3D%27https%3A%2F%2Fupgini.com%2F%23data_sources%27%20target%3D%27_blank%27%20rel%3D%27noopener%20noreferrer%27%3ECalendar%20data%3C%2Fa%3E,%3Ca%20href%3D%27https%3A%2F%2Fupgini.com%2F%23data_sources%27%20target%3D%27_blank%27%20rel%3D%27noopener%20noreferrer%27%3EMarkets%20data%3C%2Fa%3E%09f_autofe_mul_402f5e6a%09f_events_date_year_cos1_9014a856%09f_financial_date_silver_7d_to_7d_1y_shift_55fa8001%09%2A%0A%3Ca%20href%3D%27https%3A%2F%2Fupgini.com%2F%23data_sources%27%20target%3D%27_blank%27%20rel%3D%27noopener%20noreferrer%27%3ECalendar%20data%3C%2Fa%3E,%3Ca%20href%3D%27https%3A%2F%2Fupgini.com%2F%23data_sources%27%20target%3D%27_blank%27%20rel%3D%27noopener%20noreferrer%27%3EMarkets%20data%3C%2Fa%3E%09f_autofe_mul_af2318dc%09f_events_date_week_cos1_f6a8c1fc%09f_financial_date_usd_eur_7d_to_1y_200e4902%09%2A%0A%3Ca%20href%3D%27https%3A%2F%2Fupgini.com%2F%23data_sources%27%20target%3D%27_blank%27%20rel%3D%27noopener%20noreferrer%27%3EMarkets%20data%3C%2Fa%3E%09f_autofe_div_d0993cdc%09f_financial_date_stoxx_043cbcd4%09f_financial_date_stoxx_7d_to_1y_2ea815f4%09%2F%0A%3Ca%20href%3D%27https%3A%2F%2Fupgini.com%2F%23data_sources%27%20target%3D%27_blank%27%20rel%3D%27noopener%20noreferrer%27%3EMarkets%20data%3C%2Fa%3E%09f_autofe_mul_eff3c92e%09f_financial_date_natural_gas_7d_to_7d_1y_shift_a5c3c07f%09f_financial_date_stoxx_7d_to_7d_1y_shift_abef6e91%09%2A%0A%3Ca%20href%3D%27https%3A%2F%2Fupgini.com%2F%23data_sources%27%20target%3D%27_blank%27%20rel%3D%27noopener%20noreferrer%27%3ECalendar%20data%3C%2Fa%3E,%3Ca%20href%3D%27https%3A%2F%2Fupgini.com%2F%23data_sources%27%20target%3D%27_blank%27%20rel%3D%27noopener%20noreferrer%27%3EMarkets%20data%3C%2Fa%3E%09f_autofe_div_0411c316%09f_events_date_week_sin2_e28440a5%09f_financial_date_usd_7d_to_7d_1y_shift_35cb53e9%09%2F%0A%3Ca%20href%3D%27https%3A%2F%2Fupgini.com%2F%23data_sources%27%20target%3D%27_blank%27%20rel%3D%27noopener%20noreferrer%27%3ECalendar%20data%3C%2Fa%3E,%3Ca%20href%3D%27https%3A%2F%2Fupgini.com%2F%23data_sources%27%20target%3D%27_blank%27%20rel%3D%27noopener%20noreferrer%27%3EMarkets%20data%3C%2Fa%3E%09f_autofe_mul_efa07492%09f_events_date_week_cos2_b0a07cfc%09f_financial_date_natural_gas_92dac942%09%2A%0A%3Ca%20href%3D%27https%3A%2F%2Fupgini.com%2F%23data_sources%27%20target%3D%27_blank%27%20rel%3D%27noopener%20noreferrer%27%3ECalendar%20data%3C%2Fa%3E%09f_autofe_mul_041b52f4%09f_events_date_week_sin1_847b5db1%09f_events_date_year_sin1_3c44bc64%09%2A%0A%3Ca%20href%3D%27https%3A%2F%2Fupgini.com%2F%23data_sources%27%20target%3D%27_blank%27%20rel%3D%27noopener%20noreferrer%27%3EMarkets%20data%3C%2Fa%3E%09f_autofe_mul_44503c6f%09f_financial_date_natural_gas_92dac942%09f_financial_date_natural_gas_7d_to_7d_1y_shift_a5c3c07f%09%2A%0A%3Ca%20href%3D%27https%3A%2F%2Fupgini.com%2F%23data_sources%27%20target%3D%27_blank%27%20rel%3D%27noopener%20noreferrer%27%3ECalendar%20data%3C%2Fa%3E%09f_autofe_mul_f018fe89%09f_events_date_week_cos2_b0a07cfc%09f_events_date_year_cos1_9014a856%09%2A%0A%3Ca%20href%3D%27https%3A%2F%2Fupgini.com%2F%23data_sources%27%20target%3D%27_blank%27%20rel%3D%27noopener%20noreferrer%27%3EMarkets%20data%3C%2Fa%3E%09f_autofe_mul_4ee11e5f%09f_financial_date_nasdaq_7d_to_7d_1y_shift_4a4dd6ce%09f_financial_date_usd_7419609a%09%2A%0A%3Ca%20href%3D%27https%3A%2F%2Fupgini.com%2F%23data_sources%27%20target%3D%27_blank%27%20rel%3D%27noopener%20noreferrer%27%3EMarkets%20data%3C%2Fa%3E%09f_autofe_mul_c883f8a6%09f_financial_date_nasdaq_7d_to_7d_1y_shift_4a4dd6ce%09f_financial_date_stoxx_043cbcd4%09%2A%0A%3Ca%20href%3D%27https%3A%2F%2Fupgini.com%2F%23data_sources%27%20target%3D%27_blank%27%20rel%3D%27noopener%20noreferrer%27%3EMarkets%20data%3C%2Fa%3E%09f_autofe_div_fb99ff57%09f_financial_date_stoxx_043cbcd4%09f_financial_date_usd_7d_to_7d_1y_shift_35cb53e9%09%2F%0A%3Ca%20href%3D%27https%3A%2F%2Fupgini.com%2F%23data_sources%27%20target%3D%27_blank%27%20rel%3D%27noopener%20noreferrer%27%3ECalendar%20data%3C%2Fa%3E%09f_autofe_mul_58cac651%09f_events_date_week_sin1_847b5db1%09f_events_date_year_cos2_7acbaf1b%09%2A%0A%3Ca%20href%3D%27https%3A%2F%2Fupgini.com%2F%23data_sources%27%20target%3D%27_blank%27%20rel%3D%27noopener%20noreferrer%27%3EMarkets%20data%3C%2Fa%3E%09f_autofe_div_ef42018c%09f_financial_date_usd_7d_to_7d_1y_shift_35cb53e9%09f_financial_date_usd_eur_7d_to_1y_200e4902%09%2F%0A%3Ca%20href%3D%27https%3A%2F%2Fupgini.com%2F%23data_sources%27%20target%3D%27_blank%27%20rel%3D%27noopener%20noreferrer%27%3ECalendar%20data%3C%2Fa%3E,%3Ca%20href%3D%27https%3A%2F%2Fupgini.com%2F%23data_sources%27%20target%3D%27_blank%27%20rel%3D%27noopener%20noreferrer%27%3EMarkets%20data%3C%2Fa%3E%09f_autofe_div_84649ac5%09f_events_date_week_cos2_b0a07cfc%09f_financial_date_stoxx_1d_to_7d_c615714e%09%2F%0A%3Ca%20href%3D%27https%3A%2F%2Fupgini.com%2F%23data_sources%27%20target%3D%27_blank%27%20rel%3D%27noopener%20noreferrer%27%3EMarkets%20data%3C%2Fa%3E%09f_autofe_mul_9091be3b%09f_financial_date_silver_e4e33014%09f_financial_date_usd_eur_7d_to_1y_200e4902%09%2A%0A%3Ca%20href%3D%27https%3A%2F%2Fupgini.com%2F%23data_sources%27%20target%3D%27_blank%27%20rel%3D%27noopener%20noreferrer%27%3ECalendar%20data%3C%2Fa%3E%09f_autofe_div_7cd7dbff%09f_events_date_week_cos1_f6a8c1fc%09f_events_date_year_cos1_9014a856%09%2F%0A%3Ca%20href%3D%27https%3A%2F%2Fupgini.com%2F%23data_sources%27%20target%3D%27_blank%27%20rel%3D%27noopener%20noreferrer%27%3ECalendar%20data%3C%2Fa%3E,%3Ca%20href%3D%27https%3A%2F%2Fupgini.com%2F%23data_sources%27%20target%3D%27_blank%27%20rel%3D%27noopener%20noreferrer%27%3EMarkets%20data%3C%2Fa%3E%09f_autofe_mul_6a97c336%09f_events_date_week_cos1_f6a8c1fc%09f_financial_date_vix_7d_to_1y_634c77eb%09%2A%0A%3Ca%20href%3D%27https%3A%2F%2Fupgini.com%2F%23data_sources%27%20target%3D%27_blank%27%20rel%3D%27noopener%20noreferrer%27%3ECalendar%20data%3C%2Fa%3E,%3Ca%20href%3D%27https%3A%2F%2Fupgini.com%2F%23data_sources%27%20target%3D%27_blank%27%20rel%3D%27noopener%20noreferrer%27%3EMarkets%20data%3C%2Fa%3E%09f_autofe_mul_8437d645%09f_events_date_week_cos1_f6a8c1fc%09f_financial_date_usd_7419609a%09%2A%0A%3Ca%20href%3D%27https%3A%2F%2Fupgini.com%2F%23data_sources%27%20target%3D%27_blank%27%20rel%3D%27noopener%20noreferrer%27%3ECalendar%20data%3C%2Fa%3E,%3Ca%20href%3D%27https%3A%2F%2Fupgini.com%2F%23data_sources%27%20target%3D%27_blank%27%20rel%3D%27noopener%20noreferrer%27%3EMarkets%20data%3C%2Fa%3E%09f_autofe_div_22b77c5b%09f_events_date_week_sin2_e28440a5%09f_financial_date_vix_7d_to_1y_634c77eb%09%2F%0A%3Ca%20href%3D%27https%3A%2F%2Fupgini.com%2F%23data_sources%27%20target%3D%27_blank%27%20rel%3D%27noopener%20noreferrer%27%3ECalendar%20data%3C%2Fa%3E,%3Ca%20href%3D%27https%3A%2F%2Fupgini.com%2F%23data_sources%27%20target%3D%27_blank%27%20rel%3D%27noopener%20noreferrer%27%3EMarkets%20data%3C%2Fa%3E%09f_autofe_mul_a36d46a7%09f_events_date_year_sin2_59955ffd%09f_financial_date_silver_7d_to_7d_1y_shift_55fa8001%09%2A%0A%3Ca%20href%3D%27https%3A%2F%2Fupgini.com%2F%23data_sources%27%20target%3D%27_blank%27%20rel%3D%27noopener%20noreferrer%27%3ECalendar%20data%3C%2Fa%3E%09f_autofe_div_17716d2e%09f_events_date_year_sin3_e4c1ec0e%09f_events_date_year_sin7_16d9d7c9%09%2F%0A%3Ca%20href%3D%27https%3A%2F%2Fupgini.com%2F%23data_sources%27%20target%3D%27_blank%27%20rel%3D%27noopener%20noreferrer%27%3EMarkets%20data%3C%2Fa%3E%09f_autofe_mul_5c76b026%09f_financial_date_natural_gas_7d_to_7d_1y_shift_a5c3c07f%09f_financial_date_silver_e4e33014%09%2A%0A'))>📂 Copy</button>\n",
              "                <a href='mailto:<Share with...>?subject=Relevant external data sources from Upgini.com&body=Sources%09Feature%20name%09Feature%201%09Feature%202%09Function%0A%3Ca%20href%3D%27https%3A%2F%2Fupgini.com%2F%23data_sources%27%20target%3D%27_blank%27%20rel%3D%27noopener%20noreferrer%27%3EMarkets%20data%3C%2Fa%3E%09f_autofe_div_3295865b%09f_financial_date_natural_gas_7d_to_1y_7a6f300d%09f_financial_date_natural_gas_7d_to_7d_1y_shift_a5c3c07f%09%2F%0A%3Ca%20href%3D%27https%3A%2F%2Fupgini.com%2F%23data_sources%27%20target%3D%27_blank%27%20rel%3D%27noopener%20noreferrer%27%3ECalendar%20data%3C%2Fa%3E,%3Ca%20href%3D%27https%3A%2F%2Fupgini.com%2F%23data_sources%27%20target%3D%27_blank%27%20rel%3D%27noopener%20noreferrer%27%3EMarkets%20data%3C%2Fa%3E%09f_autofe_div_50507976%09f_events_date_year_cos1_9014a856%09f_financial_date_silver_e4e33014%09%2F%0A%3Ca%20href%3D%27https%3A%2F%2Fupgini.com%2F%23data_sources%27%20target%3D%27_blank%27%20rel%3D%27noopener%20noreferrer%27%3ECalendar%20data%3C%2Fa%3E,%3Ca%20href%3D%27https%3A%2F%2Fupgini.com%2F%23data_sources%27%20target%3D%27_blank%27%20rel%3D%27noopener%20noreferrer%27%3EMarkets%20data%3C%2Fa%3E%09f_autofe_mul_478be4f3%09f_events_date_year_cos1_9014a856%09f_financial_date_natural_gas_7d_to_7d_1y_shift_a5c3c07f%09%2A%0A%3Ca%20href%3D%27https%3A%2F%2Fupgini.com%2F%23data_sources%27%20target%3D%27_blank%27%20rel%3D%27noopener%20noreferrer%27%3ECalendar%20data%3C%2Fa%3E,%3Ca%20href%3D%27https%3A%2F%2Fupgini.com%2F%23data_sources%27%20target%3D%27_blank%27%20rel%3D%27noopener%20noreferrer%27%3EMarkets%20data%3C%2Fa%3E%09f_autofe_mul_08e89348%09f_events_date_week_sin1_847b5db1%09f_financial_date_crude_oil_1f195998%09%2A%0A%3Ca%20href%3D%27https%3A%2F%2Fupgini.com%2F%23data_sources%27%20target%3D%27_blank%27%20rel%3D%27noopener%20noreferrer%27%3ECalendar%20data%3C%2Fa%3E,%3Ca%20href%3D%27https%3A%2F%2Fupgini.com%2F%23data_sources%27%20target%3D%27_blank%27%20rel%3D%27noopener%20noreferrer%27%3EMarkets%20data%3C%2Fa%3E%09f_autofe_div_cf5dd7be%09f_events_date_week_sin1_847b5db1%09f_financial_date_vix_7d_to_1y_634c77eb%09%2F%0A%3Ca%20href%3D%27https%3A%2F%2Fupgini.com%2F%23data_sources%27%20target%3D%27_blank%27%20rel%3D%27noopener%20noreferrer%27%3ECalendar%20data%3C%2Fa%3E,%3Ca%20href%3D%27https%3A%2F%2Fupgini.com%2F%23data_sources%27%20target%3D%27_blank%27%20rel%3D%27noopener%20noreferrer%27%3EMarkets%20data%3C%2Fa%3E%09f_autofe_mul_34d11bc4%09f_events_date_year_cos1_9014a856%09f_financial_date_silver_e4e33014%09%2A%0A%3Ca%20href%3D%27https%3A%2F%2Fupgini.com%2F%23data_sources%27%20target%3D%27_blank%27%20rel%3D%27noopener%20noreferrer%27%3ECalendar%20data%3C%2Fa%3E,%3Ca%20href%3D%27https%3A%2F%2Fupgini.com%2F%23data_sources%27%20target%3D%27_blank%27%20rel%3D%27noopener%20noreferrer%27%3EMarkets%20data%3C%2Fa%3E%09f_autofe_div_3e22df83%09f_events_date_week_sin1_847b5db1%09f_financial_date_crude_oil_1f195998%09%2F%0A%3Ca%20href%3D%27https%3A%2F%2Fupgini.com%2F%23data_sources%27%20target%3D%27_blank%27%20rel%3D%27noopener%20noreferrer%27%3EMarkets%20data%3C%2Fa%3E%09f_autofe_mul_6234ba3a%09f_financial_date_crude_oil_7d_to_1y_c3e0ad17%09f_financial_date_silver_7d_to_7d_1y_shift_55fa8001%09%2A%0A%3Ca%20href%3D%27https%3A%2F%2Fupgini.com%2F%23data_sources%27%20target%3D%27_blank%27%20rel%3D%27noopener%20noreferrer%27%3ECalendar%20data%3C%2Fa%3E,%3Ca%20href%3D%27https%3A%2F%2Fupgini.com%2F%23data_sources%27%20target%3D%27_blank%27%20rel%3D%27noopener%20noreferrer%27%3EMarkets%20data%3C%2Fa%3E%09f_autofe_mul_5bd50798%09f_events_date_week_cos1_f6a8c1fc%09f_financial_date_nasdaq_7d_to_7d_1y_shift_4a4dd6ce%09%2A%0A%3Ca%20href%3D%27https%3A%2F%2Fupgini.com%2F%23data_sources%27%20target%3D%27_blank%27%20rel%3D%27noopener%20noreferrer%27%3ECalendar%20data%3C%2Fa%3E,%3Ca%20href%3D%27https%3A%2F%2Fupgini.com%2F%23data_sources%27%20target%3D%27_blank%27%20rel%3D%27noopener%20noreferrer%27%3EMarkets%20data%3C%2Fa%3E%09f_autofe_div_1edd5009%09f_events_date_year_cos1_9014a856%09f_financial_date_vix_6c8e6194%09%2F%0A%3Ca%20href%3D%27https%3A%2F%2Fupgini.com%2F%23data_sources%27%20target%3D%27_blank%27%20rel%3D%27noopener%20noreferrer%27%3ECalendar%20data%3C%2Fa%3E,%3Ca%20href%3D%27https%3A%2F%2Fupgini.com%2F%23data_sources%27%20target%3D%27_blank%27%20rel%3D%27noopener%20noreferrer%27%3EMarkets%20data%3C%2Fa%3E%09f_autofe_div_283a6178%09f_events_date_week_cos2_b0a07cfc%09f_financial_date_usd_7419609a%09%2F%0A%3Ca%20href%3D%27https%3A%2F%2Fupgini.com%2F%23data_sources%27%20target%3D%27_blank%27%20rel%3D%27noopener%20noreferrer%27%3ECalendar%20data%3C%2Fa%3E,%3Ca%20href%3D%27https%3A%2F%2Fupgini.com%2F%23data_sources%27%20target%3D%27_blank%27%20rel%3D%27noopener%20noreferrer%27%3EMarkets%20data%3C%2Fa%3E%09f_autofe_div_89c56a5f%09f_events_date_year_cos1_9014a856%09f_financial_date_natural_gas_7d_to_7d_1y_shift_a5c3c07f%09%2F%0A%3Ca%20href%3D%27https%3A%2F%2Fupgini.com%2F%23data_sources%27%20target%3D%27_blank%27%20rel%3D%27noopener%20noreferrer%27%3ECalendar%20data%3C%2Fa%3E,%3Ca%20href%3D%27https%3A%2F%2Fupgini.com%2F%23data_sources%27%20target%3D%27_blank%27%20rel%3D%27noopener%20noreferrer%27%3EMarkets%20data%3C%2Fa%3E%09f_autofe_mul_25296268%09f_events_date_week_sin1_847b5db1%09f_financial_date_vix_7d_to_1y_634c77eb%09%2A%0A%3Ca%20href%3D%27https%3A%2F%2Fupgini.com%2F%23data_sources%27%20target%3D%27_blank%27%20rel%3D%27noopener%20noreferrer%27%3ECalendar%20data%3C%2Fa%3E,%3Ca%20href%3D%27https%3A%2F%2Fupgini.com%2F%23data_sources%27%20target%3D%27_blank%27%20rel%3D%27noopener%20noreferrer%27%3EMarkets%20data%3C%2Fa%3E%09f_autofe_div_abde95f5%09f_events_date_week_cos2_b0a07cfc%09f_financial_date_silver_7d_to_7d_1y_shift_55fa8001%09%2F%0A%3Ca%20href%3D%27https%3A%2F%2Fupgini.com%2F%23data_sources%27%20target%3D%27_blank%27%20rel%3D%27noopener%20noreferrer%27%3ECalendar%20data%3C%2Fa%3E,%3Ca%20href%3D%27https%3A%2F%2Fupgini.com%2F%23data_sources%27%20target%3D%27_blank%27%20rel%3D%27noopener%20noreferrer%27%3EMarkets%20data%3C%2Fa%3E%09f_autofe_div_c9ddcb38%09f_events_date_week_cos1_f6a8c1fc%09f_financial_date_silver_7d_to_7d_1y_shift_55fa8001%09%2F%0A%3Ca%20href%3D%27https%3A%2F%2Fupgini.com%2F%23data_sources%27%20target%3D%27_blank%27%20rel%3D%27noopener%20noreferrer%27%3EMarkets%20data%3C%2Fa%3E%09f_autofe_div_455a9ecb%09f_financial_date_natural_gas_7d_to_7d_1y_shift_a5c3c07f%09f_financial_date_silver_e4e33014%09%2F%0A%3Ca%20href%3D%27https%3A%2F%2Fupgini.com%2F%23data_sources%27%20target%3D%27_blank%27%20rel%3D%27noopener%20noreferrer%27%3ECalendar%20data%3C%2Fa%3E,%3Ca%20href%3D%27https%3A%2F%2Fupgini.com%2F%23data_sources%27%20target%3D%27_blank%27%20rel%3D%27noopener%20noreferrer%27%3EMarkets%20data%3C%2Fa%3E%09f_autofe_mul_7b115967%09f_events_date_week_cos1_f6a8c1fc%09f_financial_date_gold_7d_to_1y_ae310379%09%2A%0A%3Ca%20href%3D%27https%3A%2F%2Fupgini.com%2F%23data_sources%27%20target%3D%27_blank%27%20rel%3D%27noopener%20noreferrer%27%3ECalendar%20data%3C%2Fa%3E,%3Ca%20href%3D%27https%3A%2F%2Fupgini.com%2F%23data_sources%27%20target%3D%27_blank%27%20rel%3D%27noopener%20noreferrer%27%3EMarkets%20data%3C%2Fa%3E%09f_autofe_div_d57fd206%09f_events_date_week_sin1_847b5db1%09f_financial_date_usd_eur_7d_to_1y_200e4902%09%2F%0A%3Ca%20href%3D%27https%3A%2F%2Fupgini.com%2F%23data_sources%27%20target%3D%27_blank%27%20rel%3D%27noopener%20noreferrer%27%3ECalendar%20data%3C%2Fa%3E%09f_autofe_div_ba625fe9%09f_events_date_week_sin1_847b5db1%09f_events_date_year_cos1_9014a856%09%2F%0A%3Ca%20href%3D%27https%3A%2F%2Fupgini.com%2F%23data_sources%27%20target%3D%27_blank%27%20rel%3D%27noopener%20noreferrer%27%3ECalendar%20data%3C%2Fa%3E,%3Ca%20href%3D%27https%3A%2F%2Fupgini.com%2F%23data_sources%27%20target%3D%27_blank%27%20rel%3D%27noopener%20noreferrer%27%3EMarkets%20data%3C%2Fa%3E%09f_autofe_mul_0cc09d2d%09f_events_date_year_cos1_9014a856%09f_financial_date_crude_oil_1f195998%09%2A%0A%3Ca%20href%3D%27https%3A%2F%2Fupgini.com%2F%23data_sources%27%20target%3D%27_blank%27%20rel%3D%27noopener%20noreferrer%27%3ECalendar%20data%3C%2Fa%3E,%3Ca%20href%3D%27https%3A%2F%2Fupgini.com%2F%23data_sources%27%20target%3D%27_blank%27%20rel%3D%27noopener%20noreferrer%27%3EMarkets%20data%3C%2Fa%3E%09f_autofe_div_fa0777db%09f_events_date_week_cos2_b0a07cfc%09f_financial_date_stoxx_043cbcd4%09%2F%0A%3Ca%20href%3D%27https%3A%2F%2Fupgini.com%2F%23data_sources%27%20target%3D%27_blank%27%20rel%3D%27noopener%20noreferrer%27%3ECalendar%20data%3C%2Fa%3E,%3Ca%20href%3D%27https%3A%2F%2Fupgini.com%2F%23data_sources%27%20target%3D%27_blank%27%20rel%3D%27noopener%20noreferrer%27%3EMarkets%20data%3C%2Fa%3E%09f_autofe_div_40bee497%09f_events_date_week_cos1_f6a8c1fc%09f_financial_date_stoxx_043cbcd4%09%2F%0A%3Ca%20href%3D%27https%3A%2F%2Fupgini.com%2F%23data_sources%27%20target%3D%27_blank%27%20rel%3D%27noopener%20noreferrer%27%3ECalendar%20data%3C%2Fa%3E,%3Ca%20href%3D%27https%3A%2F%2Fupgini.com%2F%23data_sources%27%20target%3D%27_blank%27%20rel%3D%27noopener%20noreferrer%27%3EMarkets%20data%3C%2Fa%3E%09f_autofe_div_270d64a2%09f_events_date_week_cos1_f6a8c1fc%09f_financial_date_crude_oil_7d_to_1y_c3e0ad17%09%2F%0A%3Ca%20href%3D%27https%3A%2F%2Fupgini.com%2F%23data_sources%27%20target%3D%27_blank%27%20rel%3D%27noopener%20noreferrer%27%3ECalendar%20data%3C%2Fa%3E,%3Ca%20href%3D%27https%3A%2F%2Fupgini.com%2F%23data_sources%27%20target%3D%27_blank%27%20rel%3D%27noopener%20noreferrer%27%3EMarkets%20data%3C%2Fa%3E%09f_autofe_mul_b49258bb%09f_events_date_week_sin1_847b5db1%09f_financial_date_stoxx_043cbcd4%09%2A%0A%3Ca%20href%3D%27https%3A%2F%2Fupgini.com%2F%23data_sources%27%20target%3D%27_blank%27%20rel%3D%27noopener%20noreferrer%27%3ECalendar%20data%3C%2Fa%3E,%3Ca%20href%3D%27https%3A%2F%2Fupgini.com%2F%23data_sources%27%20target%3D%27_blank%27%20rel%3D%27noopener%20noreferrer%27%3EMarkets%20data%3C%2Fa%3E%09f_autofe_div_c855cf40%09f_events_date_week_cos1_f6a8c1fc%09f_financial_date_usd_7419609a%09%2F%0A%3Ca%20href%3D%27https%3A%2F%2Fupgini.com%2F%23data_sources%27%20target%3D%27_blank%27%20rel%3D%27noopener%20noreferrer%27%3EMarkets%20data%3C%2Fa%3E%09f_autofe_mul_4c9c7d0a%09f_financial_date_natural_gas_7d_to_1y_7a6f300d%09f_financial_date_silver_7d_to_7d_1y_shift_55fa8001%09%2A%0A%3Ca%20href%3D%27https%3A%2F%2Fupgini.com%2F%23data_sources%27%20target%3D%27_blank%27%20rel%3D%27noopener%20noreferrer%27%3ECalendar%20data%3C%2Fa%3E,%3Ca%20href%3D%27https%3A%2F%2Fupgini.com%2F%23data_sources%27%20target%3D%27_blank%27%20rel%3D%27noopener%20noreferrer%27%3EMarkets%20data%3C%2Fa%3E%09f_autofe_div_e79e322c%09f_events_date_week_cos2_b0a07cfc%09f_financial_date_natural_gas_1d_to_7d_1fd6362a%09%2F%0A%3Ca%20href%3D%27https%3A%2F%2Fupgini.com%2F%23data_sources%27%20target%3D%27_blank%27%20rel%3D%27noopener%20noreferrer%27%3ECalendar%20data%3C%2Fa%3E%09f_autofe_mul_0afc7563%09f_events_date_week_sin1_847b5db1%09f_events_date_year_cos1_9014a856%09%2A%0A%3Ca%20href%3D%27https%3A%2F%2Fupgini.com%2F%23data_sources%27%20target%3D%27_blank%27%20rel%3D%27noopener%20noreferrer%27%3ECalendar%20data%3C%2Fa%3E,%3Ca%20href%3D%27https%3A%2F%2Fupgini.com%2F%23data_sources%27%20target%3D%27_blank%27%20rel%3D%27noopener%20noreferrer%27%3EMarkets%20data%3C%2Fa%3E%09f_autofe_mul_09cabb32%09f_events_date_week_cos2_b0a07cfc%09f_financial_date_silver_1d_to_7d_f35d6e93%09%2A%0A%3Ca%20href%3D%27https%3A%2F%2Fupgini.com%2F%23data_sources%27%20target%3D%27_blank%27%20rel%3D%27noopener%20noreferrer%27%3ECalendar%20data%3C%2Fa%3E,%3Ca%20href%3D%27https%3A%2F%2Fupgini.com%2F%23data_sources%27%20target%3D%27_blank%27%20rel%3D%27noopener%20noreferrer%27%3EMarkets%20data%3C%2Fa%3E%09f_autofe_mul_242bbe3e%09f_events_date_week_cos2_b0a07cfc%09f_financial_date_nasdaq_7d_to_7d_1y_shift_4a4dd6ce%09%2A%0A%3Ca%20href%3D%27https%3A%2F%2Fupgini.com%2F%23data_sources%27%20target%3D%27_blank%27%20rel%3D%27noopener%20noreferrer%27%3ECalendar%20data%3C%2Fa%3E,%3Ca%20href%3D%27https%3A%2F%2Fupgini.com%2F%23data_sources%27%20target%3D%27_blank%27%20rel%3D%27noopener%20noreferrer%27%3EMarkets%20data%3C%2Fa%3E%09f_autofe_mul_dda91e30%09f_events_date_week_sin2_e28440a5%09f_financial_date_usd_eur_7d_to_1y_200e4902%09%2A%0A%3Ca%20href%3D%27https%3A%2F%2Fupgini.com%2F%23data_sources%27%20target%3D%27_blank%27%20rel%3D%27noopener%20noreferrer%27%3ECalendar%20data%3C%2Fa%3E,%3Ca%20href%3D%27https%3A%2F%2Fupgini.com%2F%23data_sources%27%20target%3D%27_blank%27%20rel%3D%27noopener%20noreferrer%27%3EMarkets%20data%3C%2Fa%3E%09f_autofe_mul_5cf72e2c%09f_events_date_week_cos2_b0a07cfc%09f_financial_date_usd_7d_to_7d_1y_shift_35cb53e9%09%2A%0A%3Ca%20href%3D%27https%3A%2F%2Fupgini.com%2F%23data_sources%27%20target%3D%27_blank%27%20rel%3D%27noopener%20noreferrer%27%3ECalendar%20data%3C%2Fa%3E,%3Ca%20href%3D%27https%3A%2F%2Fupgini.com%2F%23data_sources%27%20target%3D%27_blank%27%20rel%3D%27noopener%20noreferrer%27%3EMarkets%20data%3C%2Fa%3E%09f_autofe_mul_b2bfad41%09f_events_date_week_cos2_b0a07cfc%09f_financial_date_vix_7d_to_1y_634c77eb%09%2A%0A%3Ca%20href%3D%27https%3A%2F%2Fupgini.com%2F%23data_sources%27%20target%3D%27_blank%27%20rel%3D%27noopener%20noreferrer%27%3EMarkets%20data%3C%2Fa%3E%09f_autofe_div_c4537a19%09f_financial_date_snp500_7d_to_1y_378b9f99%09f_financial_date_stoxx_043cbcd4%09%2F%0A%3Ca%20href%3D%27https%3A%2F%2Fupgini.com%2F%23data_sources%27%20target%3D%27_blank%27%20rel%3D%27noopener%20noreferrer%27%3ECalendar%20data%3C%2Fa%3E,%3Ca%20href%3D%27https%3A%2F%2Fupgini.com%2F%23data_sources%27%20target%3D%27_blank%27%20rel%3D%27noopener%20noreferrer%27%3EMarkets%20data%3C%2Fa%3E%09f_autofe_div_1197f7eb%09f_events_date_week_cos1_f6a8c1fc%09f_financial_date_stoxx_1d_to_7d_c615714e%09%2F%0A%3Ca%20href%3D%27https%3A%2F%2Fupgini.com%2F%23data_sources%27%20target%3D%27_blank%27%20rel%3D%27noopener%20noreferrer%27%3ECalendar%20data%3C%2Fa%3E,%3Ca%20href%3D%27https%3A%2F%2Fupgini.com%2F%23data_sources%27%20target%3D%27_blank%27%20rel%3D%27noopener%20noreferrer%27%3EMarkets%20data%3C%2Fa%3E%09f_autofe_mul_165c74ad%09f_events_date_week_sin1_847b5db1%09f_financial_date_stoxx_7d_to_7d_1y_shift_abef6e91%09%2A%0A%3Ca%20href%3D%27https%3A%2F%2Fupgini.com%2F%23data_sources%27%20target%3D%27_blank%27%20rel%3D%27noopener%20noreferrer%27%3ECalendar%20data%3C%2Fa%3E,%3Ca%20href%3D%27https%3A%2F%2Fupgini.com%2F%23data_sources%27%20target%3D%27_blank%27%20rel%3D%27noopener%20noreferrer%27%3EMarkets%20data%3C%2Fa%3E%09f_autofe_mul_402f5e6a%09f_events_date_year_cos1_9014a856%09f_financial_date_silver_7d_to_7d_1y_shift_55fa8001%09%2A%0A%3Ca%20href%3D%27https%3A%2F%2Fupgini.com%2F%23data_sources%27%20target%3D%27_blank%27%20rel%3D%27noopener%20noreferrer%27%3ECalendar%20data%3C%2Fa%3E,%3Ca%20href%3D%27https%3A%2F%2Fupgini.com%2F%23data_sources%27%20target%3D%27_blank%27%20rel%3D%27noopener%20noreferrer%27%3EMarkets%20data%3C%2Fa%3E%09f_autofe_mul_af2318dc%09f_events_date_week_cos1_f6a8c1fc%09f_financial_date_usd_eur_7d_to_1y_200e4902%09%2A%0A%3Ca%20href%3D%27https%3A%2F%2Fupgini.com%2F%23data_sources%27%20target%3D%27_blank%27%20rel%3D%27noopener%20noreferrer%27%3EMarkets%20data%3C%2Fa%3E%09f_autofe_div_d0993cdc%09f_financial_date_stoxx_043cbcd4%09f_financial_date_stoxx_7d_to_1y_2ea815f4%09%2F%0A%3Ca%20href%3D%27https%3A%2F%2Fupgini.com%2F%23data_sources%27%20target%3D%27_blank%27%20rel%3D%27noopener%20noreferrer%27%3EMarkets%20data%3C%2Fa%3E%09f_autofe_mul_eff3c92e%09f_financial_date_natural_gas_7d_to_7d_1y_shift_a5c3c07f%09f_financial_date_stoxx_7d_to_7d_1y_shift_abef6e91%09%2A%0A%3Ca%20href%3D%27https%3A%2F%2Fupgini.com%2F%23data_sources%27%20target%3D%27_blank%27%20rel%3D%27noopener%20noreferrer%27%3ECalendar%20data%3C%2Fa%3E,%3Ca%20href%3D%27https%3A%2F%2Fupgini.com%2F%23data_sources%27%20target%3D%27_blank%27%20rel%3D%27noopener%20noreferrer%27%3EMarkets%20data%3C%2Fa%3E%09f_autofe_div_0411c316%09f_events_date_week_sin2_e28440a5%09f_financial_date_usd_7d_to_7d_1y_shift_35cb53e9%09%2F%0A%3Ca%20href%3D%27https%3A%2F%2Fupgini.com%2F%23data_sources%27%20target%3D%27_blank%27%20rel%3D%27noopener%20noreferrer%27%3ECalendar%20data%3C%2Fa%3E,%3Ca%20href%3D%27https%3A%2F%2Fupgini.com%2F%23data_sources%27%20target%3D%27_blank%27%20rel%3D%27noopener%20noreferrer%27%3EMarkets%20data%3C%2Fa%3E%09f_autofe_mul_efa07492%09f_events_date_week_cos2_b0a07cfc%09f_financial_date_natural_gas_92dac942%09%2A%0A%3Ca%20href%3D%27https%3A%2F%2Fupgini.com%2F%23data_sources%27%20target%3D%27_blank%27%20rel%3D%27noopener%20noreferrer%27%3ECalendar%20data%3C%2Fa%3E%09f_autofe_mul_041b52f4%09f_events_date_week_sin1_847b5db1%09f_events_date_year_sin1_3c44bc64%09%2A%0A%3Ca%20href%3D%27https%3A%2F%2Fupgini.com%2F%23data_sources%27%20target%3D%27_blank%27%20rel%3D%27noopener%20noreferrer%27%3EMarkets%20data%3C%2Fa%3E%09f_autofe_mul_44503c6f%09f_financial_date_natural_gas_92dac942%09f_financial_date_natural_gas_7d_to_7d_1y_shift_a5c3c07f%09%2A%0A%3Ca%20href%3D%27https%3A%2F%2Fupgini.com%2F%23data_sources%27%20target%3D%27_blank%27%20rel%3D%27noopener%20noreferrer%27%3ECalendar%20data%3C%2Fa%3E%09f_autofe_mul_f018fe89%09f_events_date_week_cos2_b0a07cfc%09f_events_date_year_cos1_9014a856%09%2A%0A%3Ca%20href%3D%27https%3A%2F%2Fupgini.com%2F%23data_sources%27%20target%3D%27_blank%27%20rel%3D%27noopener%20noreferrer%27%3EMarkets%20data%3C%2Fa%3E%09f_autofe_mul_4ee11e5f%09f_financial_date_nasdaq_7d_to_7d_1y_shift_4a4dd6ce%09f_financial_date_usd_7419609a%09%2A%0A%3Ca%20href%3D%27https%3A%2F%2Fupgini.com%2F%23data_sources%27%20target%3D%27_blank%27%20rel%3D%27noopener%20noreferrer%27%3EMarkets%20data%3C%2Fa%3E%09f_autofe_mul_c883f8a6%09f_financial_date_nasdaq_7d_to_7d_1y_shift_4a4dd6ce%09f_financial_date_stoxx_043cbcd4%09%2A%0A%3Ca%20href%3D%27https%3A%2F%2Fupgini.com%2F%23data_sources%27%20target%3D%27_blank%27%20rel%3D%27noopener%20noreferrer%27%3EMarkets%20data%3C%2Fa%3E%09f_autofe_div_fb99ff57%09f_financial_date_stoxx_043cbcd4%09f_financial_date_usd_7d_to_7d_1y_shift_35cb53e9%09%2F%0A%3Ca%20href%3D%27https%3A%2F%2Fupgini.com%2F%23data_sources%27%20target%3D%27_blank%27%20rel%3D%27noopener%20noreferrer%27%3ECalendar%20data%3C%2Fa%3E%09f_autofe_mul_58cac651%09f_events_date_week_sin1_847b5db1%09f_events_date_year_cos2_7acbaf1b%09%2A%0A%3Ca%20href%3D%27https%3A%2F%2Fupgini.com%2F%23data_sources%27%20target%3D%27_blank%27%20rel%3D%27noopener%20noreferrer%27%3EMarkets%20data%3C%2Fa%3E%09f_autofe_div_ef42018c%09f_financial_date_usd_7d_to_7d_1y_shift_35cb53e9%09f_financial_date_usd_eur_7d_to_1y_200e4902%09%2F%0A%3Ca%20href%3D%27https%3A%2F%2Fupgini.com%2F%23data_sources%27%20target%3D%27_blank%27%20rel%3D%27noopener%20noreferrer%27%3ECalendar%20data%3C%2Fa%3E,%3Ca%20href%3D%27https%3A%2F%2Fupgini.com%2F%23data_sources%27%20target%3D%27_blank%27%20rel%3D%27noopener%20noreferrer%27%3EMarkets%20data%3C%2Fa%3E%09f_autofe_div_84649ac5%09f_events_date_week_cos2_b0a07cfc%09f_financial_date_stoxx_1d_to_7d_c615714e%09%2F%0A%3Ca%20href%3D%27https%3A%2F%2Fupgini.com%2F%23data_sources%27%20target%3D%27_blank%27%20rel%3D%27noopener%20noreferrer%27%3EMarkets%20data%3C%2Fa%3E%09f_autofe_mul_9091be3b%09f_financial_date_silver_e4e33014%09f_financial_date_usd_eur_7d_to_1y_200e4902%09%2A%0A%3Ca%20href%3D%27https%3A%2F%2Fupgini.com%2F%23data_sources%27%20target%3D%27_blank%27%20rel%3D%27noopener%20noreferrer%27%3ECalendar%20data%3C%2Fa%3E%09f_autofe_div_7cd7dbff%09f_events_date_week_cos1_f6a8c1fc%09f_events_date_year_cos1_9014a856%09%2F%0A%3Ca%20href%3D%27https%3A%2F%2Fupgini.com%2F%23data_sources%27%20target%3D%27_blank%27%20rel%3D%27noopener%20noreferrer%27%3ECalendar%20data%3C%2Fa%3E,%3Ca%20href%3D%27https%3A%2F%2Fupgini.com%2F%23data_sources%27%20target%3D%27_blank%27%20rel%3D%27noopener%20noreferrer%27%3EMarkets%20data%3C%2Fa%3E%09f_autofe_mul_6a97c336%09f_events_date_week_cos1_f6a8c1fc%09f_financial_date_vix_7d_to_1y_634c77eb%09%2A%0A%3Ca%20href%3D%27https%3A%2F%2Fupgini.com%2F%23data_sources%27%20target%3D%27_blank%27%20rel%3D%27noopener%20noreferrer%27%3ECalendar%20data%3C%2Fa%3E,%3Ca%20href%3D%27https%3A%2F%2Fupgini.com%2F%23data_sources%27%20target%3D%27_blank%27%20rel%3D%27noopener%20noreferrer%27%3EMarkets%20data%3C%2Fa%3E%09f_autofe_mul_8437d645%09f_events_date_week_cos1_f6a8c1fc%09f_financial_date_usd_7419609a%09%2A%0A%3Ca%20href%3D%27https%3A%2F%2Fupgini.com%2F%23data_sources%27%20target%3D%27_blank%27%20rel%3D%27noopener%20noreferrer%27%3ECalendar%20data%3C%2Fa%3E,%3Ca%20href%3D%27https%3A%2F%2Fupgini.com%2F%23data_sources%27%20target%3D%27_blank%27%20rel%3D%27noopener%20noreferrer%27%3EMarkets%20data%3C%2Fa%3E%09f_autofe_div_22b77c5b%09f_events_date_week_sin2_e28440a5%09f_financial_date_vix_7d_to_1y_634c77eb%09%2F%0A%3Ca%20href%3D%27https%3A%2F%2Fupgini.com%2F%23data_sources%27%20target%3D%27_blank%27%20rel%3D%27noopener%20noreferrer%27%3ECalendar%20data%3C%2Fa%3E,%3Ca%20href%3D%27https%3A%2F%2Fupgini.com%2F%23data_sources%27%20target%3D%27_blank%27%20rel%3D%27noopener%20noreferrer%27%3EMarkets%20data%3C%2Fa%3E%09f_autofe_mul_a36d46a7%09f_events_date_year_sin2_59955ffd%09f_financial_date_silver_7d_to_7d_1y_shift_55fa8001%09%2A%0A%3Ca%20href%3D%27https%3A%2F%2Fupgini.com%2F%23data_sources%27%20target%3D%27_blank%27%20rel%3D%27noopener%20noreferrer%27%3ECalendar%20data%3C%2Fa%3E%09f_autofe_div_17716d2e%09f_events_date_year_sin3_e4c1ec0e%09f_events_date_year_sin7_16d9d7c9%09%2F%0A%3Ca%20href%3D%27https%3A%2F%2Fupgini.com%2F%23data_sources%27%20target%3D%27_blank%27%20rel%3D%27noopener%20noreferrer%27%3EMarkets%20data%3C%2Fa%3E%09f_autofe_mul_5c76b026%09f_financial_date_natural_gas_7d_to_7d_1y_shift_a5c3c07f%09f_financial_date_silver_e4e33014%09%2A%0A'>\n",
              "                    <button>📨 Share</button>\n",
              "                </a>\n",
              "            </div>\n",
              "            <table class='upgini-df'><thead><th>Sources</th><th>Feature name</th><th>Feature 1</th><th>Feature 2</th><th>Function</th></thead><tbody><tr><td class='upgini-text'><a href='https://upgini.com/#data_sources' target='_blank' rel='noopener noreferrer'>Markets data</a></td><td class='upgini-text'>f_autofe_div_3295865b</td><td class='upgini-text'>f_financial_date_natural_gas_7d_to_1y_7a6f300d</td><td class='upgini-text'>f_financial_date_natural_gas_7d_to_7d_1y_shift_a5c3c07f</td><td class='upgini-text'>/</td></tr><tr><td class='upgini-text'><a href='https://upgini.com/#data_sources' target='_blank' rel='noopener noreferrer'>Calendar data</a>,<a href='https://upgini.com/#data_sources' target='_blank' rel='noopener noreferrer'>Markets data</a></td><td class='upgini-text'>f_autofe_div_50507976</td><td class='upgini-text'>f_events_date_year_cos1_9014a856</td><td class='upgini-text'>f_financial_date_silver_e4e33014</td><td class='upgini-text'>/</td></tr><tr><td class='upgini-text'><a href='https://upgini.com/#data_sources' target='_blank' rel='noopener noreferrer'>Calendar data</a>,<a href='https://upgini.com/#data_sources' target='_blank' rel='noopener noreferrer'>Markets data</a></td><td class='upgini-text'>f_autofe_mul_478be4f3</td><td class='upgini-text'>f_events_date_year_cos1_9014a856</td><td class='upgini-text'>f_financial_date_natural_gas_7d_to_7d_1y_shift_a5c3c07f</td><td class='upgini-text'>*</td></tr><tr><td class='upgini-text'><a href='https://upgini.com/#data_sources' target='_blank' rel='noopener noreferrer'>Calendar data</a>,<a href='https://upgini.com/#data_sources' target='_blank' rel='noopener noreferrer'>Markets data</a></td><td class='upgini-text'>f_autofe_mul_08e89348</td><td class='upgini-text'>f_events_date_week_sin1_847b5db1</td><td class='upgini-text'>f_financial_date_crude_oil_1f195998</td><td class='upgini-text'>*</td></tr><tr><td class='upgini-text'><a href='https://upgini.com/#data_sources' target='_blank' rel='noopener noreferrer'>Calendar data</a>,<a href='https://upgini.com/#data_sources' target='_blank' rel='noopener noreferrer'>Markets data</a></td><td class='upgini-text'>f_autofe_div_cf5dd7be</td><td class='upgini-text'>f_events_date_week_sin1_847b5db1</td><td class='upgini-text'>f_financial_date_vix_7d_to_1y_634c77eb</td><td class='upgini-text'>/</td></tr><tr><td class='upgini-text'><a href='https://upgini.com/#data_sources' target='_blank' rel='noopener noreferrer'>Calendar data</a>,<a href='https://upgini.com/#data_sources' target='_blank' rel='noopener noreferrer'>Markets data</a></td><td class='upgini-text'>f_autofe_mul_34d11bc4</td><td class='upgini-text'>f_events_date_year_cos1_9014a856</td><td class='upgini-text'>f_financial_date_silver_e4e33014</td><td class='upgini-text'>*</td></tr><tr><td class='upgini-text'><a href='https://upgini.com/#data_sources' target='_blank' rel='noopener noreferrer'>Calendar data</a>,<a href='https://upgini.com/#data_sources' target='_blank' rel='noopener noreferrer'>Markets data</a></td><td class='upgini-text'>f_autofe_div_3e22df83</td><td class='upgini-text'>f_events_date_week_sin1_847b5db1</td><td class='upgini-text'>f_financial_date_crude_oil_1f195998</td><td class='upgini-text'>/</td></tr><tr><td class='upgini-text'><a href='https://upgini.com/#data_sources' target='_blank' rel='noopener noreferrer'>Markets data</a></td><td class='upgini-text'>f_autofe_mul_6234ba3a</td><td class='upgini-text'>f_financial_date_crude_oil_7d_to_1y_c3e0ad17</td><td class='upgini-text'>f_financial_date_silver_7d_to_7d_1y_shift_55fa8001</td><td class='upgini-text'>*</td></tr><tr><td class='upgini-text'><a href='https://upgini.com/#data_sources' target='_blank' rel='noopener noreferrer'>Calendar data</a>,<a href='https://upgini.com/#data_sources' target='_blank' rel='noopener noreferrer'>Markets data</a></td><td class='upgini-text'>f_autofe_mul_5bd50798</td><td class='upgini-text'>f_events_date_week_cos1_f6a8c1fc</td><td class='upgini-text'>f_financial_date_nasdaq_7d_to_7d_1y_shift_4a4dd6ce</td><td class='upgini-text'>*</td></tr><tr><td class='upgini-text'><a href='https://upgini.com/#data_sources' target='_blank' rel='noopener noreferrer'>Calendar data</a>,<a href='https://upgini.com/#data_sources' target='_blank' rel='noopener noreferrer'>Markets data</a></td><td class='upgini-text'>f_autofe_div_1edd5009</td><td class='upgini-text'>f_events_date_year_cos1_9014a856</td><td class='upgini-text'>f_financial_date_vix_6c8e6194</td><td class='upgini-text'>/</td></tr><tr><td class='upgini-text'><a href='https://upgini.com/#data_sources' target='_blank' rel='noopener noreferrer'>Calendar data</a>,<a href='https://upgini.com/#data_sources' target='_blank' rel='noopener noreferrer'>Markets data</a></td><td class='upgini-text'>f_autofe_div_283a6178</td><td class='upgini-text'>f_events_date_week_cos2_b0a07cfc</td><td class='upgini-text'>f_financial_date_usd_7419609a</td><td class='upgini-text'>/</td></tr><tr><td class='upgini-text'><a href='https://upgini.com/#data_sources' target='_blank' rel='noopener noreferrer'>Calendar data</a>,<a href='https://upgini.com/#data_sources' target='_blank' rel='noopener noreferrer'>Markets data</a></td><td class='upgini-text'>f_autofe_div_89c56a5f</td><td class='upgini-text'>f_events_date_year_cos1_9014a856</td><td class='upgini-text'>f_financial_date_natural_gas_7d_to_7d_1y_shift_a5c3c07f</td><td class='upgini-text'>/</td></tr><tr><td class='upgini-text'><a href='https://upgini.com/#data_sources' target='_blank' rel='noopener noreferrer'>Calendar data</a>,<a href='https://upgini.com/#data_sources' target='_blank' rel='noopener noreferrer'>Markets data</a></td><td class='upgini-text'>f_autofe_mul_25296268</td><td class='upgini-text'>f_events_date_week_sin1_847b5db1</td><td class='upgini-text'>f_financial_date_vix_7d_to_1y_634c77eb</td><td class='upgini-text'>*</td></tr><tr><td class='upgini-text'><a href='https://upgini.com/#data_sources' target='_blank' rel='noopener noreferrer'>Calendar data</a>,<a href='https://upgini.com/#data_sources' target='_blank' rel='noopener noreferrer'>Markets data</a></td><td class='upgini-text'>f_autofe_div_abde95f5</td><td class='upgini-text'>f_events_date_week_cos2_b0a07cfc</td><td class='upgini-text'>f_financial_date_silver_7d_to_7d_1y_shift_55fa8001</td><td class='upgini-text'>/</td></tr><tr><td class='upgini-text'><a href='https://upgini.com/#data_sources' target='_blank' rel='noopener noreferrer'>Calendar data</a>,<a href='https://upgini.com/#data_sources' target='_blank' rel='noopener noreferrer'>Markets data</a></td><td class='upgini-text'>f_autofe_div_c9ddcb38</td><td class='upgini-text'>f_events_date_week_cos1_f6a8c1fc</td><td class='upgini-text'>f_financial_date_silver_7d_to_7d_1y_shift_55fa8001</td><td class='upgini-text'>/</td></tr><tr><td class='upgini-text'><a href='https://upgini.com/#data_sources' target='_blank' rel='noopener noreferrer'>Markets data</a></td><td class='upgini-text'>f_autofe_div_455a9ecb</td><td class='upgini-text'>f_financial_date_natural_gas_7d_to_7d_1y_shift_a5c3c07f</td><td class='upgini-text'>f_financial_date_silver_e4e33014</td><td class='upgini-text'>/</td></tr><tr><td class='upgini-text'><a href='https://upgini.com/#data_sources' target='_blank' rel='noopener noreferrer'>Calendar data</a>,<a href='https://upgini.com/#data_sources' target='_blank' rel='noopener noreferrer'>Markets data</a></td><td class='upgini-text'>f_autofe_mul_7b115967</td><td class='upgini-text'>f_events_date_week_cos1_f6a8c1fc</td><td class='upgini-text'>f_financial_date_gold_7d_to_1y_ae310379</td><td class='upgini-text'>*</td></tr><tr><td class='upgini-text'><a href='https://upgini.com/#data_sources' target='_blank' rel='noopener noreferrer'>Calendar data</a>,<a href='https://upgini.com/#data_sources' target='_blank' rel='noopener noreferrer'>Markets data</a></td><td class='upgini-text'>f_autofe_div_d57fd206</td><td class='upgini-text'>f_events_date_week_sin1_847b5db1</td><td class='upgini-text'>f_financial_date_usd_eur_7d_to_1y_200e4902</td><td class='upgini-text'>/</td></tr><tr><td class='upgini-text'><a href='https://upgini.com/#data_sources' target='_blank' rel='noopener noreferrer'>Calendar data</a></td><td class='upgini-text'>f_autofe_div_ba625fe9</td><td class='upgini-text'>f_events_date_week_sin1_847b5db1</td><td class='upgini-text'>f_events_date_year_cos1_9014a856</td><td class='upgini-text'>/</td></tr><tr><td class='upgini-text'><a href='https://upgini.com/#data_sources' target='_blank' rel='noopener noreferrer'>Calendar data</a>,<a href='https://upgini.com/#data_sources' target='_blank' rel='noopener noreferrer'>Markets data</a></td><td class='upgini-text'>f_autofe_mul_0cc09d2d</td><td class='upgini-text'>f_events_date_year_cos1_9014a856</td><td class='upgini-text'>f_financial_date_crude_oil_1f195998</td><td class='upgini-text'>*</td></tr><tr><td class='upgini-text'><a href='https://upgini.com/#data_sources' target='_blank' rel='noopener noreferrer'>Calendar data</a>,<a href='https://upgini.com/#data_sources' target='_blank' rel='noopener noreferrer'>Markets data</a></td><td class='upgini-text'>f_autofe_div_fa0777db</td><td class='upgini-text'>f_events_date_week_cos2_b0a07cfc</td><td class='upgini-text'>f_financial_date_stoxx_043cbcd4</td><td class='upgini-text'>/</td></tr><tr><td class='upgini-text'><a href='https://upgini.com/#data_sources' target='_blank' rel='noopener noreferrer'>Calendar data</a>,<a href='https://upgini.com/#data_sources' target='_blank' rel='noopener noreferrer'>Markets data</a></td><td class='upgini-text'>f_autofe_div_40bee497</td><td class='upgini-text'>f_events_date_week_cos1_f6a8c1fc</td><td class='upgini-text'>f_financial_date_stoxx_043cbcd4</td><td class='upgini-text'>/</td></tr><tr><td class='upgini-text'><a href='https://upgini.com/#data_sources' target='_blank' rel='noopener noreferrer'>Calendar data</a>,<a href='https://upgini.com/#data_sources' target='_blank' rel='noopener noreferrer'>Markets data</a></td><td class='upgini-text'>f_autofe_div_270d64a2</td><td class='upgini-text'>f_events_date_week_cos1_f6a8c1fc</td><td class='upgini-text'>f_financial_date_crude_oil_7d_to_1y_c3e0ad17</td><td class='upgini-text'>/</td></tr><tr><td class='upgini-text'><a href='https://upgini.com/#data_sources' target='_blank' rel='noopener noreferrer'>Calendar data</a>,<a href='https://upgini.com/#data_sources' target='_blank' rel='noopener noreferrer'>Markets data</a></td><td class='upgini-text'>f_autofe_mul_b49258bb</td><td class='upgini-text'>f_events_date_week_sin1_847b5db1</td><td class='upgini-text'>f_financial_date_stoxx_043cbcd4</td><td class='upgini-text'>*</td></tr><tr><td class='upgini-text'><a href='https://upgini.com/#data_sources' target='_blank' rel='noopener noreferrer'>Calendar data</a>,<a href='https://upgini.com/#data_sources' target='_blank' rel='noopener noreferrer'>Markets data</a></td><td class='upgini-text'>f_autofe_div_c855cf40</td><td class='upgini-text'>f_events_date_week_cos1_f6a8c1fc</td><td class='upgini-text'>f_financial_date_usd_7419609a</td><td class='upgini-text'>/</td></tr><tr><td class='upgini-text'><a href='https://upgini.com/#data_sources' target='_blank' rel='noopener noreferrer'>Markets data</a></td><td class='upgini-text'>f_autofe_mul_4c9c7d0a</td><td class='upgini-text'>f_financial_date_natural_gas_7d_to_1y_7a6f300d</td><td class='upgini-text'>f_financial_date_silver_7d_to_7d_1y_shift_55fa8001</td><td class='upgini-text'>*</td></tr><tr><td class='upgini-text'><a href='https://upgini.com/#data_sources' target='_blank' rel='noopener noreferrer'>Calendar data</a>,<a href='https://upgini.com/#data_sources' target='_blank' rel='noopener noreferrer'>Markets data</a></td><td class='upgini-text'>f_autofe_div_e79e322c</td><td class='upgini-text'>f_events_date_week_cos2_b0a07cfc</td><td class='upgini-text'>f_financial_date_natural_gas_1d_to_7d_1fd6362a</td><td class='upgini-text'>/</td></tr><tr><td class='upgini-text'><a href='https://upgini.com/#data_sources' target='_blank' rel='noopener noreferrer'>Calendar data</a></td><td class='upgini-text'>f_autofe_mul_0afc7563</td><td class='upgini-text'>f_events_date_week_sin1_847b5db1</td><td class='upgini-text'>f_events_date_year_cos1_9014a856</td><td class='upgini-text'>*</td></tr><tr><td class='upgini-text'><a href='https://upgini.com/#data_sources' target='_blank' rel='noopener noreferrer'>Calendar data</a>,<a href='https://upgini.com/#data_sources' target='_blank' rel='noopener noreferrer'>Markets data</a></td><td class='upgini-text'>f_autofe_mul_09cabb32</td><td class='upgini-text'>f_events_date_week_cos2_b0a07cfc</td><td class='upgini-text'>f_financial_date_silver_1d_to_7d_f35d6e93</td><td class='upgini-text'>*</td></tr><tr><td class='upgini-text'><a href='https://upgini.com/#data_sources' target='_blank' rel='noopener noreferrer'>Calendar data</a>,<a href='https://upgini.com/#data_sources' target='_blank' rel='noopener noreferrer'>Markets data</a></td><td class='upgini-text'>f_autofe_mul_242bbe3e</td><td class='upgini-text'>f_events_date_week_cos2_b0a07cfc</td><td class='upgini-text'>f_financial_date_nasdaq_7d_to_7d_1y_shift_4a4dd6ce</td><td class='upgini-text'>*</td></tr><tr><td class='upgini-text'><a href='https://upgini.com/#data_sources' target='_blank' rel='noopener noreferrer'>Calendar data</a>,<a href='https://upgini.com/#data_sources' target='_blank' rel='noopener noreferrer'>Markets data</a></td><td class='upgini-text'>f_autofe_mul_dda91e30</td><td class='upgini-text'>f_events_date_week_sin2_e28440a5</td><td class='upgini-text'>f_financial_date_usd_eur_7d_to_1y_200e4902</td><td class='upgini-text'>*</td></tr><tr><td class='upgini-text'><a href='https://upgini.com/#data_sources' target='_blank' rel='noopener noreferrer'>Calendar data</a>,<a href='https://upgini.com/#data_sources' target='_blank' rel='noopener noreferrer'>Markets data</a></td><td class='upgini-text'>f_autofe_mul_5cf72e2c</td><td class='upgini-text'>f_events_date_week_cos2_b0a07cfc</td><td class='upgini-text'>f_financial_date_usd_7d_to_7d_1y_shift_35cb53e9</td><td class='upgini-text'>*</td></tr><tr><td class='upgini-text'><a href='https://upgini.com/#data_sources' target='_blank' rel='noopener noreferrer'>Calendar data</a>,<a href='https://upgini.com/#data_sources' target='_blank' rel='noopener noreferrer'>Markets data</a></td><td class='upgini-text'>f_autofe_mul_b2bfad41</td><td class='upgini-text'>f_events_date_week_cos2_b0a07cfc</td><td class='upgini-text'>f_financial_date_vix_7d_to_1y_634c77eb</td><td class='upgini-text'>*</td></tr><tr><td class='upgini-text'><a href='https://upgini.com/#data_sources' target='_blank' rel='noopener noreferrer'>Markets data</a></td><td class='upgini-text'>f_autofe_div_c4537a19</td><td class='upgini-text'>f_financial_date_snp500_7d_to_1y_378b9f99</td><td class='upgini-text'>f_financial_date_stoxx_043cbcd4</td><td class='upgini-text'>/</td></tr><tr><td class='upgini-text'><a href='https://upgini.com/#data_sources' target='_blank' rel='noopener noreferrer'>Calendar data</a>,<a href='https://upgini.com/#data_sources' target='_blank' rel='noopener noreferrer'>Markets data</a></td><td class='upgini-text'>f_autofe_div_1197f7eb</td><td class='upgini-text'>f_events_date_week_cos1_f6a8c1fc</td><td class='upgini-text'>f_financial_date_stoxx_1d_to_7d_c615714e</td><td class='upgini-text'>/</td></tr><tr><td class='upgini-text'><a href='https://upgini.com/#data_sources' target='_blank' rel='noopener noreferrer'>Calendar data</a>,<a href='https://upgini.com/#data_sources' target='_blank' rel='noopener noreferrer'>Markets data</a></td><td class='upgini-text'>f_autofe_mul_165c74ad</td><td class='upgini-text'>f_events_date_week_sin1_847b5db1</td><td class='upgini-text'>f_financial_date_stoxx_7d_to_7d_1y_shift_abef6e91</td><td class='upgini-text'>*</td></tr><tr><td class='upgini-text'><a href='https://upgini.com/#data_sources' target='_blank' rel='noopener noreferrer'>Calendar data</a>,<a href='https://upgini.com/#data_sources' target='_blank' rel='noopener noreferrer'>Markets data</a></td><td class='upgini-text'>f_autofe_mul_402f5e6a</td><td class='upgini-text'>f_events_date_year_cos1_9014a856</td><td class='upgini-text'>f_financial_date_silver_7d_to_7d_1y_shift_55fa8001</td><td class='upgini-text'>*</td></tr><tr><td class='upgini-text'><a href='https://upgini.com/#data_sources' target='_blank' rel='noopener noreferrer'>Calendar data</a>,<a href='https://upgini.com/#data_sources' target='_blank' rel='noopener noreferrer'>Markets data</a></td><td class='upgini-text'>f_autofe_mul_af2318dc</td><td class='upgini-text'>f_events_date_week_cos1_f6a8c1fc</td><td class='upgini-text'>f_financial_date_usd_eur_7d_to_1y_200e4902</td><td class='upgini-text'>*</td></tr><tr><td class='upgini-text'><a href='https://upgini.com/#data_sources' target='_blank' rel='noopener noreferrer'>Markets data</a></td><td class='upgini-text'>f_autofe_div_d0993cdc</td><td class='upgini-text'>f_financial_date_stoxx_043cbcd4</td><td class='upgini-text'>f_financial_date_stoxx_7d_to_1y_2ea815f4</td><td class='upgini-text'>/</td></tr><tr><td class='upgini-text'><a href='https://upgini.com/#data_sources' target='_blank' rel='noopener noreferrer'>Markets data</a></td><td class='upgini-text'>f_autofe_mul_eff3c92e</td><td class='upgini-text'>f_financial_date_natural_gas_7d_to_7d_1y_shift_a5c3c07f</td><td class='upgini-text'>f_financial_date_stoxx_7d_to_7d_1y_shift_abef6e91</td><td class='upgini-text'>*</td></tr><tr><td class='upgini-text'><a href='https://upgini.com/#data_sources' target='_blank' rel='noopener noreferrer'>Calendar data</a>,<a href='https://upgini.com/#data_sources' target='_blank' rel='noopener noreferrer'>Markets data</a></td><td class='upgini-text'>f_autofe_div_0411c316</td><td class='upgini-text'>f_events_date_week_sin2_e28440a5</td><td class='upgini-text'>f_financial_date_usd_7d_to_7d_1y_shift_35cb53e9</td><td class='upgini-text'>/</td></tr><tr><td class='upgini-text'><a href='https://upgini.com/#data_sources' target='_blank' rel='noopener noreferrer'>Calendar data</a>,<a href='https://upgini.com/#data_sources' target='_blank' rel='noopener noreferrer'>Markets data</a></td><td class='upgini-text'>f_autofe_mul_efa07492</td><td class='upgini-text'>f_events_date_week_cos2_b0a07cfc</td><td class='upgini-text'>f_financial_date_natural_gas_92dac942</td><td class='upgini-text'>*</td></tr><tr><td class='upgini-text'><a href='https://upgini.com/#data_sources' target='_blank' rel='noopener noreferrer'>Calendar data</a></td><td class='upgini-text'>f_autofe_mul_041b52f4</td><td class='upgini-text'>f_events_date_week_sin1_847b5db1</td><td class='upgini-text'>f_events_date_year_sin1_3c44bc64</td><td class='upgini-text'>*</td></tr><tr><td class='upgini-text'><a href='https://upgini.com/#data_sources' target='_blank' rel='noopener noreferrer'>Markets data</a></td><td class='upgini-text'>f_autofe_mul_44503c6f</td><td class='upgini-text'>f_financial_date_natural_gas_92dac942</td><td class='upgini-text'>f_financial_date_natural_gas_7d_to_7d_1y_shift_a5c3c07f</td><td class='upgini-text'>*</td></tr><tr><td class='upgini-text'><a href='https://upgini.com/#data_sources' target='_blank' rel='noopener noreferrer'>Calendar data</a></td><td class='upgini-text'>f_autofe_mul_f018fe89</td><td class='upgini-text'>f_events_date_week_cos2_b0a07cfc</td><td class='upgini-text'>f_events_date_year_cos1_9014a856</td><td class='upgini-text'>*</td></tr><tr><td class='upgini-text'><a href='https://upgini.com/#data_sources' target='_blank' rel='noopener noreferrer'>Markets data</a></td><td class='upgini-text'>f_autofe_mul_4ee11e5f</td><td class='upgini-text'>f_financial_date_nasdaq_7d_to_7d_1y_shift_4a4dd6ce</td><td class='upgini-text'>f_financial_date_usd_7419609a</td><td class='upgini-text'>*</td></tr><tr><td class='upgini-text'><a href='https://upgini.com/#data_sources' target='_blank' rel='noopener noreferrer'>Markets data</a></td><td class='upgini-text'>f_autofe_mul_c883f8a6</td><td class='upgini-text'>f_financial_date_nasdaq_7d_to_7d_1y_shift_4a4dd6ce</td><td class='upgini-text'>f_financial_date_stoxx_043cbcd4</td><td class='upgini-text'>*</td></tr><tr><td class='upgini-text'><a href='https://upgini.com/#data_sources' target='_blank' rel='noopener noreferrer'>Markets data</a></td><td class='upgini-text'>f_autofe_div_fb99ff57</td><td class='upgini-text'>f_financial_date_stoxx_043cbcd4</td><td class='upgini-text'>f_financial_date_usd_7d_to_7d_1y_shift_35cb53e9</td><td class='upgini-text'>/</td></tr><tr><td class='upgini-text'><a href='https://upgini.com/#data_sources' target='_blank' rel='noopener noreferrer'>Calendar data</a></td><td class='upgini-text'>f_autofe_mul_58cac651</td><td class='upgini-text'>f_events_date_week_sin1_847b5db1</td><td class='upgini-text'>f_events_date_year_cos2_7acbaf1b</td><td class='upgini-text'>*</td></tr><tr><td class='upgini-text'><a href='https://upgini.com/#data_sources' target='_blank' rel='noopener noreferrer'>Markets data</a></td><td class='upgini-text'>f_autofe_div_ef42018c</td><td class='upgini-text'>f_financial_date_usd_7d_to_7d_1y_shift_35cb53e9</td><td class='upgini-text'>f_financial_date_usd_eur_7d_to_1y_200e4902</td><td class='upgini-text'>/</td></tr><tr><td class='upgini-text'><a href='https://upgini.com/#data_sources' target='_blank' rel='noopener noreferrer'>Calendar data</a>,<a href='https://upgini.com/#data_sources' target='_blank' rel='noopener noreferrer'>Markets data</a></td><td class='upgini-text'>f_autofe_div_84649ac5</td><td class='upgini-text'>f_events_date_week_cos2_b0a07cfc</td><td class='upgini-text'>f_financial_date_stoxx_1d_to_7d_c615714e</td><td class='upgini-text'>/</td></tr><tr><td class='upgini-text'><a href='https://upgini.com/#data_sources' target='_blank' rel='noopener noreferrer'>Markets data</a></td><td class='upgini-text'>f_autofe_mul_9091be3b</td><td class='upgini-text'>f_financial_date_silver_e4e33014</td><td class='upgini-text'>f_financial_date_usd_eur_7d_to_1y_200e4902</td><td class='upgini-text'>*</td></tr><tr><td class='upgini-text'><a href='https://upgini.com/#data_sources' target='_blank' rel='noopener noreferrer'>Calendar data</a></td><td class='upgini-text'>f_autofe_div_7cd7dbff</td><td class='upgini-text'>f_events_date_week_cos1_f6a8c1fc</td><td class='upgini-text'>f_events_date_year_cos1_9014a856</td><td class='upgini-text'>/</td></tr><tr><td class='upgini-text'><a href='https://upgini.com/#data_sources' target='_blank' rel='noopener noreferrer'>Calendar data</a>,<a href='https://upgini.com/#data_sources' target='_blank' rel='noopener noreferrer'>Markets data</a></td><td class='upgini-text'>f_autofe_mul_6a97c336</td><td class='upgini-text'>f_events_date_week_cos1_f6a8c1fc</td><td class='upgini-text'>f_financial_date_vix_7d_to_1y_634c77eb</td><td class='upgini-text'>*</td></tr><tr><td class='upgini-text'><a href='https://upgini.com/#data_sources' target='_blank' rel='noopener noreferrer'>Calendar data</a>,<a href='https://upgini.com/#data_sources' target='_blank' rel='noopener noreferrer'>Markets data</a></td><td class='upgini-text'>f_autofe_mul_8437d645</td><td class='upgini-text'>f_events_date_week_cos1_f6a8c1fc</td><td class='upgini-text'>f_financial_date_usd_7419609a</td><td class='upgini-text'>*</td></tr><tr><td class='upgini-text'><a href='https://upgini.com/#data_sources' target='_blank' rel='noopener noreferrer'>Calendar data</a>,<a href='https://upgini.com/#data_sources' target='_blank' rel='noopener noreferrer'>Markets data</a></td><td class='upgini-text'>f_autofe_div_22b77c5b</td><td class='upgini-text'>f_events_date_week_sin2_e28440a5</td><td class='upgini-text'>f_financial_date_vix_7d_to_1y_634c77eb</td><td class='upgini-text'>/</td></tr><tr><td class='upgini-text'><a href='https://upgini.com/#data_sources' target='_blank' rel='noopener noreferrer'>Calendar data</a>,<a href='https://upgini.com/#data_sources' target='_blank' rel='noopener noreferrer'>Markets data</a></td><td class='upgini-text'>f_autofe_mul_a36d46a7</td><td class='upgini-text'>f_events_date_year_sin2_59955ffd</td><td class='upgini-text'>f_financial_date_silver_7d_to_7d_1y_shift_55fa8001</td><td class='upgini-text'>*</td></tr><tr><td class='upgini-text'><a href='https://upgini.com/#data_sources' target='_blank' rel='noopener noreferrer'>Calendar data</a></td><td class='upgini-text'>f_autofe_div_17716d2e</td><td class='upgini-text'>f_events_date_year_sin3_e4c1ec0e</td><td class='upgini-text'>f_events_date_year_sin7_16d9d7c9</td><td class='upgini-text'>/</td></tr><tr><td class='upgini-text'><a href='https://upgini.com/#data_sources' target='_blank' rel='noopener noreferrer'>Markets data</a></td><td class='upgini-text'>f_autofe_mul_5c76b026</td><td class='upgini-text'>f_financial_date_natural_gas_7d_to_7d_1y_shift_a5c3c07f</td><td class='upgini-text'>f_financial_date_silver_e4e33014</td><td class='upgini-text'>*</td></tr></tbody></table>\n",
              "        </div>\n",
              "        "
            ]
          },
          "metadata": {}
        },
        {
          "output_type": "stream",
          "name": "stdout",
          "text": [
            "\n",
            "WARNING: We detected 113 outliers in your sample.\n",
            "Examples of outliers with maximum value of target:\n",
            "84    205\n",
            "47    196\n",
            "38    187\n",
            "Name: target, dtype: int64\n",
            "Outliers will be excluded during the metrics calculation.\n",
            "Calculating accuracy uplift after enrichment...\n",
            "\n",
            "WARNING: y distributions from the training sample and eval_set differ according to the Kolmogorov-Smirnov test,\n",
            "which makes metrics between the train and eval_set incomparable.\n"
          ]
        },
        {
          "output_type": "display_data",
          "data": {
            "text/plain": [
              "<IPython.core.display.HTML object>"
            ],
            "text/html": [
              "<style>\n",
              "            .upgini-df thead th {\n",
              "                font-weight:bold;\n",
              "                text-align: center;\n",
              "                padding: 0.5em;\n",
              "                border-bottom: 2px solid black;\n",
              "            }\n",
              "\n",
              "            .upgini-df tbody td {\n",
              "                padding: 0.5em;\n",
              "            }\n",
              "\n",
              "            .upgini-df tbody tr:nth-child(odd) {\n",
              "                background-color: #ffffff;\n",
              "            }\n",
              "\n",
              "            .upgini-df tbody tr:nth-child(even) {\n",
              "                background-color: #f2f2f2;\n",
              "            }\n",
              "\n",
              "            .upgini-text {\n",
              "                text-align: left;\n",
              "            }\n",
              "\n",
              "            .upgini-number {\n",
              "                text-align: center;\n",
              "            }\n",
              "        </style>\n",
              "        <h2>Accuracy after enrichment</h2>\n",
              "        <div style=\"display:flex; flex-direction:column; align-items:flex-end; width: fit-content;\">\n",
              "            \n",
              "            <div style=\"text-align: right\">\n",
              "                <button onclick=navigator.clipboard.writeText(decodeURI('Dataset%20type%09Rows%09Mean%20target%09Baseline%20mean_squared_error%09Enriched%20mean_squared_error%09Uplift%0ATrain%0915213%0950.3977%09301.4671974484722%09192.1954154712319%09109.27178197724027%0AEval%201%093787%0959.2424%09486.03926062303583%09350.0674454503305%09135.9718151727053%0A'))>📂 Copy</button>\n",
              "                <a href='mailto:<Share with...>?subject=Relevant external data sources from Upgini.com&body=Dataset%20type%09Rows%09Mean%20target%09Baseline%20mean_squared_error%09Enriched%20mean_squared_error%09Uplift%0ATrain%0915213%0950.3977%09301.4671974484722%09192.1954154712319%09109.27178197724027%0AEval%201%093787%0959.2424%09486.03926062303583%09350.0674454503305%09135.9718151727053%0A'>\n",
              "                    <button>📨 Share</button>\n",
              "                </a>\n",
              "            </div>\n",
              "            <table class='upgini-df'><thead><th>Dataset type</th><th>Rows</th><th>Mean target</th><th>Baseline mean_squared_error</th><th>Enriched mean_squared_error</th><th>Uplift</th></thead><tbody><tr><td class='upgini-text'>Train</td><td class='upgini-number'>15213</td><td class='upgini-number'>50.3977</td><td class='upgini-number'>301.4672</td><td class='upgini-number'>192.1954</td><td class='upgini-number'>109.2718</td></tr><tr><td class='upgini-text'>Eval 1</td><td class='upgini-number'>3787</td><td class='upgini-number'>59.2424</td><td class='upgini-number'>486.0393</td><td class='upgini-number'>350.0674</td><td class='upgini-number'>135.9718</td></tr></tbody></table>\n",
              "        </div>\n",
              "        "
            ]
          },
          "metadata": {}
        },
        {
          "output_type": "display_data",
          "data": {
            "text/plain": [
              "<IPython.core.display.HTML object>"
            ],
            "text/html": [
              "<a download=\"upgini-report-46e47929-8b94-47aa-9450-b10dca9f6bc8.pdf\" href=\"data:application/pdf;base64,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\" target=\"_blank\">\n",
              "        <button>📊 Download PDF report</button></a>"
            ]
          },
          "metadata": {}
        }
      ]
    },
    {
      "cell_type": "code",
      "source": [
        "from catboost import CatBoostRegressor\n",
        "from catboost.utils import eval_metric\n",
        "\n",
        "model = CatBoostRegressor(verbose=False, allow_writing_files=False, random_state=0)\n",
        "\n",
        "enricher.calculate_metrics(\n",
        "    train_features, train_target,\n",
        "    eval_set=[(test_features, test_target)],\n",
        "    estimator = model,\n",
        "    scoring = \"mean_absolute_percentage_error\"\n",
        ")"
      ],
      "metadata": {
        "colab": {
          "base_uri": "https://localhost:8080/",
          "height": 219
        },
        "id": "eOf73gsvJvYo",
        "outputId": "9cdd3845-f5aa-4f81-c498-08b00bb7b62c"
      },
      "execution_count": 9,
      "outputs": [
        {
          "output_type": "stream",
          "name": "stdout",
          "text": [
            "Calculating accuracy uplift after enrichment...\n",
            "-\n",
            "WARNING: y distributions from the training sample and eval_set differ according to the Kolmogorov-Smirnov test,\n",
            "which makes metrics between the train and eval_set incomparable.\n"
          ]
        },
        {
          "output_type": "execute_result",
          "data": {
            "text/plain": [
              "  Dataset type   Rows  Mean target  Baseline mean_absolute_percentage_error  \\\n",
              "0        Train  15213      50.3977                                 0.252850   \n",
              "1       Eval 1   3787      59.2424                                 0.264187   \n",
              "\n",
              "   Enriched mean_absolute_percentage_error    Uplift  \n",
              "0                                 0.159341  0.093509  \n",
              "1                                 0.187538  0.076649  "
            ],
            "text/html": [
              "\n",
              "  <div id=\"df-54dcf2f3-d1fb-4ecf-817f-9e562b0e4356\" class=\"colab-df-container\">\n",
              "    <div>\n",
              "<style scoped>\n",
              "    .dataframe tbody tr th:only-of-type {\n",
              "        vertical-align: middle;\n",
              "    }\n",
              "\n",
              "    .dataframe tbody tr th {\n",
              "        vertical-align: top;\n",
              "    }\n",
              "\n",
              "    .dataframe thead th {\n",
              "        text-align: right;\n",
              "    }\n",
              "</style>\n",
              "<table border=\"1\" class=\"dataframe\">\n",
              "  <thead>\n",
              "    <tr style=\"text-align: right;\">\n",
              "      <th></th>\n",
              "      <th>Dataset type</th>\n",
              "      <th>Rows</th>\n",
              "      <th>Mean target</th>\n",
              "      <th>Baseline mean_absolute_percentage_error</th>\n",
              "      <th>Enriched mean_absolute_percentage_error</th>\n",
              "      <th>Uplift</th>\n",
              "    </tr>\n",
              "  </thead>\n",
              "  <tbody>\n",
              "    <tr>\n",
              "      <th>0</th>\n",
              "      <td>Train</td>\n",
              "      <td>15213</td>\n",
              "      <td>50.3977</td>\n",
              "      <td>0.252850</td>\n",
              "      <td>0.159341</td>\n",
              "      <td>0.093509</td>\n",
              "    </tr>\n",
              "    <tr>\n",
              "      <th>1</th>\n",
              "      <td>Eval 1</td>\n",
              "      <td>3787</td>\n",
              "      <td>59.2424</td>\n",
              "      <td>0.264187</td>\n",
              "      <td>0.187538</td>\n",
              "      <td>0.076649</td>\n",
              "    </tr>\n",
              "  </tbody>\n",
              "</table>\n",
              "</div>\n",
              "    <div class=\"colab-df-buttons\">\n",
              "\n",
              "  <div class=\"colab-df-container\">\n",
              "    <button class=\"colab-df-convert\" onclick=\"convertToInteractive('df-54dcf2f3-d1fb-4ecf-817f-9e562b0e4356')\"\n",
              "            title=\"Convert this dataframe to an interactive table.\"\n",
              "            style=\"display:none;\">\n",
              "\n",
              "  <svg xmlns=\"http://www.w3.org/2000/svg\" height=\"24px\" viewBox=\"0 -960 960 960\">\n",
              "    <path d=\"M120-120v-720h720v720H120Zm60-500h600v-160H180v160Zm220 220h160v-160H400v160Zm0 220h160v-160H400v160ZM180-400h160v-160H180v160Zm440 0h160v-160H620v160ZM180-180h160v-160H180v160Zm440 0h160v-160H620v160Z\"/>\n",
              "  </svg>\n",
              "    </button>\n",
              "\n",
              "  <style>\n",
              "    .colab-df-container {\n",
              "      display:flex;\n",
              "      gap: 12px;\n",
              "    }\n",
              "\n",
              "    .colab-df-convert {\n",
              "      background-color: #E8F0FE;\n",
              "      border: none;\n",
              "      border-radius: 50%;\n",
              "      cursor: pointer;\n",
              "      display: none;\n",
              "      fill: #1967D2;\n",
              "      height: 32px;\n",
              "      padding: 0 0 0 0;\n",
              "      width: 32px;\n",
              "    }\n",
              "\n",
              "    .colab-df-convert:hover {\n",
              "      background-color: #E2EBFA;\n",
              "      box-shadow: 0px 1px 2px rgba(60, 64, 67, 0.3), 0px 1px 3px 1px rgba(60, 64, 67, 0.15);\n",
              "      fill: #174EA6;\n",
              "    }\n",
              "\n",
              "    .colab-df-buttons div {\n",
              "      margin-bottom: 4px;\n",
              "    }\n",
              "\n",
              "    [theme=dark] .colab-df-convert {\n",
              "      background-color: #3B4455;\n",
              "      fill: #D2E3FC;\n",
              "    }\n",
              "\n",
              "    [theme=dark] .colab-df-convert:hover {\n",
              "      background-color: #434B5C;\n",
              "      box-shadow: 0px 1px 3px 1px rgba(0, 0, 0, 0.15);\n",
              "      filter: drop-shadow(0px 1px 2px rgba(0, 0, 0, 0.3));\n",
              "      fill: #FFFFFF;\n",
              "    }\n",
              "  </style>\n",
              "\n",
              "    <script>\n",
              "      const buttonEl =\n",
              "        document.querySelector('#df-54dcf2f3-d1fb-4ecf-817f-9e562b0e4356 button.colab-df-convert');\n",
              "      buttonEl.style.display =\n",
              "        google.colab.kernel.accessAllowed ? 'block' : 'none';\n",
              "\n",
              "      async function convertToInteractive(key) {\n",
              "        const element = document.querySelector('#df-54dcf2f3-d1fb-4ecf-817f-9e562b0e4356');\n",
              "        const dataTable =\n",
              "          await google.colab.kernel.invokeFunction('convertToInteractive',\n",
              "                                                    [key], {});\n",
              "        if (!dataTable) return;\n",
              "\n",
              "        const docLinkHtml = 'Like what you see? Visit the ' +\n",
              "          '<a target=\"_blank\" href=https://colab.research.google.com/notebooks/data_table.ipynb>data table notebook</a>'\n",
              "          + ' to learn more about interactive tables.';\n",
              "        element.innerHTML = '';\n",
              "        dataTable['output_type'] = 'display_data';\n",
              "        await google.colab.output.renderOutput(dataTable, element);\n",
              "        const docLink = document.createElement('div');\n",
              "        docLink.innerHTML = docLinkHtml;\n",
              "        element.appendChild(docLink);\n",
              "      }\n",
              "    </script>\n",
              "  </div>\n",
              "\n",
              "\n",
              "<div id=\"df-86912780-59aa-4236-bf32-d865abeb4403\">\n",
              "  <button class=\"colab-df-quickchart\" onclick=\"quickchart('df-86912780-59aa-4236-bf32-d865abeb4403')\"\n",
              "            title=\"Suggest charts\"\n",
              "            style=\"display:none;\">\n",
              "\n",
              "<svg xmlns=\"http://www.w3.org/2000/svg\" height=\"24px\"viewBox=\"0 0 24 24\"\n",
              "     width=\"24px\">\n",
              "    <g>\n",
              "        <path d=\"M19 3H5c-1.1 0-2 .9-2 2v14c0 1.1.9 2 2 2h14c1.1 0 2-.9 2-2V5c0-1.1-.9-2-2-2zM9 17H7v-7h2v7zm4 0h-2V7h2v10zm4 0h-2v-4h2v4z\"/>\n",
              "    </g>\n",
              "</svg>\n",
              "  </button>\n",
              "\n",
              "<style>\n",
              "  .colab-df-quickchart {\n",
              "      --bg-color: #E8F0FE;\n",
              "      --fill-color: #1967D2;\n",
              "      --hover-bg-color: #E2EBFA;\n",
              "      --hover-fill-color: #174EA6;\n",
              "      --disabled-fill-color: #AAA;\n",
              "      --disabled-bg-color: #DDD;\n",
              "  }\n",
              "\n",
              "  [theme=dark] .colab-df-quickchart {\n",
              "      --bg-color: #3B4455;\n",
              "      --fill-color: #D2E3FC;\n",
              "      --hover-bg-color: #434B5C;\n",
              "      --hover-fill-color: #FFFFFF;\n",
              "      --disabled-bg-color: #3B4455;\n",
              "      --disabled-fill-color: #666;\n",
              "  }\n",
              "\n",
              "  .colab-df-quickchart {\n",
              "    background-color: var(--bg-color);\n",
              "    border: none;\n",
              "    border-radius: 50%;\n",
              "    cursor: pointer;\n",
              "    display: none;\n",
              "    fill: var(--fill-color);\n",
              "    height: 32px;\n",
              "    padding: 0;\n",
              "    width: 32px;\n",
              "  }\n",
              "\n",
              "  .colab-df-quickchart:hover {\n",
              "    background-color: var(--hover-bg-color);\n",
              "    box-shadow: 0 1px 2px rgba(60, 64, 67, 0.3), 0 1px 3px 1px rgba(60, 64, 67, 0.15);\n",
              "    fill: var(--button-hover-fill-color);\n",
              "  }\n",
              "\n",
              "  .colab-df-quickchart-complete:disabled,\n",
              "  .colab-df-quickchart-complete:disabled:hover {\n",
              "    background-color: var(--disabled-bg-color);\n",
              "    fill: var(--disabled-fill-color);\n",
              "    box-shadow: none;\n",
              "  }\n",
              "\n",
              "  .colab-df-spinner {\n",
              "    border: 2px solid var(--fill-color);\n",
              "    border-color: transparent;\n",
              "    border-bottom-color: var(--fill-color);\n",
              "    animation:\n",
              "      spin 1s steps(1) infinite;\n",
              "  }\n",
              "\n",
              "  @keyframes spin {\n",
              "    0% {\n",
              "      border-color: transparent;\n",
              "      border-bottom-color: var(--fill-color);\n",
              "      border-left-color: var(--fill-color);\n",
              "    }\n",
              "    20% {\n",
              "      border-color: transparent;\n",
              "      border-left-color: var(--fill-color);\n",
              "      border-top-color: var(--fill-color);\n",
              "    }\n",
              "    30% {\n",
              "      border-color: transparent;\n",
              "      border-left-color: var(--fill-color);\n",
              "      border-top-color: var(--fill-color);\n",
              "      border-right-color: var(--fill-color);\n",
              "    }\n",
              "    40% {\n",
              "      border-color: transparent;\n",
              "      border-right-color: var(--fill-color);\n",
              "      border-top-color: var(--fill-color);\n",
              "    }\n",
              "    60% {\n",
              "      border-color: transparent;\n",
              "      border-right-color: var(--fill-color);\n",
              "    }\n",
              "    80% {\n",
              "      border-color: transparent;\n",
              "      border-right-color: var(--fill-color);\n",
              "      border-bottom-color: var(--fill-color);\n",
              "    }\n",
              "    90% {\n",
              "      border-color: transparent;\n",
              "      border-bottom-color: var(--fill-color);\n",
              "    }\n",
              "  }\n",
              "</style>\n",
              "\n",
              "  <script>\n",
              "    async function quickchart(key) {\n",
              "      const quickchartButtonEl =\n",
              "        document.querySelector('#' + key + ' button');\n",
              "      quickchartButtonEl.disabled = true;  // To prevent multiple clicks.\n",
              "      quickchartButtonEl.classList.add('colab-df-spinner');\n",
              "      try {\n",
              "        const charts = await google.colab.kernel.invokeFunction(\n",
              "            'suggestCharts', [key], {});\n",
              "      } catch (error) {\n",
              "        console.error('Error during call to suggestCharts:', error);\n",
              "      }\n",
              "      quickchartButtonEl.classList.remove('colab-df-spinner');\n",
              "      quickchartButtonEl.classList.add('colab-df-quickchart-complete');\n",
              "    }\n",
              "    (() => {\n",
              "      let quickchartButtonEl =\n",
              "        document.querySelector('#df-86912780-59aa-4236-bf32-d865abeb4403 button');\n",
              "      quickchartButtonEl.style.display =\n",
              "        google.colab.kernel.accessAllowed ? 'block' : 'none';\n",
              "    })();\n",
              "  </script>\n",
              "</div>\n",
              "\n",
              "    </div>\n",
              "  </div>\n"
            ],
            "application/vnd.google.colaboratory.intrinsic+json": {
              "type": "dataframe",
              "summary": "{\n  \"name\": \")\",\n  \"rows\": 2,\n  \"fields\": [\n    {\n      \"column\": \"Dataset type\",\n      \"properties\": {\n        \"dtype\": \"string\",\n        \"num_unique_values\": 2,\n        \"samples\": [\n          \"Eval 1\",\n          \"Train\"\n        ],\n        \"semantic_type\": \"\",\n        \"description\": \"\"\n      }\n    },\n    {\n      \"column\": \"Rows\",\n      \"properties\": {\n        \"dtype\": \"number\",\n        \"std\": 8079,\n        \"min\": 3787,\n        \"max\": 15213,\n        \"num_unique_values\": 2,\n        \"samples\": [\n          3787,\n          15213\n        ],\n        \"semantic_type\": \"\",\n        \"description\": \"\"\n      }\n    },\n    {\n      \"column\": \"Mean target\",\n      \"properties\": {\n        \"dtype\": \"number\",\n        \"std\": 6.254147347560659,\n        \"min\": 50.3977,\n        \"max\": 59.2424,\n        \"num_unique_values\": 2,\n        \"samples\": [\n          59.2424,\n          50.3977\n        ],\n        \"semantic_type\": \"\",\n        \"description\": \"\"\n      }\n    },\n    {\n      \"column\": \"Baseline mean_absolute_percentage_error\",\n      \"properties\": {\n        \"dtype\": \"number\",\n        \"std\": 0.008016519567280823,\n        \"min\": 0.25284993510605497,\n        \"max\": 0.2641870058011328,\n        \"num_unique_values\": 2,\n        \"samples\": [\n          0.2641870058011328,\n          0.25284993510605497\n        ],\n        \"semantic_type\": \"\",\n        \"description\": \"\"\n      }\n    },\n    {\n      \"column\": \"Enriched mean_absolute_percentage_error\",\n      \"properties\": {\n        \"dtype\": \"number\",\n        \"std\": 0.01993840258449664,\n        \"min\": 0.15934060962916258,\n        \"max\": 0.1875377689762125,\n        \"num_unique_values\": 2,\n        \"samples\": [\n          0.1875377689762125,\n          0.15934060962916258\n        ],\n        \"semantic_type\": \"\",\n        \"description\": \"\"\n      }\n    },\n    {\n      \"column\": \"Uplift\",\n      \"properties\": {\n        \"dtype\": \"number\",\n        \"std\": 0.011921883017215817,\n        \"min\": 0.07664923682492031,\n        \"max\": 0.09350932547689239,\n        \"num_unique_values\": 2,\n        \"samples\": [\n          0.07664923682492031,\n          0.09350932547689239\n        ],\n        \"semantic_type\": \"\",\n        \"description\": \"\"\n      }\n    }\n  ]\n}"
            }
          },
          "metadata": {},
          "execution_count": 9
        }
      ]
    },
    {
      "cell_type": "code",
      "source": [
        "enriched_train_features = enricher.transform(train_features, keep_input=True)\n",
        "enriched_test_features = enricher.transform(test_features, keep_input=True)\n",
        "enriched_train_features.head()"
      ],
      "metadata": {
        "colab": {
          "base_uri": "https://localhost:8080/",
          "height": 549,
          "referenced_widgets": [
            "2b5684dd707c429ea0a2839ed03e9b68",
            "28915098c9174831bc32288f8271ecdd",
            "93226e48cfa44815a3eafb4b89742d0d"
          ]
        },
        "id": "KDgh_fNuU5gO",
        "outputId": "67a30d18-13d3-45dd-c40b-c2f697842110"
      },
      "execution_count": 10,
      "outputs": [
        {
          "output_type": "display_data",
          "data": {
            "text/plain": [
              "[============================================================] 100% Finished"
            ],
            "text/html": [
              "<progress style='width:60ex' max='100' value='100'></progress>  100% Finished</br>"
            ]
          },
          "metadata": {}
        },
        {
          "output_type": "stream",
          "name": "stdout",
          "text": [
            "You are trying to launch enrichment for 15213 rows, which will exceed the rest limit 9635.\n"
          ]
        },
        {
          "output_type": "display_data",
          "data": {
            "text/plain": [
              "Button(button_style='danger', description='Request a quote', style=ButtonStyle())"
            ],
            "application/vnd.jupyter.widget-view+json": {
              "version_major": 2,
              "version_minor": 0,
              "model_id": "2b5684dd707c429ea0a2839ed03e9b68"
            }
          },
          "metadata": {}
        },
        {
          "output_type": "display_data",
          "data": {
            "text/plain": [
              "[============================================================] 100% Finished"
            ],
            "text/html": [
              "<progress style='width:60ex' max='100' value='100'></progress>  100% Finished</br>"
            ]
          },
          "metadata": {}
        },
        {
          "output_type": "stream",
          "name": "stdout",
          "text": [
            "You use Trial access to Upgini data enrichment. Limit for Trial: 10000 rows. You have already enriched: 365 rows.\n",
            "\n",
            "WARNING: Search started with DATE search key only\n",
            "Try to add other keys like the COUNTRY, POSTAL_CODE, PHONE NUMBER, EMAIL/HEM, IPv4 to your training dataset\n",
            "for search through all the available data sources.\n",
            "See docs https://github.com/upgini/upgini#-total-239-countries-and-up-to-41-years-of-history\n",
            "\n"
          ]
        },
        {
          "output_type": "display_data",
          "data": {
            "text/plain": [
              "<IPython.core.display.HTML object>"
            ],
            "text/html": [
              "<table><tr><th style='font-weight:bold'>Column name</th><th style='font-weight:bold'>Status</th><th style='font-weight:bold'>Errors</th></tr><tr><td>date</td><td style='background-color:#DAF7A6;color:black'>All valid</td><td>-</td></tr></table>"
            ]
          },
          "metadata": {}
        },
        {
          "output_type": "stream",
          "name": "stdout",
          "text": [
            "\n",
            "Running search request, search_id=390d1c18-d706-4545-8ef5-b47ff4670523\n",
            "We'll send email notification once it's completed, just use your personal api_key from profile.upgini.com\n",
            "\n",
            "Retrieving selected features from data sources...\n"
          ]
        },
        {
          "output_type": "error",
          "ename": "AttributeError",
          "evalue": "'NoneType' object has no attribute 'head'",
          "traceback": [
            "\u001b[0;31m---------------------------------------------------------------------------\u001b[0m",
            "\u001b[0;31mAttributeError\u001b[0m                            Traceback (most recent call last)",
            "\u001b[0;32m<ipython-input-10-511638efbc3f>\u001b[0m in \u001b[0;36m<cell line: 3>\u001b[0;34m()\u001b[0m\n\u001b[1;32m      1\u001b[0m \u001b[0menriched_train_features\u001b[0m \u001b[0;34m=\u001b[0m \u001b[0menricher\u001b[0m\u001b[0;34m.\u001b[0m\u001b[0mtransform\u001b[0m\u001b[0;34m(\u001b[0m\u001b[0mtrain_features\u001b[0m\u001b[0;34m,\u001b[0m \u001b[0mkeep_input\u001b[0m\u001b[0;34m=\u001b[0m\u001b[0;32mTrue\u001b[0m\u001b[0;34m)\u001b[0m\u001b[0;34m\u001b[0m\u001b[0;34m\u001b[0m\u001b[0m\n\u001b[1;32m      2\u001b[0m \u001b[0menriched_test_features\u001b[0m \u001b[0;34m=\u001b[0m \u001b[0menricher\u001b[0m\u001b[0;34m.\u001b[0m\u001b[0mtransform\u001b[0m\u001b[0;34m(\u001b[0m\u001b[0mtest_features\u001b[0m\u001b[0;34m,\u001b[0m \u001b[0mkeep_input\u001b[0m\u001b[0;34m=\u001b[0m\u001b[0;32mTrue\u001b[0m\u001b[0;34m)\u001b[0m\u001b[0;34m\u001b[0m\u001b[0;34m\u001b[0m\u001b[0m\n\u001b[0;32m----> 3\u001b[0;31m \u001b[0menriched_train_features\u001b[0m\u001b[0;34m.\u001b[0m\u001b[0mhead\u001b[0m\u001b[0;34m(\u001b[0m\u001b[0;34m)\u001b[0m\u001b[0;34m\u001b[0m\u001b[0;34m\u001b[0m\u001b[0m\n\u001b[0m",
            "\u001b[0;31mAttributeError\u001b[0m: 'NoneType' object has no attribute 'head'"
          ]
        }
      ]
    },
    {
      "cell_type": "code",
      "source": [
        "model.fit(train_features, train_target)\n",
        "preds = model.predict(test_features)\n",
        "eval_metric(test_target.values, preds, \"SMAPE\")"
      ],
      "metadata": {
        "colab": {
          "base_uri": "https://localhost:8080/"
        },
        "id": "K2FJzLHmWiIt",
        "outputId": "298e4657-dcdb-40b0-c8c0-ed792e0c64f5"
      },
      "execution_count": 11,
      "outputs": [
        {
          "output_type": "execute_result",
          "data": {
            "text/plain": [
              "[37.65141857448004]"
            ]
          },
          "metadata": {},
          "execution_count": 11
        }
      ]
    },
    {
      "cell_type": "code",
      "source": [
        "model.fit(enriched_train_features, train_target)\n",
        "enriched_preds = model.predict(enriched_test_features)\n",
        "eval_metric(test_target.values, enriched_preds, \"SMAPE\")"
      ],
      "metadata": {
        "colab": {
          "base_uri": "https://localhost:8080/",
          "height": 408
        },
        "id": "ta0W_mpGXOlM",
        "outputId": "19c5e1bb-7171-448e-dade-db4f9b688174"
      },
      "execution_count": 12,
      "outputs": [
        {
          "output_type": "error",
          "ename": "CatBoostError",
          "evalue": "X must not be None",
          "traceback": [
            "\u001b[0;31m---------------------------------------------------------------------------\u001b[0m",
            "\u001b[0;31mCatBoostError\u001b[0m                             Traceback (most recent call last)",
            "\u001b[0;32m<ipython-input-12-fa7ae0b03aff>\u001b[0m in \u001b[0;36m<cell line: 1>\u001b[0;34m()\u001b[0m\n\u001b[0;32m----> 1\u001b[0;31m \u001b[0mmodel\u001b[0m\u001b[0;34m.\u001b[0m\u001b[0mfit\u001b[0m\u001b[0;34m(\u001b[0m\u001b[0menriched_train_features\u001b[0m\u001b[0;34m,\u001b[0m \u001b[0mtrain_target\u001b[0m\u001b[0;34m)\u001b[0m\u001b[0;34m\u001b[0m\u001b[0;34m\u001b[0m\u001b[0m\n\u001b[0m\u001b[1;32m      2\u001b[0m \u001b[0menriched_preds\u001b[0m \u001b[0;34m=\u001b[0m \u001b[0mmodel\u001b[0m\u001b[0;34m.\u001b[0m\u001b[0mpredict\u001b[0m\u001b[0;34m(\u001b[0m\u001b[0menriched_test_features\u001b[0m\u001b[0;34m)\u001b[0m\u001b[0;34m\u001b[0m\u001b[0;34m\u001b[0m\u001b[0m\n\u001b[1;32m      3\u001b[0m \u001b[0meval_metric\u001b[0m\u001b[0;34m(\u001b[0m\u001b[0mtest_target\u001b[0m\u001b[0;34m.\u001b[0m\u001b[0mvalues\u001b[0m\u001b[0;34m,\u001b[0m \u001b[0menriched_preds\u001b[0m\u001b[0;34m,\u001b[0m \u001b[0;34m\"SMAPE\"\u001b[0m\u001b[0;34m)\u001b[0m\u001b[0;34m\u001b[0m\u001b[0;34m\u001b[0m\u001b[0m\n",
            "\u001b[0;32m/usr/local/lib/python3.10/dist-packages/catboost/core.py\u001b[0m in \u001b[0;36mfit\u001b[0;34m(self, X, y, cat_features, text_features, embedding_features, sample_weight, baseline, use_best_model, eval_set, verbose, logging_level, plot, plot_file, column_description, verbose_eval, metric_period, silent, early_stopping_rounds, save_snapshot, snapshot_file, snapshot_interval, init_model, callbacks, log_cout, log_cerr)\u001b[0m\n\u001b[1;32m   5825\u001b[0m             \u001b[0mCatBoostRegressor\u001b[0m\u001b[0;34m.\u001b[0m\u001b[0m_check_is_compatible_loss\u001b[0m\u001b[0;34m(\u001b[0m\u001b[0mparams\u001b[0m\u001b[0;34m[\u001b[0m\u001b[0;34m'loss_function'\u001b[0m\u001b[0;34m]\u001b[0m\u001b[0;34m)\u001b[0m\u001b[0;34m\u001b[0m\u001b[0;34m\u001b[0m\u001b[0m\n\u001b[1;32m   5826\u001b[0m \u001b[0;34m\u001b[0m\u001b[0m\n\u001b[0;32m-> 5827\u001b[0;31m         return self._fit(X, y, cat_features, text_features, embedding_features, None, sample_weight, None, None, None, None, baseline,\n\u001b[0m\u001b[1;32m   5828\u001b[0m                          \u001b[0muse_best_model\u001b[0m\u001b[0;34m,\u001b[0m \u001b[0meval_set\u001b[0m\u001b[0;34m,\u001b[0m \u001b[0mverbose\u001b[0m\u001b[0;34m,\u001b[0m \u001b[0mlogging_level\u001b[0m\u001b[0;34m,\u001b[0m \u001b[0mplot\u001b[0m\u001b[0;34m,\u001b[0m \u001b[0mplot_file\u001b[0m\u001b[0;34m,\u001b[0m \u001b[0mcolumn_description\u001b[0m\u001b[0;34m,\u001b[0m\u001b[0;34m\u001b[0m\u001b[0;34m\u001b[0m\u001b[0m\n\u001b[1;32m   5829\u001b[0m                          \u001b[0mverbose_eval\u001b[0m\u001b[0;34m,\u001b[0m \u001b[0mmetric_period\u001b[0m\u001b[0;34m,\u001b[0m \u001b[0msilent\u001b[0m\u001b[0;34m,\u001b[0m \u001b[0mearly_stopping_rounds\u001b[0m\u001b[0;34m,\u001b[0m\u001b[0;34m\u001b[0m\u001b[0;34m\u001b[0m\u001b[0m\n",
            "\u001b[0;32m/usr/local/lib/python3.10/dist-packages/catboost/core.py\u001b[0m in \u001b[0;36m_fit\u001b[0;34m(self, X, y, cat_features, text_features, embedding_features, pairs, sample_weight, group_id, group_weight, subgroup_id, pairs_weight, baseline, use_best_model, eval_set, verbose, logging_level, plot, plot_file, column_description, verbose_eval, metric_period, silent, early_stopping_rounds, save_snapshot, snapshot_file, snapshot_interval, init_model, callbacks, log_cout, log_cerr)\u001b[0m\n\u001b[1;32m   2378\u001b[0m         \u001b[0;32mwith\u001b[0m \u001b[0mlog_fixup\u001b[0m\u001b[0;34m(\u001b[0m\u001b[0mlog_cout\u001b[0m\u001b[0;34m,\u001b[0m \u001b[0mlog_cerr\u001b[0m\u001b[0;34m)\u001b[0m\u001b[0;34m:\u001b[0m\u001b[0;34m\u001b[0m\u001b[0;34m\u001b[0m\u001b[0m\n\u001b[1;32m   2379\u001b[0m             \u001b[0;32mif\u001b[0m \u001b[0mX\u001b[0m \u001b[0;32mis\u001b[0m \u001b[0;32mNone\u001b[0m\u001b[0;34m:\u001b[0m\u001b[0;34m\u001b[0m\u001b[0;34m\u001b[0m\u001b[0m\n\u001b[0;32m-> 2380\u001b[0;31m                 \u001b[0;32mraise\u001b[0m \u001b[0mCatBoostError\u001b[0m\u001b[0;34m(\u001b[0m\u001b[0;34m\"X must not be None\"\u001b[0m\u001b[0;34m)\u001b[0m\u001b[0;34m\u001b[0m\u001b[0;34m\u001b[0m\u001b[0m\n\u001b[0m\u001b[1;32m   2381\u001b[0m \u001b[0;34m\u001b[0m\u001b[0m\n\u001b[1;32m   2382\u001b[0m             \u001b[0;32mif\u001b[0m \u001b[0my\u001b[0m \u001b[0;32mis\u001b[0m \u001b[0;32mNone\u001b[0m \u001b[0;32mand\u001b[0m \u001b[0;32mnot\u001b[0m \u001b[0misinstance\u001b[0m\u001b[0;34m(\u001b[0m\u001b[0mX\u001b[0m\u001b[0;34m,\u001b[0m \u001b[0mPATH_TYPES\u001b[0m \u001b[0;34m+\u001b[0m \u001b[0;34m(\u001b[0m\u001b[0mPool\u001b[0m\u001b[0;34m,\u001b[0m\u001b[0;34m)\u001b[0m\u001b[0;34m)\u001b[0m\u001b[0;34m:\u001b[0m\u001b[0;34m\u001b[0m\u001b[0;34m\u001b[0m\u001b[0m\n",
            "\u001b[0;31mCatBoostError\u001b[0m: X must not be None"
          ]
        }
      ]
    }
  ]
}